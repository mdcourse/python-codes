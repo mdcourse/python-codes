{
 "cells": [
  {
   "cell_type": "code",
   "execution_count": 1,
   "id": "64b4fa7f",
   "metadata": {},
   "outputs": [],
   "source": [
    "import pint\n",
    "import numpy as np\n",
    "import pint\n",
    "\n",
    "ureg = pint.UnitRegistry()\n",
    "data_file = \"systems/topology.data\"\n",
    "parameter_file = \"systems/parameters.inc\""
   ]
  },
  {
   "cell_type": "code",
   "execution_count": 2,
   "id": "62a09e6b",
   "metadata": {},
   "outputs": [],
   "source": [
    "if False:\n",
    "    from prepare_simulation import Prepare\n",
    "\n",
    "    self = Prepare(\n",
    "        ureg=ureg,\n",
    "        data_file=data_file,\n",
    "        parameter_file=parameter_file\n",
    "    )"
   ]
  },
  {
   "cell_type": "code",
   "execution_count": 6,
   "id": "04b3682a",
   "metadata": {},
   "outputs": [],
   "source": [
    "from initialize_simulation import InitializeSimulation\n",
    "\n",
    "self = InitializeSimulation(\n",
    "    ureg=ureg,\n",
    "    data_file=data_file,\n",
    "    parameter_file=parameter_file,\n",
    "    cut_off=12 * ureg.angstrom,\n",
    ")"
   ]
  },
  {
   "cell_type": "code",
   "execution_count": null,
   "id": "dfa8e150",
   "metadata": {},
   "outputs": [],
   "source": []
  },
  {
   "cell_type": "code",
   "execution_count": null,
   "id": "043094e1",
   "metadata": {},
   "outputs": [],
   "source": []
  },
  {
   "cell_type": "code",
   "execution_count": null,
   "id": "24225144",
   "metadata": {},
   "outputs": [],
   "source": []
  }
 ],
 "metadata": {
  "kernelspec": {
   "display_name": "Python 3",
   "language": "python",
   "name": "python3"
  },
  "language_info": {
   "codemirror_mode": {
    "name": "ipython",
    "version": 3
   },
   "file_extension": ".py",
   "mimetype": "text/x-python",
   "name": "python",
   "nbconvert_exporter": "python",
   "pygments_lexer": "ipython3",
   "version": "3.12.3"
  }
 },
 "nbformat": 4,
 "nbformat_minor": 5
}
