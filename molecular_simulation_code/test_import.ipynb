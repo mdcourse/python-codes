{
 "cells": [
  {
   "cell_type": "code",
   "execution_count": 1,
   "id": "64b4fa7f",
   "metadata": {},
   "outputs": [
    {
     "ename": "ValueError",
     "evalue": "too many values to unpack (expected 2)",
     "output_type": "error",
     "traceback": [
      "\u001b[31m---------------------------------------------------------------------------\u001b[39m",
      "\u001b[31mValueError\u001b[39m                                Traceback (most recent call last)",
      "\u001b[36mCell\u001b[39m\u001b[36m \u001b[39m\u001b[32mIn[1]\u001b[39m\u001b[32m, line 10\u001b[39m\n\u001b[32m      7\u001b[39m ureg = pint.UnitRegistry()\n\u001b[32m      8\u001b[39m param_file = \u001b[33m\"\u001b[39m\u001b[33mparameters.inc\u001b[39m\u001b[33m\"\u001b[39m\n\u001b[32m---> \u001b[39m\u001b[32m10\u001b[39m masses, pair_coeffs = read_inc_file(param_file, ureg)\n\u001b[32m     12\u001b[39m data_file = \u001b[33m\"\u001b[39m\u001b[33mtopology.data\u001b[39m\u001b[33m\"\u001b[39m\n\u001b[32m     14\u001b[39m number_atoms, atom_ids, atom_types, positions_array, box_bounds = read_data_file(data_file)\n",
      "\u001b[31mValueError\u001b[39m: too many values to unpack (expected 2)"
     ]
    }
   ],
   "source": [
    "import pint\n",
    "from typing import List, Dict, Tuple\n",
    "import numpy as np\n",
    "\n",
    "from file_parsers import read_inc_file, read_data_file\n",
    "\n",
    "ureg = pint.UnitRegistry()\n",
    "param_file = \"parameters.inc\"\n",
    "\n",
    "masses, pair_coeffs = read_inc_file(param_file, ureg)\n",
    "\n",
    "data_file = \"topology.data\"\n",
    "\n",
    "number_atoms, atom_ids, atom_types, positions_array, box_bounds = read_data_file(data_file)"
   ]
  },
  {
   "cell_type": "code",
   "execution_count": null,
   "id": "dcf43a78",
   "metadata": {},
   "outputs": [
    {
     "ename": "NameError",
     "evalue": "name 'Dict' is not defined",
     "output_type": "error",
     "traceback": [
      "\u001b[31m---------------------------------------------------------------------------\u001b[39m",
      "\u001b[31mNameError\u001b[39m                                 Traceback (most recent call last)",
      "\u001b[36mCell\u001b[39m\u001b[36m \u001b[39m\u001b[32mIn[12]\u001b[39m\u001b[32m, line 3\u001b[39m\n\u001b[32m      1\u001b[39m \u001b[38;5;28;01mdef\u001b[39;00m\u001b[38;5;250m \u001b[39m\u001b[34mconvert_params_to_arrays\u001b[39m(\n\u001b[32m      2\u001b[39m     species_order: List[\u001b[38;5;28mstr\u001b[39m],\n\u001b[32m----> \u001b[39m\u001b[32m3\u001b[39m     masses: \u001b[43mDict\u001b[49m[\u001b[38;5;28mstr\u001b[39m, pint.Quantity],\n\u001b[32m      4\u001b[39m     epsilons: Dict[Tuple[\u001b[38;5;28mstr\u001b[39m, \u001b[38;5;28mstr\u001b[39m], pint.Quantity],\n\u001b[32m      5\u001b[39m     sigmas: Dict[Tuple[\u001b[38;5;28mstr\u001b[39m, \u001b[38;5;28mstr\u001b[39m], pint.Quantity],\n\u001b[32m      6\u001b[39m ) -> Tuple[np.ndarray, np.ndarray, np.ndarray]:\n\u001b[32m      7\u001b[39m \u001b[38;5;250m    \u001b[39m\u001b[33;03m\"\"\"\u001b[39;00m\n\u001b[32m      8\u001b[39m \u001b[33;03m    Convert masses, epsilons, sigmas into arrays/matrices given a species order.\u001b[39;00m\n\u001b[32m      9\u001b[39m \n\u001b[32m   (...)\u001b[39m\u001b[32m     19\u001b[39m \u001b[33;03m        sigmas_matrix: (N,N) matrix of sigmas\u001b[39;00m\n\u001b[32m     20\u001b[39m \u001b[33;03m    \"\"\"\u001b[39;00m\n\u001b[32m     21\u001b[39m     N = \u001b[38;5;28mlen\u001b[39m(species_order)\n",
      "\u001b[31mNameError\u001b[39m: name 'Dict' is not defined"
     ]
    }
   ],
   "source": [
    "N = len(species_order)\n",
    "masses_array = np.zeros(N, dtype=object)  # dtype=object to hold pint.Quantity\n",
    "epsilons_matrix = np.zeros((N, N), dtype=object)\n",
    "sigmas_matrix = np.zeros((N, N), dtype=object)\n",
    "\n",
    "for i, sp in enumerate(species_order):\n",
    "    if sp not in masses:\n",
    "        raise KeyError(f\"Mass for species '{sp}' not found.\")\n",
    "    masses_array[i] = masses[sp]\n",
    "\n",
    "for i, sp1 in enumerate(species_order):\n",
    "    for j, sp2 in enumerate(species_order):\n",
    "        key = (sp1, sp2)\n",
    "        if key not in epsilons or key not in sigmas:\n",
    "            raise KeyError(f\"Pair coefficients for '{sp1}-{sp2}' not found.\")\n",
    "        epsilons_matrix[i, j] = epsilons[key]\n",
    "        sigmas_matrix[i, j] = sigmas[key]\n",
    "\n"
   ]
  },
  {
   "cell_type": "code",
   "execution_count": null,
   "id": "67b2d18c",
   "metadata": {},
   "outputs": [],
   "source": [
    "def convert_params_to_arrays(\n",
    "    species_order: List[str],\n",
    "    masses: Dict[str, pint.Quantity],\n",
    "    epsilons: Dict[Tuple[str, str], pint.Quantity],\n",
    "    sigmas: Dict[Tuple[str, str], pint.Quantity],\n",
    ") -> Tuple[np.ndarray, np.ndarray, np.ndarray]:\n",
    "    \"\"\"\n",
    "    Convert masses, epsilons, sigmas into arrays/matrices given a species order.\n",
    "\n",
    "    Args:\n",
    "        species_order: List of species names, defining the order of rows/columns.\n",
    "        masses: dict species -> mass (Quantity)\n",
    "        epsilons: dict (species1, species2) -> epsilon (Quantity)\n",
    "        sigmas: dict (species1, species2) -> sigma (Quantity)\n",
    "\n",
    "    Returns:\n",
    "        masses_array: (N,) array of masses\n",
    "        epsilons_matrix: (N,N) matrix of epsilons\n",
    "        sigmas_matrix: (N,N) matrix of sigmas\n",
    "    \"\"\""
   ]
  }
 ],
 "metadata": {
  "kernelspec": {
   "display_name": "Python 3",
   "language": "python",
   "name": "python3"
  },
  "language_info": {
   "codemirror_mode": {
    "name": "ipython",
    "version": 3
   },
   "file_extension": ".py",
   "mimetype": "text/x-python",
   "name": "python",
   "nbconvert_exporter": "python",
   "pygments_lexer": "ipython3",
   "version": "3.12.3"
  }
 },
 "nbformat": 4,
 "nbformat_minor": 5
}
