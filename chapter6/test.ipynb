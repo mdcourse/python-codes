{
 "cells": [
  {
   "cell_type": "code",
   "execution_count": 1,
   "metadata": {},
   "outputs": [
    {
     "name": "stdout",
     "output_type": "stream",
     "text": [
      "potential energy =  -1.74\n"
     ]
    }
   ],
   "source": [
    "import numpy as np\n",
    "from MonteCarlo import MonteCarlo\n",
    "\n",
    "mc = MonteCarlo(\n",
    "    maximum_steps=500,\n",
    "    displace_mc=1,\n",
    "    number_atoms=[20],\n",
    "    Lx=30,\n",
    "    sigma=[3],\n",
    "    epsilon=[0.1],\n",
    "    atom_mass=[1],\n",
    "    data_folder = \"mc-output/\")\n",
    "mc.run()\n",
    "print(\"potential energy = \",\n",
    "      np.round(mc.calculate_potential_energy(mc.atoms_positions),2))"
   ]
  }
 ],
 "metadata": {
  "kernelspec": {
   "display_name": "Python 3",
   "language": "python",
   "name": "python3"
  },
  "language_info": {
   "codemirror_mode": {
    "name": "ipython",
    "version": 3
   },
   "file_extension": ".py",
   "mimetype": "text/x-python",
   "name": "python",
   "nbconvert_exporter": "python",
   "pygments_lexer": "ipython3",
   "version": "3.11.4"
  }
 },
 "nbformat": 4,
 "nbformat_minor": 4
}
