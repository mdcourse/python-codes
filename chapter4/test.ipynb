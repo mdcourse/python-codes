{
 "cells": [
  {
   "cell_type": "code",
   "execution_count": 5,
   "metadata": {},
   "outputs": [],
   "source": [
    "import os\n",
    "from MolecularDynamics import MolecularDynamics\n",
    "\n",
    "# 20 atoms\n",
    "md = MolecularDynamics(number_atoms=[20],\n",
    "                       Lx=30,\n",
    "                       sigma=[3],\n",
    "                       epsilon=[0.1],\n",
    "                       atom_mass=[1],\n",
    "                       data_folder = \"md-output/\")\n",
    "md.run()\n",
    "os.system(\"atomsk initial.data 20atoms/system.pdb\")\n",
    "\n",
    "# 200 atoms\n",
    "md = MolecularDynamics(number_atoms=[200],\n",
    "                       Lx=30,\n",
    "                       sigma=[3],\n",
    "                       epsilon=[0.1],\n",
    "                       atom_mass=[1],\n",
    "                       data_folder = \"md-output/\")\n",
    "md.run()\n",
    "os.system(\"atomsk initial.data 200atoms/system.pdb\")\n",
    "\n",
    "# 10-60 atoms\n",
    "md = MolecularDynamics(number_atoms=[10, 60],\n",
    "                       Lx=30,\n",
    "                       sigma=[3, 6],\n",
    "                       epsilon=[0.1, 0.1],\n",
    "                       atom_mass=[1, 1],\n",
    "                       data_folder = \"md-output/\")\n",
    "md.run()\n",
    "os.system(\"atomsk initial.data 1060atoms/system.pdb\")"
   ]
  }
 ],
 "metadata": {
  "kernelspec": {
   "display_name": "Python 3",
   "language": "python",
   "name": "python3"
  },
  "language_info": {
   "codemirror_mode": {
    "name": "ipython",
    "version": 3
   },
   "file_extension": ".py",
   "mimetype": "text/x-python",
   "name": "python",
   "nbconvert_exporter": "python",
   "pygments_lexer": "ipython3",
   "version": "3.11.4"
  }
 },
 "nbformat": 4,
 "nbformat_minor": 4
}
