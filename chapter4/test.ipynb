{
 "cells": [
  {
   "cell_type": "code",
   "execution_count": 5,
   "metadata": {},
   "outputs": [],
   "source": [
    "import os\n",
    "from MolecularDynamics import MolecularDynamics"
   ]
  },
  {
   "cell_type": "code",
   "execution_count": 6,
   "metadata": {},
   "outputs": [
    {
     "name": "stdout",
     "output_type": "stream",
     "text": [
      " ___________________________________________________\n",
      "|              ___________                          |\n",
      "|     o---o    A T O M S K                          |\n",
      "|    o---o|    Version Beta 0.13.1                  |\n",
      "|    |   |o    (C) 2010 Pierre Hirel                |\n",
      "|    o---o     https://atomsk.univ-lille.fr         |\n",
      "|___________________________________________________|\n",
      ">>> Opening the input file: initial.data\n",
      "..> Input file was read successfully (20 atoms).\n",
      ">>> Writing output file(s) (20 atoms):\n",
      "..> Successfully wrote PDB file: 20atoms.pdb\n",
      "\\o/ Program terminated successfully!\n",
      "    Total time: 0.005 s.; CPU time: 0.064 s.\n"
     ]
    },
    {
     "data": {
      "text/plain": [
       "0"
      ]
     },
     "execution_count": 6,
     "metadata": {},
     "output_type": "execute_result"
    }
   ],
   "source": [
    "# 20 atoms\n",
    "md = MolecularDynamics(number_atoms=[20],\n",
    "                       Lx=30,\n",
    "                       sigma=[3],\n",
    "                       epsilon=[0.1],\n",
    "                       atom_mass=[1],\n",
    "                       data_folder = \"md-output/\")\n",
    "md.run()\n",
    "os.system(\"atomsk initial.data 20atoms/system.pdb\")"
   ]
  },
  {
   "cell_type": "code",
   "execution_count": 7,
   "metadata": {},
   "outputs": [
    {
     "name": "stdout",
     "output_type": "stream",
     "text": [
      " ___________________________________________________\n",
      "|              ___________                          |\n",
      "|     o---o    A T O M S K                          |\n",
      "|    o---o|    Version Beta 0.13.1                  |\n",
      "|    |   |o    (C) 2010 Pierre Hirel                |\n",
      "|    o---o     https://atomsk.univ-lille.fr         |\n",
      "|___________________________________________________|\n",
      ">>> Opening the input file: initial.data\n",
      "..> Input file was read successfully (200 atoms).\n",
      ">>> Writing output file(s) (200 atoms):\n",
      "..> Successfully wrote PDB file: 200atoms.pdb\n",
      "\\o/ Program terminated successfully!\n",
      "    Total time: 0.023 s.; CPU time: 0.403 s.\n"
     ]
    },
    {
     "data": {
      "text/plain": [
       "0"
      ]
     },
     "execution_count": 7,
     "metadata": {},
     "output_type": "execute_result"
    }
   ],
   "source": [
    "# 200 atoms\n",
    "md = MolecularDynamics(number_atoms=[200],\n",
    "                       Lx=30,\n",
    "                       sigma=[3],\n",
    "                       epsilon=[0.1],\n",
    "                       atom_mass=[1],\n",
    "                       data_folder = \"md-output/\")\n",
    "md.run()\n",
    "os.system(\"atomsk initial.data 200atoms/system.pdb\")"
   ]
  },
  {
   "cell_type": "code",
   "execution_count": 8,
   "metadata": {},
   "outputs": [
    {
     "name": "stdout",
     "output_type": "stream",
     "text": [
      " ___________________________________________________\n",
      "|              ___________                          |\n",
      "|     o---o    A T O M S K                          |\n",
      "|    o---o|    Version Beta 0.13.1                  |\n",
      "|    |   |o    (C) 2010 Pierre Hirel                |\n",
      "|    o---o     https://atomsk.univ-lille.fr         |\n",
      "|___________________________________________________|\n",
      ">>> Opening the input file: initial.data\n",
      "..> Input file was read successfully (70 atoms).\n",
      ">>> Writing output file(s) (70 atoms):\n",
      "..> Successfully wrote PDB file: 1060atoms.pdb\n",
      "\\o/ Program terminated successfully!\n",
      "    Total time: 0.023 s.; CPU time: 0.409 s.\n"
     ]
    },
    {
     "data": {
      "text/plain": [
       "0"
      ]
     },
     "execution_count": 8,
     "metadata": {},
     "output_type": "execute_result"
    }
   ],
   "source": [
    "# 10-60 atoms\n",
    "md = MolecularDynamics(number_atoms=[10, 60],\n",
    "                       Lx=30,\n",
    "                       sigma=[3, 6],\n",
    "                       epsilon=[0.1, 0.1],\n",
    "                       atom_mass=[1, 1],\n",
    "                       data_folder = \"md-output/\")\n",
    "md.run()\n",
    "os.system(\"atomsk initial.data 1060atoms/system.pdb\")"
   ]
  }
 ],
 "metadata": {
  "kernelspec": {
   "display_name": "Python 3",
   "language": "python",
   "name": "python3"
  },
  "language_info": {
   "codemirror_mode": {
    "name": "ipython",
    "version": 3
   },
   "file_extension": ".py",
   "mimetype": "text/x-python",
   "name": "python",
   "nbconvert_exporter": "python",
   "pygments_lexer": "ipython3",
   "version": "3.11.4"
  }
 },
 "nbformat": 4,
 "nbformat_minor": 4
}
