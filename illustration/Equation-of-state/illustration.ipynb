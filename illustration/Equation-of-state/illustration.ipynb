{
 "cells": [
  {
   "cell_type": "code",
   "execution_count": null,
   "metadata": {},
   "outputs": [],
   "source": [
    "import warnings\n",
    "warnings.filterwarnings(\"ignore\")\n",
    "\n",
    "from scipy import constants as cst\n",
    "from pint import UnitRegistry\n",
    "ureg = UnitRegistry()\n",
    "ureg = UnitRegistry(autoconvert_offset_to_baseunit = True)\n",
    "import sys\n",
    "import multiprocessing\n",
    "import subprocess\n",
    "import numpy as np\n",
    "import shutil\n",
    "import os\n",
    "\n",
    "path_to_code = \"generated-codes/chapter7/\"\n",
    "sys.path.append(path_to_code)\n",
    "\n",
    "from MinimizeEnergy import MinimizeEnergy\n",
    "from MonteCarlo import MonteCarlo\n",
    "from WriteLAMMPSfiles import write_topology_file, write_lammps_parameters, write_lammps_variables"
   ]
  },
  {
   "cell_type": "markdown",
   "metadata": {},
   "source": [
    "\"The values of the potential constants for argon have been taken throughout as  \n",
    "E*/k= 119.76°K, r*=3.822 A, v*=23.79 cm3/mole, as determined by Michels6 from  \n",
    "second virial coefficient data.\" [1]  \n",
    "\n",
    "[1] Wood and Parker. The Journal of Chemical Physics, 27(3):720–733, 1957.  "
   ]
  },
  {
   "cell_type": "code",
   "execution_count": null,
   "metadata": {},
   "outputs": [],
   "source": [
    "kB = cst.Boltzmann*ureg.J/ureg.kelvin # boltzman constant\n",
    "Na = cst.Avogadro/ureg.mole # avogadro\n",
    "R = kB*Na # gas constant"
   ]
  },
  {
   "cell_type": "code",
   "execution_count": null,
   "metadata": {},
   "outputs": [],
   "source": [
    "def launch_MC_code(tau):\n",
    "\n",
    "    epsilon = (119.76*ureg.kelvin*kB*Na).to(ureg.kcal/ureg.mol) # kcal/mol\n",
    "    r_star = 3.822*ureg.angstrom # angstrom\n",
    "    sigma = r_star / 2**(1/6) # angstrom\n",
    "    N_atom = 200 # no units\n",
    "    m_argon = 39.948*ureg.gram/ureg.mol\n",
    "    T = (55 * ureg.degC).to(ureg.degK) # 55°C\n",
    "    # volume_star = (23.79 * ureg.centimeter**3/ureg.mole).to(ureg.angstrom**3/ureg.mole)\n",
    "    volume_star = r_star**3 * Na * 2**(-0.5)\n",
    "    cut_off = sigma*2.5\n",
    "    displace_mc = sigma/5 # angstrom\n",
    "    volume = N_atom*volume_star*tau/Na\n",
    "    box_size = volume**(1/3)\n",
    "    folder = \"outputs_tau\"+str(tau)+\"/\"\n",
    "\n",
    "    em = MinimizeEnergy(maximum_steps=100,\n",
    "                        thermo_period=10,\n",
    "                        dumping_period=10,\n",
    "        number_atoms=[N_atom],\n",
    "        epsilon=[epsilon.magnitude], \n",
    "        sigma=[sigma.magnitude],\n",
    "        atom_mass=[m_argon.magnitude],\n",
    "        box_dimensions=[box_size.magnitude,\n",
    "                        box_size.magnitude,\n",
    "                        box_size.magnitude],\n",
    "        cut_off=cut_off.magnitude,\n",
    "        data_folder=folder,\n",
    "    )\n",
    "    em.run()\n",
    "\n",
    "    mc = MonteCarlo(maximum_steps=20000,\n",
    "        dumping_period=1000,\n",
    "        thermo_period=1000,\n",
    "        neighbor=50,\n",
    "        displace_mc = displace_mc.magnitude,\n",
    "        desired_temperature = T.magnitude,\n",
    "        number_atoms=[N_atom],\n",
    "        epsilon=[epsilon.magnitude], \n",
    "        sigma=[sigma.magnitude],\n",
    "        atom_mass=[m_argon.magnitude],\n",
    "        box_dimensions=[box_size.magnitude,\n",
    "                        box_size.magnitude,\n",
    "                        box_size.magnitude],\n",
    "        initial_positions = em.atoms_positions*em.reference_distance,\n",
    "        cut_off=cut_off.magnitude,\n",
    "        data_folder=folder,\n",
    "    )\n",
    "    mc.run()\n",
    "\n",
    "    folder = \"lammps_tau\"+str(tau)+\"/\"\n",
    "    if os.path.exists(folder) is False:\n",
    "        os.mkdir(folder)\n",
    "\n",
    "    write_topology_file(mc, filename=folder+\"initial.data\")\n",
    "    write_lammps_parameters(mc, filename=folder+\"PARM.lammps\")\n",
    "    write_lammps_variables(mc, filename=folder+\"variable.lammps\")\n",
    "\n",
    "    mycwd = os.getcwd() # initial path\n",
    "    os.chdir(folder)\n",
    "    shutil.copyfile(\"../lammps/input.lmp\", \"input.lmp\")\n",
    "    subprocess.call([\"/home/simon/Softwares/lammps-2Aug2023/src/lmp_serial\", \"-in\", \"input.lmp\"])\n",
    "    os.chdir(mycwd)"
   ]
  },
  {
   "cell_type": "code",
   "execution_count": null,
   "metadata": {},
   "outputs": [],
   "source": [
    "if __name__ == \"__main__\":\n",
    "    tau_values = np.round(np.logspace(-0.126, 0.882, 10),2)\n",
    "    pool = multiprocessing.Pool()\n",
    "    squared_numbers = pool.map(launch_MC_code, tau_values)\n",
    "    pool.close()\n",
    "    pool.join()"
   ]
  }
 ],
 "metadata": {
  "kernelspec": {
   "display_name": "Python 3",
   "language": "python",
   "name": "python3"
  },
  "language_info": {
   "codemirror_mode": {
    "name": "ipython",
    "version": 3
   },
   "file_extension": ".py",
   "mimetype": "text/x-python",
   "name": "python",
   "nbconvert_exporter": "python",
   "pygments_lexer": "ipython3",
   "version": "3.11.6"
  }
 },
 "nbformat": 4,
 "nbformat_minor": 2
}
