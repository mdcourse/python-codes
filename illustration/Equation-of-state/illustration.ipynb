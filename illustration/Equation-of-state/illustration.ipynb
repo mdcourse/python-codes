{
 "cells": [
  {
   "cell_type": "code",
   "execution_count": 188,
   "metadata": {},
   "outputs": [],
   "source": [
    "from scipy import constants as cst\n",
    "from pint import UnitRegistry\n",
    "ureg = UnitRegistry()\n",
    "import sys\n",
    "import numpy as np\n",
    "import matplotlib.pyplot as plt\n",
    "import MDAnalysis as mda\n",
    "from MDAnalysis.analysis.rdf import InterRDF\n",
    "\n",
    "path_to_code = \"generated-codes/chapter6/\"\n",
    "sys.path.append(path_to_code)\n",
    "\n",
    "from MonteCarlo import MonteCarlo\n",
    "from Potentials import LJ_potential"
   ]
  },
  {
   "cell_type": "markdown",
   "metadata": {},
   "source": [
    "\"The values of the potential constants for argon have been taken throughout as  \n",
    "E*/k= 119.76°K, r*=3.822 A, v*=23.79 cm3/mole, as determined by Michels6 from  \n",
    "second virial coefficient data.\" [1]  \n",
    "\n",
    "[1] Wood and Parker. The Journal of Chemical Physics, 27(3):720–733, 1957.  "
   ]
  },
  {
   "cell_type": "code",
   "execution_count": 201,
   "metadata": {},
   "outputs": [],
   "source": [
    "kB = cst.Boltzmann*ureg.J/ureg.kelvin\n",
    "Na = cst.Avogadro/ureg.mole\n",
    "R = kB*Na\n",
    "epsilon = ((119.76*ureg.kelvin)*kB*Na).to(ureg.kcal/ureg.mol) # kcal/mol\n",
    "r_star = 3.822*ureg.angstrom\n",
    "sigma = r_star / 2**(1/6)\n",
    "N_atom = 32 # no units\n",
    "m_argon = 39.948*ureg.gram/ureg.mol\n",
    "T = (273.15+55)*ureg.kelvin # 55°C"
   ]
  },
  {
   "cell_type": "code",
   "execution_count": 208,
   "metadata": {},
   "outputs": [
    {
     "name": "stdout",
     "output_type": "stream",
     "text": [
      "step  N     T (K)     p (atm)   V (A3)    Ep (kcal/mol) Ek (kcal/mol) dens (g/cm3) \n",
      "0     32    3.28e+02  0.0       1.26e+03  5.61e+04      0.0           1.68         \n",
      "1000  32    3.28e+02  0.0       1.26e+03  4.51e+02      0.0           1.68         \n",
      "2000  32    3.28e+02  0.0       1.26e+03  3.97e+02      0.0           1.68         \n",
      "3000  32    3.28e+02  0.0       1.26e+03  5.94e+02      0.0           1.68         \n",
      "4000  32    3.28e+02  0.0       1.26e+03  8.64e+02      0.0           1.68         \n",
      "5000  32    3.28e+02  0.0       1.26e+03  7.99e+02      0.0           1.68         \n",
      "6000  32    3.28e+02  0.0       1.26e+03  7.71e+02      0.0           1.68         \n",
      "7000  32    3.28e+02  0.0       1.26e+03  7.57e+02      0.0           1.68         \n",
      "8000  32    3.28e+02  0.0       1.26e+03  1.04e+03      0.0           1.68         \n",
      "9000  32    3.28e+02  0.0       1.26e+03  8.33e+02      0.0           1.68         \n",
      "10000 32    3.28e+02  0.0       1.26e+03  4.49e+02      0.0           1.68         \n",
      "11000 32    3.28e+02  0.0       1.26e+03  7.47e+02      0.0           1.68         \n",
      "12000 32    3.28e+02  0.0       1.26e+03  4.57e+02      0.0           1.68         \n",
      "13000 32    3.28e+02  0.0       1.26e+03  1.39e+03      0.0           1.68         \n",
      "14000 32    3.28e+02  0.0       1.26e+03  7.56e+02      0.0           1.68         \n",
      "15000 32    3.28e+02  0.0       1.26e+03  5.65e+02      0.0           1.68         \n",
      "16000 32    3.28e+02  0.0       1.26e+03  7.26e+02      0.0           1.68         \n",
      "17000 32    3.28e+02  0.0       1.26e+03  9.48e+02      0.0           1.68         \n",
      "18000 32    3.28e+02  0.0       1.26e+03  7.23e+02      0.0           1.68         \n",
      "19000 32    3.28e+02  0.0       1.26e+03  7.61e+02      0.0           1.68         \n",
      "20000 32    3.28e+02  0.0       1.26e+03  9.76e+02      0.0           1.68         \n"
     ]
    },
    {
     "name": "stderr",
     "output_type": "stream",
     "text": [
      "/home/simon/.local/lib/python3.12/site-packages/matplotlib/cbook.py:1398: UnitStrippedWarning: The unit of the quantity is stripped when downcasting to ndarray.\n",
      "  return np.asarray(x, float)\n"
     ]
    },
    {
     "data": {
      "text/plain": [
       "[<matplotlib.lines.Line2D at 0x7c109cf6f590>]"
      ]
     },
     "execution_count": 208,
     "metadata": {},
     "output_type": "execute_result"
    },
    {
     "data": {
      "image/png": "[encoded data removed]",
      "text/plain": [
       "<Figure size 640x480 with 1 Axes>"
      ]
     },
     "metadata": {},
     "output_type": "display_data"
    }
   ],
   "source": [
    "Literature = np.loadtxt(\"literature-data/excess-energy.dat\")\n",
    "\n",
    "volume_star = (23.79 * ureg.centimeter**3/ureg.mole).to(ureg.angstrom**3/ureg.mole)\n",
    "\n",
    "for tau in [1]:\n",
    "\n",
    "    volume = N_atom*volume_star*tau/Na\n",
    "    box_size = volume**(1/3)\n",
    "\n",
    "    mc = MonteCarlo(maximum_steps=20000,\n",
    "        dumping_period=1000,\n",
    "        thermo_period=1000,\n",
    "        displace_mc = 2,\n",
    "        desired_temperature = T.magnitude,\n",
    "        number_atoms=[N_atom],\n",
    "        epsilon=[epsilon.magnitude], \n",
    "        sigma=[sigma.magnitude],\n",
    "        atom_mass=[m_argon.magnitude],\n",
    "        box_dimensions=[box_size.magnitude,\n",
    "                        box_size.magnitude,\n",
    "                        box_size.magnitude],\n",
    "        neighbor=10,\n",
    "        # data_folder=\n",
    "    )\n",
    "    mc.run()\n",
    "\n",
    "    Epot = np.loadtxt(\"Outputs/Epot.dat\")[:,1][5:] # kcal/mol\n",
    "    Epot = np.mean(Epot)*ureg.kcal/ureg.mol # kcal/mol\n",
    "\n",
    "    # Eref = (3/2*kB*T*N_atom).to(ureg.kcal)*Na # kcal/mol\n",
    "    # Epot = Epot.to(ureg.joule/ureg.mol) / Na\n",
    "    # mean_of_U2 = np.mean((Epot/(kB*T*N_atom))**2)\n",
    "    # square_of_mean_U = np.mean(Epot/(kB*T*N_atom))**2\n",
    "    # Cv_over_R = N_atom*(mean_of_U2-square_of_mean_U)\n",
    "\n",
    "    E_ideal = (3/2*kB*T*N_atom).to(ureg.kcal)*Na # kcal/mol\n",
    "    Epot_corrected = (Epot - E_ideal).to(ureg.joule/ureg.mol) # J/mol\n",
    "    E_excess = Epot_corrected / N_atom / R / T # no units\n",
    "\n",
    "    plt.semilogx(tau, E_excess, \"o\")\n",
    "\n",
    "plt.semilogx(Literature[:,0], Literature[:,1], '.')"
   ]
  },
  {
   "cell_type": "code",
   "execution_count": null,
   "metadata": {},
   "outputs": [],
   "source": []
  },
  {
   "cell_type": "code",
   "execution_count": null,
   "metadata": {},
   "outputs": [],
   "source": []
  },
  {
   "cell_type": "code",
   "execution_count": null,
   "metadata": {},
   "outputs": [],
   "source": []
  },
  {
   "cell_type": "code",
   "execution_count": null,
   "metadata": {},
   "outputs": [],
   "source": []
  },
  {
   "cell_type": "code",
   "execution_count": null,
   "metadata": {},
   "outputs": [],
   "source": []
  }
 ],
 "metadata": {
  "kernelspec": {
   "display_name": "Python 3",
   "language": "python",
   "name": "python3"
  },
  "language_info": {
   "codemirror_mode": {
    "name": "ipython",
    "version": 3
   },
   "file_extension": ".py",
   "mimetype": "text/x-python",
   "name": "python",
   "nbconvert_exporter": "python",
   "pygments_lexer": "ipython3",
   "version": "3.12.3"
  }
 },
 "nbformat": 4,
 "nbformat_minor": 2
}
