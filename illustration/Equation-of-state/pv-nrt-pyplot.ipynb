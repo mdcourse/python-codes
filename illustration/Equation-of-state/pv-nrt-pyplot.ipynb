{
 "cells": [
  {
   "cell_type": "code",
   "execution_count": null,
   "id": "15134151",
   "metadata": {},
   "outputs": [],
   "source": [
    "import warnings\n",
    "warnings.filterwarnings(\"ignore\")\n",
    "\n",
    "import numpy as np\n",
    "import sys, os, git\n",
    "from scipy import constants as cst\n",
    "from pint import UnitRegistry\n",
    "ureg = UnitRegistry()\n",
    "ureg = UnitRegistry(autoconvert_offset_to_baseunit = True)"
   ]
  },
  {
   "cell_type": "code",
   "execution_count": null,
   "id": "11014d02",
   "metadata": {},
   "outputs": [],
   "source": [
    "current_path = os.getcwd()\n",
    "git_repo = git.Repo(current_path, search_parent_directories=True)\n",
    "git_path = git_repo.git.rev_parse(\"--show-toplevel\")\n",
    "path_in_folder = current_path[len(git_path)+1:]\n",
    "sys.path.append(git_path + \"/pyplot-perso\")\n",
    "from plttools import PltTools\n",
    "path_figures = current_path[len(git_path):] + '/'"
   ]
  },
  {
   "cell_type": "code",
   "execution_count": null,
   "metadata": {},
   "outputs": [],
   "source": [
    "Wood1957 = np.loadtxt(\"literature-data/pv-nrt.dat\")"
   ]
  },
  {
   "cell_type": "code",
   "execution_count": null,
   "id": "d51e3f62",
   "metadata": {},
   "outputs": [],
   "source": [
    "kB = cst.Boltzmann*ureg.J/ureg.kelvin # boltzman constant\n",
    "Na = cst.Avogadro/ureg.mole # avogadro\n",
    "R = kB*Na # gas constant\n",
    "\n",
    "r_star = 3.822*ureg.angstrom # angstrom\n",
    "sigma = r_star / 2**(1/6) # angstrom\n",
    "N_atom = 200 # no units\n",
    "T = (55 * ureg.degC).to(ureg.degK) # 55°C\n",
    "volume_star = r_star**3 * Na * 2**(-0.5) "
   ]
  },
  {
   "cell_type": "code",
   "execution_count": null,
   "id": "eb775da8",
   "metadata": {},
   "outputs": [],
   "source": [
    "jump = 10\n",
    "N_atom = 200\n",
    "T = (55 * ureg.degC).to(ureg.degK) # 55°C\n",
    "pressure_vs_tau = []\n",
    "for folder in [x[0] for x in os.walk(\"./\")]:\n",
    "    if \"outputs_tau\" in folder:\n",
    "        pressure = np.mean(np.loadtxt(folder+\"/pressure.dat\")[:,1][jump:]) # atm\n",
    "        pressure = (pressure*ureg.atm).to(ureg.pascal)\n",
    "        tau = np.float32(folder.split(\"./outputs_tau\")[1])\n",
    "        volume = (volume_star * tau / Na).to(ureg.meter**3)\n",
    "        pressure_normalized = pressure * volume / (R * T) * Na\n",
    "        pressure_vs_tau.append([tau, pressure_normalized.magnitude])\n",
    "pressure_vs_tau = np.array(pressure_vs_tau)"
   ]
  },
  {
   "cell_type": "code",
   "execution_count": null,
   "id": "cd60cbf6",
   "metadata": {},
   "outputs": [],
   "source": [
    "jump = 10\n",
    "N_atom = 200\n",
    "T = (55 * ureg.degC).to(ureg.degK) # 55°C\n",
    "pressure_vs_tau_lmp = []\n",
    "for folder in [x[0] for x in os.walk(\"./\")]:\n",
    "    if \"lammps_tau\" in folder:\n",
    "        pressure = np.mean(np.loadtxt(folder+\"/pressure.dat\")[:,1][jump:]) # atm\n",
    "        pressure = (pressure*ureg.atm).to(ureg.pascal)\n",
    "        tau = np.float32(folder.split(\"./lammps_tau\")[1])\n",
    "        volume = (volume_star * tau / Na).to(ureg.meter**3)\n",
    "        pressure_normalized = pressure * volume / (R * T) * Na\n",
    "        pressure_vs_tau_lmp.append([tau, pressure_normalized.magnitude])\n",
    "pressure_vs_tau_lmp = np.array(pressure_vs_tau_lmp)"
   ]
  },
  {
   "cell_type": "code",
   "execution_count": null,
   "id": "19f9a92f",
   "metadata": {},
   "outputs": [],
   "source": [
    "filename = \"pv-nrt\"\n",
    "for dark_mode in [False, True]:\n",
    "    myplt = PltTools()\n",
    "    myplt.prepare_figure(fig_size = (18,6), dark_mode = dark_mode,\n",
    "                        transparency = True, use_serif=True)\n",
    "    myplt.add_panel()\n",
    "    myplt.add_plot(x = Wood1957[:,0], y = Wood1957[:,1], type = \"loglog\",\n",
    "                   linewidth_data = 3, marker = \"o\", data_color = \"autogray\",\n",
    "                   markersize = 12, data_label = r'$\\mathrm{Wood1957}$')\n",
    "    myplt.add_plot(x = pressure_vs_tau_lmp[:,0], y = pressure_vs_tau_lmp[:,1], type = \"loglog\",\n",
    "                   linewidth_data = 3, marker = \"s\", data_color = 1,\n",
    "                   markersize = 12, data_label = r'$\\mathrm{LAMMPS}$')\n",
    "    myplt.add_plot(x = pressure_vs_tau[:,0], y = pressure_vs_tau[:,1], type = \"loglog\",\n",
    "                   linewidth_data = 3, marker = \"o\", data_color = 0,\n",
    "                   markersize = 12, data_label = r'$\\mathrm{MC~move}$')\n",
    "    myplt.complete_panel(ylabel = r'$p V / R T$', xlabel = r'$v / v^*$',\n",
    "                         xpad = 10, legend=True, handlelength_legend=1)\n",
    "    myplt.set_boundaries(x_boundaries=(0.6, 10), # y_ticks=np.arange(-2., 0.6, 0.5),\n",
    "                         y_boundaries=(0.8, 25))\n",
    "    myplt.save_figure(filename = filename, saving_path = './')"
   ]
  },
  {
   "cell_type": "code",
   "execution_count": null,
   "id": "da0c3fde",
   "metadata": {},
   "outputs": [],
   "source": []
  }
 ],
 "metadata": {
  "kernelspec": {
   "display_name": "Python 3.10.6 64-bit",
   "language": "python",
   "name": "python3"
  },
  "language_info": {
   "codemirror_mode": {
    "name": "ipython",
    "version": 3
   },
   "file_extension": ".py",
   "mimetype": "text/x-python",
   "name": "python",
   "nbconvert_exporter": "python",
   "pygments_lexer": "ipython3",
   "version": "3.11.6"
  },
  "vscode": {
   "interpreter": {
    "hash": "916dbcbb3f70747c44a77c7bcd40155683ae19c65e1c03b4aa3499c5328201f1"
   }
  }
 },
 "nbformat": 4,
 "nbformat_minor": 5
}
