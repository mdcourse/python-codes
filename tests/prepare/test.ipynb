{
 "cells": [
  {
   "cell_type": "code",
   "execution_count": 17,
   "metadata": {},
   "outputs": [
    {
     "name": "stdout",
     "output_type": "stream",
     "text": [
      "Reference energy:\n",
      "0.1\n",
      "Reference distance:\n",
      "3\n",
      "array_epsilon_ij:\n",
      "[ 1.   5.5  5.5  5.5  5.5  5.5  5.5 10.  10.  10. ]\n",
      "array_sigma_ij:\n",
      "[1.  1.5 1.5 1.5 1.5 1.5 1.5 2.  2.  2. ]\n"
     ]
    }
   ],
   "source": [
    "import sys, os, git\n",
    "current_path = os.getcwd()\n",
    "git_repo = git.Repo(current_path, search_parent_directories=True)\n",
    "git_path = git_repo.git.rev_parse(\"--show-toplevel\")\n",
    "sys.path.append(git_path+\"/python-codes/\")\n",
    "\n",
    "from Prepare import Prepare\n",
    "\n",
    "self = Prepare(number_atoms=[2, 3],\n",
    "    epsilon=[0.1, 1.0], # kcal/mol\n",
    "    sigma=[3, 6], # A\n",
    "    atom_mass=[1, 1], # g/mol\n",
    "    )\n",
    "print(\"Reference energy:\")\n",
    "print(self.reference_energy)\n",
    "print(\"Reference distance:\")\n",
    "print(self.reference_distance)\n",
    "print(\"array_epsilon_ij:\")\n",
    "print(self.array_epsilon_ij)\n",
    "print(\"array_sigma_ij:\")\n",
    "print(self.array_sigma_ij)"
   ]
  }
 ],
 "metadata": {
  "kernelspec": {
   "display_name": "Python 3",
   "language": "python",
   "name": "python3"
  },
  "language_info": {
   "codemirror_mode": {
    "name": "ipython",
    "version": 3
   },
   "file_extension": ".py",
   "mimetype": "text/x-python",
   "name": "python",
   "nbconvert_exporter": "python",
   "pygments_lexer": "ipython3",
   "version": "3.11.4"
  }
 },
 "nbformat": 4,
 "nbformat_minor": 4
}
