{
 "cells": [
  {
   "cell_type": "code",
   "execution_count": 3,
   "metadata": {},
   "outputs": [
    {
     "name": "stdout",
     "output_type": "stream",
     "text": [
      "Atom positions:\n",
      "[[-1.15270975  1.25033545  0.39460297]\n",
      " [ 2.10225087 -2.12285757 -2.43760443]\n",
      " [ 0.86169508 -0.77310475 -0.74742818]\n",
      " [ 0.81255861  2.26285536  1.76611306]\n",
      " [-0.31367217 -1.55867269 -2.71347742]]\n"
     ]
    }
   ],
   "source": [
    "import sys, os, git\n",
    "current_path = os.getcwd()\n",
    "git_repo = git.Repo(current_path, search_parent_directories=True)\n",
    "git_path = git_repo.git.rev_parse(\"--show-toplevel\")\n",
    "sys.path.append(git_path+\"/python-codes/\")\n",
    "\n",
    "from InitializeSimulation import InitializeSimulation\n",
    "\n",
    "self = InitializeSimulation(number_atoms=[2, 3],\n",
    "    epsilon=[0.1, 1.0], # kcal/mol\n",
    "    sigma=[3, 6], # A\n",
    "    atom_mass=[1, 1], # g/mol\n",
    "    box_dimensions=[20, 20, 20], # A\n",
    "    )\n",
    "print(\"Atom positions:\")\n",
    "print(self.atoms_positions)"
   ]
  }
 ],
 "metadata": {
  "kernelspec": {
   "display_name": "Python 3",
   "language": "python",
   "name": "python3"
  },
  "language_info": {
   "codemirror_mode": {
    "name": "ipython",
    "version": 3
   },
   "file_extension": ".py",
   "mimetype": "text/x-python",
   "name": "python",
   "nbconvert_exporter": "python",
   "pygments_lexer": "ipython3",
   "version": "3.11.4"
  }
 },
 "nbformat": 4,
 "nbformat_minor": 4
}
