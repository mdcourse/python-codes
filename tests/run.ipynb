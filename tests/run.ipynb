{
 "cells": [
  {
   "cell_type": "code",
   "execution_count": 1,
   "metadata": {},
   "outputs": [],
   "source": [
    "import sys, os, git, time\n",
    "\n",
    "current_path = os.getcwd()\n",
    "git_repo = git.Repo(current_path, search_parent_directories=True)\n",
    "git_path = git_repo.git.rev_parse(\"--show-toplevel\")\n",
    "sys.path.append(git_path+\"/python-codes/\")\n",
    "\n",
    "from InitializeSimulation import InitializeSimulation\n",
    "from Utilities import Utilities\n",
    "from Outputs import Outputs\n",
    "from MolecularDynamics import MolecularDynamics\n",
    "from MonteCarlo import MonteCarlo\n",
    "\n",
    "import numpy as np"
   ]
  },
  {
   "cell_type": "code",
   "execution_count": 5,
   "metadata": {},
   "outputs": [
    {
     "name": "stdout",
     "output_type": "stream",
     "text": [
      "step epot maxF\n",
      "0 -0.000 0.000\n",
      "5 -0.001 0.000\n",
      "10 -0.002 0.002\n",
      "15 -0.088 0.130\n",
      "20 -0.100 0.032\n",
      "25 -0.100 0.001\n",
      "30 -0.100 0.000\n",
      "35 -0.100 0.000\n",
      "40 -0.100 0.000\n",
      "45 -0.100 0.000\n",
      "50 -0.100 0.000\n",
      "step  T (K)     p (atm)   Ep (kcal/mol) Ek (kcal/mol)V (A3)dens (g/mol/A3)\n",
      "step  N     T (K)     p (atm)   V (A3)    Ep (kcal/mol) Ek (kcal/mol) dens (g/mol/A3)\n",
      "0     10    3e+02     13.7      2.7e+04   -0.0993       8.05          0.00037      \n",
      "10    10    2.89e+02  16.0      2.7e+04   0.0609        7.75          0.00037      \n",
      "20    10    2.83e+02  14.5      2.7e+04   -0.0247       7.59          0.00037      \n",
      "30    10    2.86e+02  12.9      2.7e+04   -0.0973       7.67          0.00037      \n",
      "40    10    2.87e+02  12.8      2.7e+04   -0.0578       7.69          0.00037      \n",
      "50    10    2.87e+02  12.9      2.7e+04   -0.0278       7.71          0.00037      \n",
      "60    10    2.88e+02  13.0      2.7e+04   -0.013        7.73          0.00037      \n",
      "70    10    2.89e+02  13.1      2.7e+04   -0.00641      7.76          0.00037      \n",
      "80    10    2.9e+02   13.2      2.7e+04   -0.00418      7.78          0.00037      \n",
      "90    10    2.91e+02  13.2      2.7e+04   -0.00294      7.81          0.00037      \n",
      "100   10    2.92e+02  13.3      2.7e+04   -0.00123      7.83          0.00037      \n",
      "110   10    2.93e+02  13.3      2.7e+04   -0.000541     7.85          0.00037      \n",
      "120   10    2.93e+02  13.3      2.7e+04   -0.000313     7.87          0.00037      \n",
      "130   10    2.94e+02  13.4      2.7e+04   -0.000426     7.89          0.00037      \n",
      "140   10    2.95e+02  13.4      2.7e+04   -0.00108      7.9           0.00037      \n",
      "150   10    2.95e+02  13.4      2.7e+04   -0.00372      7.92          0.00037      \n",
      "160   10    2.96e+02  13.4      2.7e+04   -0.00318      7.93          0.00037      \n",
      "170   10    2.96e+02  13.4      2.7e+04   -0.000161     7.94          0.00037      \n",
      "180   10    2.96e+02  13.5      2.7e+04   -7.6e-05      7.95          0.00037      \n",
      "190   10    2.97e+02  13.5      2.7e+04   -0.000233     7.96          0.00037      \n",
      "200   10    2.97e+02  13.5      2.7e+04   -0.00158      7.97          0.00037      \n",
      "210   10    2.97e+02  13.4      2.7e+04   -0.0203       7.97          0.00037      \n",
      "220   10    2.97e+02  13.5      2.7e+04   -0.00648      7.98          0.00037      \n",
      "230   10    2.98e+02  13.5      2.7e+04   -0.00246      7.98          0.00037      \n",
      "240   10    2.98e+02  13.5      2.7e+04   -0.00716      7.99          0.00037      \n",
      "250   10    2.98e+02  13.5      2.7e+04   -0.000927     8.0           0.00037      \n",
      "260   10    2.98e+02  13.5      2.7e+04   -0.000239     8.0           0.00037      \n",
      "270   10    2.98e+02  13.5      2.7e+04   -0.00156      8.01          0.00037      \n",
      "280   10    2.99e+02  13.6      2.7e+04   -0.00121      8.01          0.00037      \n",
      "290   10    2.99e+02  13.6      2.7e+04   -0.0011       8.01          0.00037      \n",
      "300   10    2.99e+02  13.6      2.7e+04   -0.000131     8.02          0.00037      \n",
      "310   10    2.99e+02  13.6      2.7e+04   -0.00208      8.02          0.00037      \n",
      "320   10    2.99e+02  13.6      2.7e+04   -0.000693     8.02          0.00037      \n",
      "330   10    2.99e+02  13.6      2.7e+04   -0.00274      8.02          0.00037      \n",
      "340   10    2.99e+02  13.6      2.7e+04   -0.000222     8.03          0.00037      \n",
      "350   10    2.99e+02  13.6      2.7e+04   -0.000224     8.03          0.00037      \n",
      "360   10    1.07e+04  4.86e+02  2.7e+04   -0.0246       2.87e+02      0.00037      \n",
      "370   10    9.7e+03   4.41e+02  2.7e+04   -0.000118     2.6e+02       0.00037      \n",
      "380   10    8.8e+03   4e+02     2.7e+04   -0.000165     2.36e+02      0.00037      \n",
      "390   10    7.99e+03  3.63e+02  2.7e+04   -0.000559     2.14e+02      0.00037      \n",
      "400   10    7.25e+03  3.29e+02  2.7e+04   -0.00161      1.95e+02      0.00037      \n",
      "410   10    6.59e+03  2.99e+02  2.7e+04   -0.0938       1.77e+02      0.00037      \n",
      "420   10    5.99e+03  2.72e+02  2.7e+04   -0.0013       1.61e+02      0.00037      \n",
      "430   10    5.44e+03  2.47e+02  2.7e+04   -0.000316     1.46e+02      0.00037      \n",
      "440   10    4.95e+03  2.25e+02  2.7e+04   -0.000164     1.33e+02      0.00037      \n",
      "450   10    4.51e+03  2.05e+02  2.7e+04   -0.000822     1.21e+02      0.00037      \n",
      "460   10    4.11e+03  1.86e+02  2.7e+04   -0.000621     1.1e+02       0.00037      \n",
      "470   10    4.41e+03  2e+02     2.7e+04   -0.00191      1.18e+02      0.00037      \n",
      "480   10    4.01e+03  1.82e+02  2.7e+04   -0.000325     1.08e+02      0.00037      \n",
      "490   10    3.66e+03  1.66e+02  2.7e+04   -0.016        98.2          0.00037      \n",
      "500   10    3.34e+03  1.52e+02  2.7e+04   -0.000935     89.5          0.00037      \n"
     ]
    },
    {
     "data": {
      "text/plain": [
       "256"
      ]
     },
     "execution_count": 5,
     "metadata": {},
     "output_type": "execute_result"
    }
   ],
   "source": [
    "self = MolecularDynamics(number_atoms=[5, 5],\n",
    "                      epsilon=[0.1, 0.1], # kcal/mol\n",
    "                      sigma=[2, 1], # A\n",
    "                      atom_mass=[1, 1], # g/mol\n",
    "                      atom_charge=[0,0], # in elementary charge units\n",
    "                      Lx=30, # A\n",
    "                      Ly=30, # A\n",
    "                      Lz=30, # A\n",
    "                      minimization_steps = 50,\n",
    "                      maximum_steps=500,\n",
    "                      desired_temperature=300,\n",
    "                      thermo = 10,\n",
    "                      dump = 10,  \n",
    "                      tau_temp = 100, # fs\n",
    "                      tau_press= 1000, # fs\n",
    "                      time_step=1, # fs\n",
    "                      seed=319817,\n",
    "                      data_folder = \"mdcode-output/\",\n",
    "                      )\n",
    "self.run()\n",
    "# run lammps for comparison\n",
    "os.system(\"/home/simon/Softwares/lammps-2Aug2023/src/lmp_serial -in input.lammps > /dev/null\")"
   ]
  },
  {
   "cell_type": "code",
   "execution_count": 3,
   "metadata": {},
   "outputs": [],
   "source": [
    "header = '{:<5} {:<9} {:<9} {:<13} {:<13}'.format(\n",
    "    '%s' % (\"step\"),\n",
    "    '%s' % (\"T (K)\"),\n",
    "    '%s' % (\"p (atm)\"),\n",
    "    '%s' % (\"Ep (kcal/mol)\"),\n",
    "    '%s' % (\"Ek (kcal/mol)\"))"
   ]
  },
  {
   "cell_type": "code",
   "execution_count": 4,
   "metadata": {},
   "outputs": [],
   "source": [
    "header += \"{:<14}\".format('%s' % (\"Ep (kcal/mol)\"))\n",
    "header += \"{:<14}\".format('%s' % (\"Ep (kcal/mol)\"))"
   ]
  },
  {
   "cell_type": "code",
   "execution_count": null,
   "metadata": {},
   "outputs": [],
   "source": []
  }
 ],
 "metadata": {
  "kernelspec": {
   "display_name": "Python 3",
   "language": "python",
   "name": "python3"
  },
  "language_info": {
   "codemirror_mode": {
    "name": "ipython",
    "version": 3
   },
   "file_extension": ".py",
   "mimetype": "text/x-python",
   "name": "python",
   "nbconvert_exporter": "python",
   "pygments_lexer": "ipython3",
   "version": "3.11.6"
  }
 },
 "nbformat": 4,
 "nbformat_minor": 4
}
