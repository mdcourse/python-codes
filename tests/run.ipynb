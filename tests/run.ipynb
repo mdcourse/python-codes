{
 "cells": [
  {
   "cell_type": "code",
   "execution_count": 1,
   "metadata": {},
   "outputs": [],
   "source": [
    "import sys, os, git, time\n",
    "\n",
    "current_path = os.getcwd()\n",
    "git_repo = git.Repo(current_path, search_parent_directories=True)\n",
    "git_path = git_repo.git.rev_parse(\"--show-toplevel\")\n",
    "sys.path.append(git_path+\"/python-codes/\")\n",
    "\n",
    "from InitializeSimulation import InitializeSimulation\n",
    "from Utilities import Utilities\n",
    "from Outputs import Outputs\n",
    "from MolecularDynamics import MolecularDynamics\n",
    "from MonteCarlo import MonteCarlo\n",
    "\n",
    "import numpy as np"
   ]
  },
  {
   "cell_type": "code",
   "execution_count": 2,
   "metadata": {},
   "outputs": [
    {
     "name": "stdout",
     "output_type": "stream",
     "text": [
      "step epot maxF\n",
      "0 29076471798416.652 150817414644347488.000\n",
      "25 195.942 163.633\n",
      "50 24.094 7.581\n",
      "step  N     T (K)     p (atm)   V (A3)    Ep (kcal/mol) Ek (kcal/mol) dens (g/cm3) \n",
      "0     50    1e+02     4.64      1.44e+05  -0.00675      14.6          0.000577     \n",
      "250   50    1e+02     2.17      3.08e+05  -0.00245      14.6          0.00027      \n",
      "500   50    1e+02     1.59      4.2e+05   -0.0124       14.6          0.000198     \n",
      "750   50    1e+02     1.33      4.97e+05  -0.0698       14.6          0.000167     \n",
      "1000  50    1e+02     1.19      5.53e+05  -0.0637       14.6          0.00015      \n",
      "1250  50    1.01e+02  1.09      6e+05     -0.189        14.7          0.000138     \n",
      "1500  50    1e+02     1.05      6.25e+05  -0.108        14.6          0.000133     \n",
      "1750  50    1e+02     1.03      6.36e+05  -0.0903       14.6          0.000131     \n",
      "2000  50    99.7      1.02      6.46e+05  -0.0287       14.6          0.000128     \n",
      "2250  50    1e+02     1.01      6.52e+05  -0.0879       14.6          0.000127     \n",
      "2500  50    99.5      1.0       6.55e+05  -0.078        14.5          0.000127     \n",
      "2750  50    99.9      1.01      6.57e+05  -0.0203       14.6          0.000126     \n",
      "3000  50    1e+02     1.01      6.6e+05   -0.02         14.6          0.000126     \n",
      "3250  50    1e+02     1.01      6.62e+05  -0.013        14.6          0.000126     \n",
      "3500  50    1e+02     0.997     6.62e+05  -0.111        14.7          0.000125     \n",
      "3750  50    99.8      0.992     6.62e+05  -0.0816       14.6          0.000125     \n",
      "4000  50    1e+02     0.986     6.63e+05  -0.119        14.6          0.000125     \n",
      "4250  50    1e+02     0.992     6.61e+05  -0.115        14.6          0.000126     \n",
      "4500  50    1e+02     0.998     6.61e+05  -0.0943       14.6          0.000126     \n",
      "4750  50    99.9      1.0       6.6e+05   -0.0577       14.6          0.000126     \n",
      "5000  50    99.9      1.01      6.61e+05  -0.0161       14.6          0.000126     \n"
     ]
    },
    {
     "data": {
      "text/plain": [
       "256"
      ]
     },
     "execution_count": 2,
     "metadata": {},
     "output_type": "execute_result"
    }
   ],
   "source": [
    "self = MolecularDynamics(number_atoms=[50],\n",
    "                      epsilon=[0.1], # kcal/mol\n",
    "                      sigma=[3], # A\n",
    "                      atom_mass=[1], # g/mol\n",
    "                      atom_charge=[0], # in elementary charge units\n",
    "                      Lx=10, # A\n",
    "                      Ly=10, # A\n",
    "                      Lz=10, # A\n",
    "                      minimization_steps=50,\n",
    "                      maximum_steps=5000,\n",
    "                      desired_temperature=100,\n",
    "                      desired_pressure=1,\n",
    "                      thermo = 250,\n",
    "                      dump = 250,  \n",
    "                      tau_temp = 100, # fs\n",
    "                      tau_press= 1000, # fs\n",
    "                      time_step=1, # fs\n",
    "                      seed=319817,\n",
    "                      data_folder = \"mdcode-output/\",\n",
    "                      )\n",
    "self.run()\n",
    "# run lammps for comparison\n",
    "os.system(\"/home/simon/Softwares/lammps-2Aug2023/src/lmp_serial -in input.lammps > /dev/null\")"
   ]
  }
 ],
 "metadata": {
  "kernelspec": {
   "display_name": "Python 3",
   "language": "python",
   "name": "python3"
  },
  "language_info": {
   "codemirror_mode": {
    "name": "ipython",
    "version": 3
   },
   "file_extension": ".py",
   "mimetype": "text/x-python",
   "name": "python",
   "nbconvert_exporter": "python",
   "pygments_lexer": "ipython3",
   "version": "3.11.4"
  }
 },
 "nbformat": 4,
 "nbformat_minor": 4
}
