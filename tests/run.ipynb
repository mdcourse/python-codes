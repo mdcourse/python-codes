{
 "cells": [
  {
   "cell_type": "code",
   "execution_count": 5,
   "metadata": {},
   "outputs": [],
   "source": [
    "import sys, os, git\n",
    "\n",
    "current_path = os.getcwd()\n",
    "git_repo = git.Repo(current_path, search_parent_directories=True)\n",
    "git_path = git_repo.git.rev_parse(\"--show-toplevel\")\n",
    "sys.path.append(git_path+\"/python-codes/\")\n",
    "\n",
    "from InitializeSimulation import InitializeSimulation\n",
    "from Utilities import Utilities\n",
    "from Outputs import Outputs\n",
    "from MolecularDynamics import MolecularDynamics\n",
    "from MonteCarlo import MonteCarlo\n",
    "\n",
    "import numpy as np"
   ]
  },
  {
   "cell_type": "code",
   "execution_count": 10,
   "metadata": {},
   "outputs": [
    {
     "name": "stdout",
     "output_type": "stream",
     "text": [
      "step epot maxF\n",
      "0 81578718.352 79181512703.378\n",
      " step     N  temp  epot  ekin press   vol\n",
      "    0   510 7419910426950.55 14456.463885080151 11257714046966.023 19059844553793.42 27000.0\n",
      "LAMMPS (2 Aug 2023 - Update 1)\n",
      "Reading data file ...\n",
      "  orthogonal box = (-15 -15 -15) to (15 15 15)\n",
      "  1 by 1 by 1 MPI processor grid\n",
      "  reading atoms ...\n",
      "  510 atoms\n",
      "  reading velocities ...\n",
      "  510 velocities\n",
      "  read_data CPU = 0.006 seconds\n",
      "Generated 1 of 1 mixed pair_coeff terms from geometric mixing rule\n",
      "Neighbor list info ...\n",
      "  update: every = 1 steps, delay = 0 steps, check = yes\n",
      "  max neighbors/atom: 2000, page size: 100000\n",
      "  master list distance cutoff = 12\n",
      "  ghost atom cutoff = 12\n",
      "  binsize = 6, bins = 5 5 5\n",
      "  1 neighbor lists, perpetual/occasional/extra = 1 0 0\n",
      "  (1) pair lj/cut, perpetual\n",
      "      attributes: half, newton on\n",
      "      pair build: half/bin/atomonly/newton\n",
      "      stencil: half/bin/3d\n",
      "      bin: standard\n",
      "Setting up cg style minimization ...\n",
      "  Unit style    : real\n",
      "  Current step  : 0\n",
      "Per MPI rank memory allocation (min/avg/max) = 4.291 | 4.291 | 4.291 Mbytes\n",
      "   Step          Temp          E_pair         E_mol          TotEng         Press     \n",
      "         0   300.39382      2.4480652e+08  0              2.4480697e+08  2.4869212e+09\n",
      "         1   300.39382      68329765       0              68330221       6.9418747e+08\n",
      "Loop time of 0.00779638 on 1 procs for 1 steps with 510 atoms\n",
      "\n",
      "100.0% CPU use with 1 MPI tasks x no OpenMP threads\n",
      "\n",
      "Minimization stats:\n",
      "  Stopping criterion = max force evaluations\n",
      "  Energy initial, next-to-last, final = \n",
      "      244806518.948428   244806518.948428   68329765.4950841\n",
      "  Force two-norm initial, final = 8.2981224e+09 1.473944e+09\n",
      "  Force max component initial, final = 4.0046401e+09 7.5377119e+08\n",
      "  Final line search alpha, max atom move = 6.2427582e-12 0.0047056113\n",
      "  Iterations, force evaluations = 1 3\n",
      "\n",
      "MPI task timing breakdown:\n",
      "Section |  min time  |  avg time  |  max time  |%varavg| %total\n",
      "---------------------------------------------------------------\n",
      "Pair    | 0.0061606  | 0.0061606  | 0.0061606  |   0.0 | 79.02\n",
      "Neigh   | 0          | 0          | 0          |   0.0 |  0.00\n",
      "Comm    | 9.9474e-05 | 9.9474e-05 | 9.9474e-05 |   0.0 |  1.28\n",
      "Output  | 0          | 0          | 0          |   0.0 |  0.00\n",
      "Modify  | 0          | 0          | 0          |   0.0 |  0.00\n",
      "Other   |            | 0.001536   |            |       | 19.71\n",
      "\n",
      "Nlocal:            510 ave         510 max         510 min\n",
      "Histogram: 1 0 0 0 0 0 0 0 0 0\n",
      "Nghost:           2527 ave        2527 max        2527 min\n",
      "Histogram: 1 0 0 0 0 0 0 0 0 0\n",
      "Neighs:          34759 ave       34759 max       34759 min\n",
      "Histogram: 1 0 0 0 0 0 0 0 0 0\n",
      "\n",
      "Total # of neighbors = 34759\n",
      "Ave neighs/atom = 68.154902\n",
      "Neighbor list builds = 0\n",
      "Dangerous builds = 0\n",
      "Generated 1 of 1 mixed pair_coeff terms from geometric mixing rule\n",
      "Setting up Verlet run ...\n",
      "  Unit style    : real\n",
      "  Current step  : 0\n",
      "  Time step     : 1\n",
      "Per MPI rank memory allocation (min/avg/max) = 3.166 | 3.166 | 3.166 Mbytes\n",
      "   Step          Temp          E_pair         E_mol          TotEng         Press     \n",
      "         0   7.4235573e+12  68329765       0              1.1263329e+13  1.9069928e+13\n",
      "ERROR: Computed current temperature for fix temp/berendsen must not be 0.0 (../fix_temp_berendsen.cpp:142)\n",
      "Last command: run ${maximum_steps}\n"
     ]
    },
    {
     "data": {
      "text/plain": [
       "256"
      ]
     },
     "execution_count": 10,
     "metadata": {},
     "output_type": "execute_result"
    }
   ],
   "source": [
    "self = MolecularDynamics(number_atoms=[500, 10],\n",
    "                      epsilon=[0.1, 0.1], # kcal/mol\n",
    "                      sigma=[2, 1], # A\n",
    "                      atom_mass= [1, 1], # g/mol\n",
    "                      Lx=30, # A\n",
    "                      Ly=30, # A\n",
    "                      Lz=30, # A\n",
    "                      minimization_steps = 1,\n",
    "                      maximum_steps=1,\n",
    "                      desired_temperature=300,\n",
    "                      thermo = 10,\n",
    "                      dump = 10,  \n",
    "                      tau_temp = 100, # fs\n",
    "                      #tau_press= 1000, # fs\n",
    "                      time_step=1, # fs\n",
    "                      seed=319817,\n",
    "                      data_folder = \"mdcode-output/\",\n",
    "                      )\n",
    "self.run()\n",
    "# run lammps for comparison\n",
    "os.system(\"/home/simon/Softwares/lammps-2Aug2023/src/lmp_serial -in input.lammps\")"
   ]
  },
  {
   "cell_type": "code",
   "execution_count": 11,
   "metadata": {},
   "outputs": [],
   "source": [
    "import time"
   ]
  },
  {
   "cell_type": "code",
   "execution_count": 69,
   "metadata": {},
   "outputs": [
    {
     "name": "stdout",
     "output_type": "stream",
     "text": [
      "duration = 2.388 s\n"
     ]
    }
   ],
   "source": [
    "ti = time.time()\n",
    "\n",
    "forces = np.zeros((self.total_number_atoms,3))\n",
    "box_size = np.diff(self.box_boundaries).reshape(3)\n",
    "for Ni in range(self.total_number_atoms-1):\n",
    "    position_i = self.atoms_positions[Ni]\n",
    "    sigma_i = self.atoms_sigma[Ni]\n",
    "    epsilon_i = self.atoms_epsilon[Ni]\n",
    "    for Nj in np.arange(Ni+1,self.total_number_atoms):\n",
    "        position_j = self.atoms_positions[Nj]\n",
    "        rij_xyz = (np.remainder(position_i - position_j + box_size/2., box_size) - box_size/2.).T\n",
    "        rij = np.sqrt(np.sum(rij_xyz**2))\n",
    "        if rij < self.cut_off:\n",
    "            sigma_j = self.atoms_sigma[Nj]\n",
    "            epsilon_j = self.atoms_epsilon[Nj]\n",
    "            sigma_ij = (sigma_i+sigma_j)/2\n",
    "            epsilon_ij = (epsilon_i+epsilon_j)/2\n",
    "            dU_dr = 48*epsilon_ij/rij*((sigma_ij/rij)**12-0.5*(sigma_ij/rij)**6)\n",
    "            forces[Ni] += dU_dr*rij_xyz/rij\n",
    "            forces[Nj] -= dU_dr*rij_xyz/rij\n",
    "\n",
    "tf = time.time()\n",
    "print(\"duration =\", np.round(tf-ti,3), \"s\")"
   ]
  },
  {
   "cell_type": "code",
   "execution_count": 68,
   "metadata": {},
   "outputs": [
    {
     "name": "stdout",
     "output_type": "stream",
     "text": [
      "duration = 0.358 s\n"
     ]
    }
   ],
   "source": [
    "ti = time.time()\n",
    "\n",
    "forces = np.zeros((self.total_number_atoms,3))\n",
    "box_size = np.diff(self.box_boundaries).reshape(3)\n",
    "\n",
    "for Ni, position_i, sigma_i, epsilon_i in zip(np.arange(self.total_number_atoms-1),\n",
    "                                              self.atoms_positions,\n",
    "                                              self.atoms_sigma,\n",
    "                                              self.atoms_epsilon):\n",
    "    positions_j = self.atoms_positions[Ni+1:]\n",
    "    sigma_j = self.atoms_sigma[Ni+1:]\n",
    "    epsilon_j = self.atoms_epsilon[Ni+1:]\n",
    "    rij_xyz = (np.remainder(position_i - positions_j + box_size/2., box_size) - box_size/2.).T\n",
    "    rij = np.linalg.norm(rij_xyz, axis=0)\n",
    "    for Nj, sigma_j0, epsilon_j0, rij0, rij_xyz0 in zip(np.arange(Ni+1,self.total_number_atoms)[rij < self.cut_off],\n",
    "                                      sigma_j[rij < self.cut_off], epsilon_j[rij < self.cut_off],\n",
    "                                      rij[rij < self.cut_off], rij_xyz.T[rij < self.cut_off]):\n",
    "        sigma_ij = (sigma_i+sigma_j0)/2\n",
    "        epsilon_ij = (epsilon_i+epsilon_j0)/2\n",
    "        dU_dr = 48*epsilon_ij/rij0*((sigma_ij/rij0)**12-0.5*(sigma_ij/rij0)**6)\n",
    "        forces[Ni] += dU_dr*rij_xyz0/rij0\n",
    "        forces[Nj] -= dU_dr*rij_xyz0/rij0\n",
    "\n",
    "tf = time.time()\n",
    "print(\"duration =\", np.round(tf-ti,3), \"s\")"
   ]
  }
 ],
 "metadata": {
  "kernelspec": {
   "display_name": "Python 3",
   "language": "python",
   "name": "python3"
  },
  "language_info": {
   "codemirror_mode": {
    "name": "ipython",
    "version": 3
   },
   "file_extension": ".py",
   "mimetype": "text/x-python",
   "name": "python",
   "nbconvert_exporter": "python",
   "pygments_lexer": "ipython3",
   "version": "3.11.4"
  }
 },
 "nbformat": 4,
 "nbformat_minor": 4
}
