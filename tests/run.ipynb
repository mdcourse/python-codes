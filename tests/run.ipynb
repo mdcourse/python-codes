{
 "cells": [
  {
   "cell_type": "code",
   "execution_count": 1,
   "metadata": {},
   "outputs": [],
   "source": [
    "import sys, os, git, time\n",
    "\n",
    "current_path = os.getcwd()\n",
    "git_repo = git.Repo(current_path, search_parent_directories=True)\n",
    "git_path = git_repo.git.rev_parse(\"--show-toplevel\")\n",
    "sys.path.append(git_path+\"/python-codes/\")\n",
    "\n",
    "from InitializeSimulation import InitializeSimulation\n",
    "from Utilities import Utilities\n",
    "from Outputs import Outputs\n",
    "from MolecularDynamics import MolecularDynamics\n",
    "from MonteCarlo import MonteCarlo\n",
    "\n",
    "import numpy as np"
   ]
  },
  {
   "cell_type": "code",
   "execution_count": 2,
   "metadata": {},
   "outputs": [
    {
     "ename": "AttributeError",
     "evalue": "'MolecularDynamics' object has no attribute 'nondimensionalise_units'",
     "output_type": "error",
     "traceback": [
      "\u001b[0;31m---------------------------------------------------------------------------\u001b[0m",
      "\u001b[0;31mAttributeError\u001b[0m                            Traceback (most recent call last)",
      "\u001b[1;32m/home/simon/Git/MDCourse/python-codes/tests/run.ipynb Cell 2\u001b[0m line \u001b[0;36m1\n\u001b[0;32m----> <a href='vscode-notebook-cell:/home/simon/Git/MDCourse/python-codes/tests/run.ipynb#W1sZmlsZQ%3D%3D?line=0'>1</a>\u001b[0m \u001b[39mself\u001b[39m \u001b[39m=\u001b[39m MolecularDynamics(number_atoms\u001b[39m=\u001b[39;49m[\u001b[39m50\u001b[39;49m, \u001b[39m5\u001b[39;49m],\n\u001b[1;32m      <a href='vscode-notebook-cell:/home/simon/Git/MDCourse/python-codes/tests/run.ipynb#W1sZmlsZQ%3D%3D?line=1'>2</a>\u001b[0m                       epsilon\u001b[39m=\u001b[39;49m[\u001b[39m0.1\u001b[39;49m, \u001b[39m0.1\u001b[39;49m], \u001b[39m# kcal/mol\u001b[39;49;00m\n\u001b[1;32m      <a href='vscode-notebook-cell:/home/simon/Git/MDCourse/python-codes/tests/run.ipynb#W1sZmlsZQ%3D%3D?line=2'>3</a>\u001b[0m                       sigma\u001b[39m=\u001b[39;49m[\u001b[39m2\u001b[39;49m, \u001b[39m1\u001b[39;49m], \u001b[39m# A\u001b[39;49;00m\n\u001b[1;32m      <a href='vscode-notebook-cell:/home/simon/Git/MDCourse/python-codes/tests/run.ipynb#W1sZmlsZQ%3D%3D?line=3'>4</a>\u001b[0m                       atom_mass\u001b[39m=\u001b[39;49m [\u001b[39m1\u001b[39;49m, \u001b[39m1\u001b[39;49m], \u001b[39m# g/mol\u001b[39;49;00m\n\u001b[1;32m      <a href='vscode-notebook-cell:/home/simon/Git/MDCourse/python-codes/tests/run.ipynb#W1sZmlsZQ%3D%3D?line=4'>5</a>\u001b[0m                       Lx\u001b[39m=\u001b[39;49m\u001b[39m30\u001b[39;49m, \u001b[39m# A\u001b[39;49;00m\n\u001b[1;32m      <a href='vscode-notebook-cell:/home/simon/Git/MDCourse/python-codes/tests/run.ipynb#W1sZmlsZQ%3D%3D?line=5'>6</a>\u001b[0m                       Ly\u001b[39m=\u001b[39;49m\u001b[39m30\u001b[39;49m, \u001b[39m# A\u001b[39;49;00m\n\u001b[1;32m      <a href='vscode-notebook-cell:/home/simon/Git/MDCourse/python-codes/tests/run.ipynb#W1sZmlsZQ%3D%3D?line=6'>7</a>\u001b[0m                       Lz\u001b[39m=\u001b[39;49m\u001b[39m30\u001b[39;49m, \u001b[39m# A\u001b[39;49;00m\n\u001b[1;32m      <a href='vscode-notebook-cell:/home/simon/Git/MDCourse/python-codes/tests/run.ipynb#W1sZmlsZQ%3D%3D?line=7'>8</a>\u001b[0m                       minimization_steps \u001b[39m=\u001b[39;49m \u001b[39m50\u001b[39;49m,\n\u001b[1;32m      <a href='vscode-notebook-cell:/home/simon/Git/MDCourse/python-codes/tests/run.ipynb#W1sZmlsZQ%3D%3D?line=8'>9</a>\u001b[0m                       maximum_steps\u001b[39m=\u001b[39;49m\u001b[39m500\u001b[39;49m,\n\u001b[1;32m     <a href='vscode-notebook-cell:/home/simon/Git/MDCourse/python-codes/tests/run.ipynb#W1sZmlsZQ%3D%3D?line=9'>10</a>\u001b[0m                       desired_temperature\u001b[39m=\u001b[39;49m\u001b[39m300\u001b[39;49m,\n\u001b[1;32m     <a href='vscode-notebook-cell:/home/simon/Git/MDCourse/python-codes/tests/run.ipynb#W1sZmlsZQ%3D%3D?line=10'>11</a>\u001b[0m                       thermo \u001b[39m=\u001b[39;49m \u001b[39m10\u001b[39;49m,\n\u001b[1;32m     <a href='vscode-notebook-cell:/home/simon/Git/MDCourse/python-codes/tests/run.ipynb#W1sZmlsZQ%3D%3D?line=11'>12</a>\u001b[0m                       dump \u001b[39m=\u001b[39;49m \u001b[39m10\u001b[39;49m,  \n\u001b[1;32m     <a href='vscode-notebook-cell:/home/simon/Git/MDCourse/python-codes/tests/run.ipynb#W1sZmlsZQ%3D%3D?line=12'>13</a>\u001b[0m                       tau_temp \u001b[39m=\u001b[39;49m \u001b[39m100\u001b[39;49m, \u001b[39m# fs\u001b[39;49;00m\n\u001b[1;32m     <a href='vscode-notebook-cell:/home/simon/Git/MDCourse/python-codes/tests/run.ipynb#W1sZmlsZQ%3D%3D?line=13'>14</a>\u001b[0m                       \u001b[39m#tau_press= 1000, # fs\u001b[39;49;00m\n\u001b[1;32m     <a href='vscode-notebook-cell:/home/simon/Git/MDCourse/python-codes/tests/run.ipynb#W1sZmlsZQ%3D%3D?line=14'>15</a>\u001b[0m                       time_step\u001b[39m=\u001b[39;49m\u001b[39m1\u001b[39;49m, \u001b[39m# fs\u001b[39;49;00m\n\u001b[1;32m     <a href='vscode-notebook-cell:/home/simon/Git/MDCourse/python-codes/tests/run.ipynb#W1sZmlsZQ%3D%3D?line=15'>16</a>\u001b[0m                       seed\u001b[39m=\u001b[39;49m\u001b[39m319817\u001b[39;49m,\n\u001b[1;32m     <a href='vscode-notebook-cell:/home/simon/Git/MDCourse/python-codes/tests/run.ipynb#W1sZmlsZQ%3D%3D?line=16'>17</a>\u001b[0m                       data_folder \u001b[39m=\u001b[39;49m \u001b[39m\"\u001b[39;49m\u001b[39mmdcode-output/\u001b[39;49m\u001b[39m\"\u001b[39;49m,\n\u001b[1;32m     <a href='vscode-notebook-cell:/home/simon/Git/MDCourse/python-codes/tests/run.ipynb#W1sZmlsZQ%3D%3D?line=17'>18</a>\u001b[0m                       )\n\u001b[1;32m     <a href='vscode-notebook-cell:/home/simon/Git/MDCourse/python-codes/tests/run.ipynb#W1sZmlsZQ%3D%3D?line=18'>19</a>\u001b[0m \u001b[39mself\u001b[39m\u001b[39m.\u001b[39mrun()\n\u001b[1;32m     <a href='vscode-notebook-cell:/home/simon/Git/MDCourse/python-codes/tests/run.ipynb#W1sZmlsZQ%3D%3D?line=19'>20</a>\u001b[0m \u001b[39m# run lammps for comparison\u001b[39;00m\n",
      "File \u001b[0;32m~/Git/MDCourse/python-codes/python-codes/MolecularDynamics.py:34\u001b[0m, in \u001b[0;36mMolecularDynamics.__init__\u001b[0;34m(self, maximum_steps, tau_temp, tau_press, minimization_steps, cut_off, time_step, neighbor, *args, **kwargs)\u001b[0m\n\u001b[1;32m     31\u001b[0m \u001b[39mself\u001b[39m\u001b[39m.\u001b[39mneighbor \u001b[39m=\u001b[39m neighbor\n\u001b[1;32m     32\u001b[0m \u001b[39msuper\u001b[39m()\u001b[39m.\u001b[39m\u001b[39m__init__\u001b[39m(\u001b[39m*\u001b[39margs, \u001b[39m*\u001b[39m\u001b[39m*\u001b[39mkwargs)\n\u001b[0;32m---> 34\u001b[0m \u001b[39mself\u001b[39m\u001b[39m.\u001b[39mcut_off \u001b[39m=\u001b[39m \u001b[39mself\u001b[39;49m\u001b[39m.\u001b[39;49mnondimensionalise_units(\u001b[39mself\u001b[39m\u001b[39m.\u001b[39mcut_off, \u001b[39m\"\u001b[39m\u001b[39mdistance\u001b[39m\u001b[39m\"\u001b[39m)\n\u001b[1;32m     35\u001b[0m \u001b[39mself\u001b[39m\u001b[39m.\u001b[39mtime_step \u001b[39m=\u001b[39m \u001b[39mself\u001b[39m\u001b[39m.\u001b[39mnondimensionalise_units(\u001b[39mself\u001b[39m\u001b[39m.\u001b[39mtime_step, \u001b[39m\"\u001b[39m\u001b[39mtime\u001b[39m\u001b[39m\"\u001b[39m)\n\u001b[1;32m     36\u001b[0m \u001b[39mself\u001b[39m\u001b[39m.\u001b[39mtau_temp \u001b[39m=\u001b[39m \u001b[39mself\u001b[39m\u001b[39m.\u001b[39mnondimensionalise_units(\u001b[39mself\u001b[39m\u001b[39m.\u001b[39mtau_temp, \u001b[39m\"\u001b[39m\u001b[39mtime\u001b[39m\u001b[39m\"\u001b[39m)\n",
      "\u001b[0;31mAttributeError\u001b[0m: 'MolecularDynamics' object has no attribute 'nondimensionalise_units'"
     ]
    }
   ],
   "source": [
    "self = MolecularDynamics(number_atoms=[50, 5],\n",
    "                      epsilon=[0.1, 0.1], # kcal/mol\n",
    "                      sigma=[2, 1], # A\n",
    "                      atom_mass= [1, 1], # g/mol\n",
    "                      Lx=30, # A\n",
    "                      Ly=30, # A\n",
    "                      Lz=30, # A\n",
    "                      minimization_steps = 50,\n",
    "                      maximum_steps=500,\n",
    "                      desired_temperature=300,\n",
    "                      thermo = 10,\n",
    "                      dump = 10,  \n",
    "                      tau_temp = 100, # fs\n",
    "                      #tau_press= 1000, # fs\n",
    "                      time_step=1, # fs\n",
    "                      seed=319817,\n",
    "                      data_folder = \"mdcode-output/\",\n",
    "                      )\n",
    "self.run()\n",
    "# run lammps for comparison\n",
    "os.system(\"/home/simon/Softwares/lammps-2Aug2023/src/lmp_serial -in input.lammps\")"
   ]
  },
  {
   "cell_type": "code",
   "execution_count": null,
   "metadata": {},
   "outputs": [
    {
     "data": {
      "text/plain": [
       "101325.0"
      ]
     },
     "execution_count": 4,
     "metadata": {},
     "output_type": "execute_result"
    }
   ],
   "source": [
    "from scipy import constants as cst\n",
    "cst.atm"
   ]
  },
  {
   "cell_type": "code",
   "execution_count": null,
   "metadata": {},
   "outputs": [
    {
     "ename": "NameError",
     "evalue": "name 'self' is not defined",
     "output_type": "error",
     "traceback": [
      "\u001b[0;31m---------------------------------------------------------------------------\u001b[0m",
      "\u001b[0;31mNameError\u001b[0m                                 Traceback (most recent call last)",
      "\u001b[1;32m/home/simon/Git/MDCourse/python-codes/tests/run.ipynb Cell 5\u001b[0m line \u001b[0;36m1\n\u001b[0;32m----> <a href='vscode-notebook-cell:/home/simon/Git/MDCourse/python-codes/tests/run.ipynb#W3sZmlsZQ%3D%3D?line=0'>1</a>\u001b[0m cst\u001b[39m.\u001b[39matm\u001b[39m*\u001b[39mcst\u001b[39m.\u001b[39mangstrom\u001b[39m*\u001b[39m\u001b[39m*\u001b[39m\u001b[39m3\u001b[39m\u001b[39m*\u001b[39mcst\u001b[39m.\u001b[39mAvogadro\u001b[39m/\u001b[39mcst\u001b[39m.\u001b[39mcalorie\u001b[39m/\u001b[39mcst\u001b[39m.\u001b[39mkilo\u001b[39m/\u001b[39m\u001b[39mself\u001b[39;49m\u001b[39m.\u001b[39mreference_energy\u001b[39m*\u001b[39m\u001b[39mself\u001b[39m\u001b[39m.\u001b[39mreference_distance\u001b[39m*\u001b[39m\u001b[39m*\u001b[39m\u001b[39m3\u001b[39m\n",
      "\u001b[0;31mNameError\u001b[0m: name 'self' is not defined"
     ]
    }
   ],
   "source": [
    "cst.atm*cst.angstrom**3*cst.Avogadro/cst.calorie/cst.kilo/self.reference_energy*self.reference_distance**3"
   ]
  },
  {
   "cell_type": "code",
   "execution_count": null,
   "metadata": {},
   "outputs": [
    {
     "data": {
      "text/plain": [
       "204548282.80872953"
      ]
     },
     "execution_count": 9,
     "metadata": {},
     "output_type": "execute_result"
    }
   ],
   "source": [
    "    cst.angstrom * np.sqrt(cst.calorie) / cst.femto * cst.kilo"
   ]
  },
  {
   "cell_type": "code",
   "execution_count": null,
   "metadata": {},
   "outputs": [
    {
     "data": {
      "text/plain": [
       "100000.0"
      ]
     },
     "execution_count": 13,
     "metadata": {},
     "output_type": "execute_result"
    }
   ],
   "source": [
    "cst.angstrom / cst.femto"
   ]
  },
  {
   "cell_type": "code",
   "execution_count": null,
   "metadata": {},
   "outputs": [
    {
     "data": {
      "text/plain": [
       "1000000.0"
      ]
     },
     "execution_count": 14,
     "metadata": {},
     "output_type": "execute_result"
    }
   ],
   "source": [
    "cst.mega"
   ]
  }
 ],
 "metadata": {
  "kernelspec": {
   "display_name": "Python 3",
   "language": "python",
   "name": "python3"
  },
  "language_info": {
   "codemirror_mode": {
    "name": "ipython",
    "version": 3
   },
   "file_extension": ".py",
   "mimetype": "text/x-python",
   "name": "python",
   "nbconvert_exporter": "python",
   "pygments_lexer": "ipython3",
   "version": "3.11.4"
  }
 },
 "nbformat": 4,
 "nbformat_minor": 4
}
