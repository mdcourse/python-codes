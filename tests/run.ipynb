{
 "cells": [
  {
   "cell_type": "code",
   "execution_count": 1,
   "metadata": {},
   "outputs": [],
   "source": [
    "import sys, os, git, time\n",
    "\n",
    "current_path = os.getcwd()\n",
    "git_repo = git.Repo(current_path, search_parent_directories=True)\n",
    "git_path = git_repo.git.rev_parse(\"--show-toplevel\")\n",
    "sys.path.append(git_path+\"/python-codes/\")\n",
    "\n",
    "from InitializeSimulation import InitializeSimulation\n",
    "from Utilities import Utilities\n",
    "from Outputs import Outputs\n",
    "from MolecularDynamics import MolecularDynamics\n",
    "from MonteCarlo import MonteCarlo\n",
    "\n",
    "import numpy as np"
   ]
  },
  {
   "cell_type": "code",
   "execution_count": 4,
   "metadata": {},
   "outputs": [
    {
     "name": "stdout",
     "output_type": "stream",
     "text": [
      "step epot maxF\n",
      "0 1113.267 12776.063\n",
      "25 -2.580 0.191\n",
      "50 -3.559 0.105\n",
      "step  N     T (K)     p (atm)   V (A3)    Ep (kcal/mol) Ek (kcal/mol) dens (g/cm3) \n",
      "0     100   1e+02     10.0      1.27e+05  -3.54         29.5          0.00131      \n",
      "250   100   99.5      2.67      4.85e+05  -0.791        29.4          0.000343     \n",
      "500   100   1e+02     1.8       7.48e+05  -0.497        29.5          0.000222     \n",
      "750   100   99.1      1.52      9.4e+05   -0.195        29.2          0.000177     \n",
      "1000  100   98.5      1.42      1.07e+06  0.012         29.1          0.000155     \n",
      "1250  100   1e+02     1.21      1.16e+06  -0.67         29.5          0.000143     \n",
      "1500  100   99.7      1.09      1.21e+06  -0.314        29.4          0.000137     \n",
      "1750  100   1e+02     1.08      1.25e+06  -0.373        29.5          0.000133     \n",
      "2000  100   99.8      1.02      1.28e+06  -0.351        29.5          0.000129     \n",
      "2250  100   1e+02     1.02      1.3e+06   -0.386        29.6          0.000128     \n",
      "2500  100   99.8      1.0       1.31e+06  -0.276        29.5          0.000127     \n",
      "2750  100   1e+02     1.05      1.32e+06  -0.465        29.5          0.000126     \n",
      "3000  100   99.8      0.996     1.33e+06  -0.29         29.4          0.000125     \n",
      "3250  100   99.9      1.0       1.33e+06  -0.341        29.5          0.000125     \n",
      "3500  100   99.9      0.998     1.33e+06  -0.216        29.5          0.000125     \n",
      "3750  100   1e+02     0.999     1.33e+06  -0.276        29.5          0.000124     \n",
      "4000  100   99.8      1.06      1.34e+06  -0.248        29.5          0.000124     \n",
      "4250  100   99.9      0.994     1.34e+06  -0.198        29.5          0.000124     \n",
      "4500  100   1e+02     0.994     1.34e+06  -0.204        29.5          0.000124     \n",
      "4750  100   1e+02     0.993     1.34e+06  -0.298        29.6          0.000124     \n",
      "5000  100   1e+02     1.03      1.34e+06  -0.401        29.6          0.000124     \n",
      "253.95712209722564\n"
     ]
    },
    {
     "data": {
      "text/plain": [
       "0"
      ]
     },
     "execution_count": 4,
     "metadata": {},
     "output_type": "execute_result"
    }
   ],
   "source": [
    "self = MolecularDynamics(number_atoms=[100],\n",
    "                      epsilon=[0.1], # kcal/mol\n",
    "                      sigma=[3], # A\n",
    "                      atom_mass=[1], # g/mol\n",
    "                      atom_charge=[0], # in elementary charge units\n",
    "                      Lx=50, # A\n",
    "                      Ly=50, # A\n",
    "                      Lz=50, # A\n",
    "                      minimization_steps=50,\n",
    "                      maximum_steps=5000,\n",
    "                      desired_temperature=100,\n",
    "                      desired_pressure=1,\n",
    "                      thermo = 250,\n",
    "                      dump = 250,  \n",
    "                      tau_temp = 100, # fs\n",
    "                      tau_press= 1000, # fs\n",
    "                      time_step=1, # fs\n",
    "                      seed=229817,\n",
    "                      data_folder = \"mdcode-output/\",\n",
    "                      )\n",
    "self.run()\n",
    "# run lammps for comparison\n",
    "os.system(\"/home/simon/Softwares/lammps-2Aug2023/src/lmp_serial -in input.lammps > /dev/null\")"
   ]
  }
 ],
 "metadata": {
  "kernelspec": {
   "display_name": "Python 3",
   "language": "python",
   "name": "python3"
  },
  "language_info": {
   "codemirror_mode": {
    "name": "ipython",
    "version": 3
   },
   "file_extension": ".py",
   "mimetype": "text/x-python",
   "name": "python",
   "nbconvert_exporter": "python",
   "pygments_lexer": "ipython3",
   "version": "3.11.4"
  }
 },
 "nbformat": 4,
 "nbformat_minor": 4
}
