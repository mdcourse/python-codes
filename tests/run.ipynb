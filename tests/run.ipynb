{
 "cells": [
  {
   "cell_type": "code",
   "execution_count": 1,
   "metadata": {},
   "outputs": [],
   "source": [
    "import sys, os, git, time\n",
    "\n",
    "current_path = os.getcwd()\n",
    "git_repo = git.Repo(current_path, search_parent_directories=True)\n",
    "git_path = git_repo.git.rev_parse(\"--show-toplevel\")\n",
    "sys.path.append(git_path+\"/python-codes/\")\n",
    "\n",
    "from InitializeSimulation import InitializeSimulation\n",
    "from Utilities import Utilities\n",
    "from Outputs import Outputs\n",
    "from MolecularDynamics import MolecularDynamics\n",
    "from MonteCarlo import MonteCarlo\n",
    "\n",
    "import numpy as np"
   ]
  },
  {
   "cell_type": "code",
   "execution_count": 24,
   "metadata": {},
   "outputs": [
    {
     "name": "stdout",
     "output_type": "stream",
     "text": [
      "step epot maxF\n",
      "0 141616.186 5345485.986\n",
      "5 856.952 36173.248\n",
      "10 -0.368 14.793\n",
      "15 -1.344 0.180\n",
      "20 -1.511 0.202\n",
      "25 -1.610 0.193\n",
      "30 -1.674 0.231\n",
      "35 -1.815 0.191\n",
      "40 -1.913 0.226\n",
      "45 -1.977 0.165\n",
      "50 -1.999 0.085\n",
      " step     N  temp  epot  ekin press   vol\n",
      "    0   100 299.97054616262244 -1.9907489036159403 88.52125789997515 148.18015040958107 27000.0\n",
      "   10   100 295.98876436562125 -0.7695100948384294 87.34623475899423 159.16011006045377 27000.0\n",
      "   20   100 298.0771577353297 -1.279773516207083 87.96251929239753 150.95415287209752 27000.0\n",
      "   30   100 298.3387709804332 -1.3053958188088093 88.03972131718331 146.853146246287 27000.0\n",
      "   40   100 298.39133045035004 -1.2719609178086433 88.05523160794723 145.22974671542184 27000.0\n",
      "   50   100 297.40569082783094 -0.9284264427947874 87.764369520527 149.13343630599783 27000.0\n",
      "   60   100 296.4944503598689 -0.5328846620236388 87.49546261114786 153.6628697048578 27000.0\n",
      "   70   100 297.42046963318967 -0.7324763224830297 87.76873074351155 150.54010658908425 27000.0\n",
      "   80   100 297.86698702232144 -0.7873708645117482 87.90049795021167 148.58540332613234 27000.0\n",
      "   90   100 298.5069676855578 -0.925786235519476 88.08935613667718 145.8938569327674 27000.0\n",
      "  100   100 298.69012666329166 -0.9381071066235389 88.1434063203105 145.70158701513571 27000.0\n",
      "  110   100 298.301229123056 -0.7843812855417622 88.028642721363 149.19790879119515 27000.0\n",
      "  120   100 292.19758436605264 1.1526333944458096 86.22745817649235 171.77711102612875 27000.0\n",
      "  130   100 298.79002995444927 -0.7203833128546311 88.17288776478813 152.78216745533263 27000.0\n",
      "  140   100 296.80550053690666 -0.02613585487421908 87.58725346626223 158.02409428400094 27000.0\n",
      "  150   100 299.6374732230991 -0.8301126272634826 88.42296813134213 146.92837216058984 27000.0\n",
      "  160   100 299.6858246462052 -0.8341460095907762 88.43723662819744 146.71168434534462 27000.0\n",
      "  170   100 299.21320388570587 -0.6778806724805624 88.29776632098145 150.1759285786279 27000.0\n",
      "  180   100 299.0551081257666 -0.6118291129096591 88.25111228871893 151.0678190362112 27000.0\n",
      "  190   100 298.611605853057 -0.43809629347482537 88.1202348423697 152.18529133372948 27000.0\n",
      "  200   100 298.07423118129236 -0.23040411048360904 87.96165566679156 152.78803131399505 27000.0\n",
      "  210   100 298.84045872827915 -0.4102547096415643 88.18776928749388 149.40161502007402 27000.0\n",
      "  220   100 299.131299776715 -0.4675904484129032 88.27359643214473 147.68966204104447 27000.0\n",
      "  230   100 299.19492691094086 -0.46133462008843246 88.29237278879137 147.49866602852558 27000.0\n",
      "  240   100 299.3383548197469 -0.4817391008208973 88.3346983406427 147.52049321147186 27000.0\n",
      "  250   100 299.5648931207169 -0.5325320366354577 88.40154975529298 147.5655596509379 27000.0\n",
      "  260   100 299.4553957615495 -0.488643866720674 88.36923710295353 149.45580310393126 27000.0\n",
      "  270   100 298.15693447924167 -0.06338180290545876 87.986061396156 155.69445685045596 27000.0\n",
      "  280   100 300.0206881209613 -0.5940122353091626 88.53605478347758 151.82272621915158 27000.0\n",
      "  290   100 299.5411722675205 -0.4425290933603517 88.39454973549014 154.52756818711376 27000.0\n",
      "  300   100 300.9498436440035 -0.8683180055144084 88.81024842260845 150.68348879038282 27000.0\n",
      "  310   100 301.51836660520974 -1.075543217718407 88.9780194531806 148.91974180092538 27000.0\n",
      "  320   100 300.5391757999337 -0.8259873637577009 88.68906041064803 152.7461317425367 27000.0\n",
      "  330   100 300.5271397747885 -0.8169765053393168 88.68550858164483 153.26661129404354 27000.0\n",
      "  340   100 300.478927811137 -0.8201553152258132 88.67128123925119 152.59315736242104 27000.0\n",
      "  350   100 299.8363967891015 -0.6466184647425618 88.48167044233146 155.12045538518765 27000.0\n",
      "  360   100 300.26451510873284 -0.7686303965436685 88.60800808670554 151.20951641641543 27000.0\n",
      "  370   100 300.5426318315634 -0.8628522579364118 88.69008028500275 147.56889393970835 27000.0\n",
      "  380   100 299.94429252965574 -0.6945317432734558 88.51351045728657 148.40761570892107 27000.0\n",
      "  390   100 299.3382979863483 -0.5002930163436957 88.3346815691163 150.44418600205117 27000.0\n",
      "  400   100 299.75455438239845 -0.6126010679602304 88.45751876182952 149.30551976806643 27000.0\n",
      "  410   100 299.23342111785496 -0.440872725718154 88.30373242280041 151.08593807093524 27000.0\n",
      "  420   100 300.16092709139355 -0.7075919002097967 88.57743928014924 148.201060576354 27000.0\n",
      "  430   100 299.76387790514707 -0.5964291438429109 88.4602701318301 150.4955749795465 27000.0\n",
      "  440   100 299.607877350631 -0.5217995762608512 88.41423439433682 151.60002450376666 27000.0\n",
      "  450   100 300.56584523751263 -0.8143534696649821 88.69693055720798 147.35294284297956 27000.0\n",
      "  460   100 300.5772520547931 -0.8347905023631861 88.70029670707576 147.4026252595099 27000.0\n",
      "  470   100 300.5388301332122 -0.840190580921494 88.68895840445644 149.156512091788 27000.0\n",
      "  480   100 299.29558127340937 -0.4825871851268875 88.32207587428698 155.84614472142172 27000.0\n",
      "  490   100 298.6880659059515 -0.24586162667810796 88.14279819116479 159.66343752445871 27000.0\n",
      "  500   100 300.2007636562635 -0.6581247673364252 88.58919504376607 153.7537453092979 27000.0\n",
      "LAMMPS (2 Aug 2023)\n",
      "Reading data file ...\n",
      "  orthogonal box = (-15 -15 -15) to (15 15 15)\n",
      "  1 by 1 by 1 MPI processor grid\n",
      "  reading atoms ...\n",
      "  100 atoms\n",
      "  reading velocities ...\n",
      "  100 velocities\n",
      "  read_data CPU = 0.002 seconds\n",
      "Generated 1 of 1 mixed pair_coeff terms from geometric mixing rule\n",
      "Neighbor list info ...\n",
      "  update: every = 1 steps, delay = 0 steps, check = yes\n",
      "  max neighbors/atom: 2000, page size: 100000\n",
      "  master list distance cutoff = 12\n",
      "  ghost atom cutoff = 12\n",
      "  binsize = 6, bins = 5 5 5\n",
      "  1 neighbor lists, perpetual/occasional/extra = 1 0 0\n",
      "  (1) pair lj/cut, perpetual\n",
      "      attributes: half, newton on\n",
      "      pair build: half/bin/atomonly/newton\n",
      "      stencil: half/bin/3d\n",
      "      bin: standard\n",
      "Setting up cg style minimization ...\n",
      "  Unit style    : real\n",
      "  Current step  : 0\n",
      "Per MPI rank memory allocation (min/avg/max) = 4.194 | 4.194 | 4.194 Mbytes\n",
      "   Step          Temp          E_pair         E_mol          TotEng         Press     \n",
      "         0   299.75317      295185.17      0              295273.63      3000486.5    \n",
      "         5   299.75317      271.58364      0              360.04086      2978.1091    \n",
      "        10   299.75317     -1.0268109      0              87.430407      148.52259    \n",
      "        15   299.75317     -1.4590003      0              86.998218      147.3914     \n",
      "        20   299.75317     -1.5781264      0              86.879092      148.52218    \n",
      "        25   299.75317     -1.894632       0              86.562586      148.33312    \n",
      "        27   299.75317     -1.9153285      0              86.541889      147.89724    \n",
      "Loop time of 0.00625013 on 1 procs for 27 steps with 100 atoms\n",
      "\n",
      "100.0% CPU use with 1 MPI tasks x no OpenMP threads\n",
      "\n",
      "Minimization stats:\n",
      "  Stopping criterion = max force evaluations\n",
      "  Energy initial, next-to-last, final = \n",
      "       295185.17187963  -1.90152749098052  -1.91532852506084\n",
      "  Force two-norm initial, final = 7727794.6 0.32122488\n",
      "  Force max component initial, final = 5358120.4 0.1262547\n",
      "  Final line search alpha, max atom move = 0.10253516 0.012945546\n",
      "  Iterations, force evaluations = 27 52\n",
      "\n",
      "MPI task timing breakdown:\n",
      "Section |  min time  |  avg time  |  max time  |%varavg| %total\n",
      "---------------------------------------------------------------\n",
      "Pair    | 0.0029964  | 0.0029964  | 0.0029964  |   0.0 | 47.94\n",
      "Neigh   | 0          | 0          | 0          |   0.0 |  0.00\n",
      "Comm    | 0.00026005 | 0.00026005 | 0.00026005 |   0.0 |  4.16\n",
      "Output  | 0.0022728  | 0.0022728  | 0.0022728  |   0.0 | 36.36\n",
      "Modify  | 0          | 0          | 0          |   0.0 |  0.00\n",
      "Other   |            | 0.0007209  |            |       | 11.53\n",
      "\n",
      "Nlocal:            100 ave         100 max         100 min\n",
      "Histogram: 1 0 0 0 0 0 0 0 0 0\n",
      "Nghost:            491 ave         491 max         491 min\n",
      "Histogram: 1 0 0 0 0 0 0 0 0 0\n",
      "Neighs:           1319 ave        1319 max        1319 min\n",
      "Histogram: 1 0 0 0 0 0 0 0 0 0\n",
      "\n",
      "Total # of neighbors = 1319\n",
      "Ave neighs/atom = 13.19\n",
      "Neighbor list builds = 0\n",
      "Dangerous builds = 0\n",
      "Generated 1 of 1 mixed pair_coeff terms from geometric mixing rule\n",
      "Setting up Verlet run ...\n",
      "  Unit style    : real\n",
      "  Current step  : 0\n",
      "  Time step     : 1\n",
      "Per MPI rank memory allocation (min/avg/max) = 3.069 | 3.069 | 3.069 Mbytes\n",
      "   Step          Temp          E_pair         E_mol          TotEng         Press     \n",
      "         0   300.20076     -1.9153285      0              86.673975      148.12087    \n",
      "        10   291.56297      0.76755581     0              86.807845      180.61407    \n",
      "        20   297.18802     -0.72964161     0              86.970601      162.62874    \n",
      "        30   299.36708     -1.3266849      0              87.016599      150.67614    \n",
      "        40   299.34764     -1.2968251      0              87.040722      146.95305    \n",
      "        50   299.1011      -1.1961505      0              87.068641      146.94613    \n",
      "        60   298.67675     -1.0235859      0              87.11598       148.53537    \n",
      "        70   299.00178     -1.083508       0              87.151974      146.52289    \n",
      "        80   298.97354     -1.0371926      0              87.189957      146.55707    \n",
      "        90   299.27281     -1.0942596      0              87.221205      146.32697    \n",
      "       100   296.40592     -0.17766993     0              87.291776      157.41396    \n",
      "       110   298.78613     -0.84674444     0              87.325101      149.13131    \n",
      "       120   297.35997     -0.35578467     0              87.395201      155.9511     \n",
      "       130   297.02162     -0.15616131     0              87.494975      158.40618    \n",
      "       140   299.5453      -0.85551492     0              87.540361      149.68919    \n",
      "       150   297.62525     -0.24745753     0              87.581813      156.20081    \n",
      "       160   297.82383     -0.19726854     0              87.690603      156.60837    \n",
      "       170   300.12073     -0.85883412     0              87.706851      147.27626    \n",
      "       180   299.76623     -0.74646        0              87.714614      148.5872     \n",
      "       190   299.40315     -0.61820272     0              87.735726      150.66869    \n",
      "       200   299.99769     -0.77944336     0              87.749934      148.71231    \n",
      "       210   300.31154     -0.87381131     0              87.748182      148.06122    \n",
      "       220   299.44235     -0.58429237     0              87.781202      151.7104     \n",
      "       230   300.52282     -0.90511305     0              87.77923       147.3995     \n",
      "       240   296.63873      0.29869377     0              87.83684       161.64201    \n",
      "       250   300.50241     -0.83487787     0              87.843443      150.04256    \n",
      "       260   300.45393     -0.82967563     0              87.834337      151.14426    \n",
      "       270   299.79764     -0.63343886     0              87.836902      155.60231    \n",
      "       280   299.55327     -0.55405062     0              87.844176      158.41396    \n",
      "       290   300.81358     -0.90740437     0              87.862743      154.2015     \n",
      "       300   299.65749     -0.53568378     0              87.8933        156.50418    \n",
      "       310   300.94484     -0.93685761     0              87.872022      150.00747    \n",
      "       320   300.8066      -0.90919406     0              87.858893      150.12382    \n",
      "       330   300.3245      -0.79570114     0              87.830117      153.07441    \n",
      "       340   299.67492     -0.53963848     0              87.894488      157.33482    \n",
      "       350   302.09249     -1.2976245      0              87.849929      150.83075    \n",
      "       360   299.70069     -0.59091146     0              87.850821      158.89478    \n",
      "       370   301.93465     -1.2766155      0              87.82436       147.99918    \n",
      "       380   301.4687      -1.1832254      0              87.780248      146.54037    \n",
      "       390   301.202       -1.1375397      0              87.747229      147.22559    \n",
      "       400   298.58224     -0.36382141     0              87.747856      157.31177    \n",
      "       410   300.98872     -1.0689989      0              87.75283       149.81496    \n",
      "       420   299.36854     -0.57610216     0              87.767613      153.51511    \n",
      "       430   300.93177     -1.0488062      0              87.756217      146.77604    \n",
      "       440   300.95158     -1.0764389      0              87.734431      147.02631    \n",
      "       450   300.91169     -1.089869       0              87.709229      149.54158    \n",
      "       460   298.63479     -0.38472955     0              87.742455      159.14996    \n",
      "       470   300.32695     -0.87486858     0              87.751673      152.54247    \n",
      "       480   300.57308     -0.95530108     0              87.743872      149.65512    \n",
      "       490   300.92499     -1.0765339      0              87.72649       147.03681    \n",
      "       500   301.00468     -1.1238157      0              87.702724      146.77753    \n",
      "Loop time of 0.0287507 on 1 procs for 500 steps with 100 atoms\n",
      "\n",
      "Performance: 1502.574 ns/day, 0.016 hours/ns, 17390.906 timesteps/s, 1.739 Matom-step/s\n",
      "88.8% CPU use with 1 MPI tasks x no OpenMP threads\n",
      "\n",
      "MPI task timing breakdown:\n",
      "Section |  min time  |  avg time  |  max time  |%varavg| %total\n",
      "---------------------------------------------------------------\n",
      "Pair    | 0.009527   | 0.009527   | 0.009527   |   0.0 | 33.14\n",
      "Neigh   | 0.0024962  | 0.0024962  | 0.0024962  |   0.0 |  8.68\n",
      "Comm    | 0.0014801  | 0.0014801  | 0.0014801  |   0.0 |  5.15\n",
      "Output  | 0.012484   | 0.012484   | 0.012484   |   0.0 | 43.42\n",
      "Modify  | 0.0024126  | 0.0024126  | 0.0024126  |   0.0 |  8.39\n",
      "Other   |            | 0.0003505  |            |       |  1.22\n",
      "\n",
      "Nlocal:            100 ave         100 max         100 min\n",
      "Histogram: 1 0 0 0 0 0 0 0 0 0\n",
      "Nghost:            503 ave         503 max         503 min\n",
      "Histogram: 1 0 0 0 0 0 0 0 0 0\n",
      "Neighs:           1315 ave        1315 max        1315 min\n",
      "Histogram: 1 0 0 0 0 0 0 0 0 0\n",
      "\n",
      "Total # of neighbors = 1315\n",
      "Ave neighs/atom = 13.15\n",
      "Neighbor list builds = 20\n",
      "Dangerous builds = 0\n",
      "Total wall time: 0:00:00\n"
     ]
    },
    {
     "data": {
      "text/plain": [
       "0"
      ]
     },
     "execution_count": 24,
     "metadata": {},
     "output_type": "execute_result"
    }
   ],
   "source": [
    "self = MolecularDynamics(number_atoms=[50, 50],\n",
    "                      epsilon=[0.1, 0.1], # kcal/mol\n",
    "                      sigma=[2, 1], # A\n",
    "                      atom_mass=[1, 1], # g/mol\n",
    "                      atom_charge=[1,-1], # in elementary charge units\n",
    "                      Lx=30, # A\n",
    "                      Ly=30, # A\n",
    "                      Lz=30, # A\n",
    "                      minimization_steps = 50,\n",
    "                      maximum_steps=500,\n",
    "                      desired_temperature=300,\n",
    "                      thermo = 10,\n",
    "                      dump = 10,  \n",
    "                      tau_temp = 100, # fs\n",
    "                      #tau_press= 1000, # fs\n",
    "                      time_step=1, # fs\n",
    "                      seed=319817,\n",
    "                      data_folder = \"mdcode-output/\",\n",
    "                      )\n",
    "self.run()\n",
    "# run lammps for comparison\n",
    "os.system(\"/home/simon/Softwares/lammps-2Aug2023/src/lmp_serial -in input.lammps\")"
   ]
  },
  {
   "cell_type": "code",
   "execution_count": 26,
   "metadata": {},
   "outputs": [],
   "source": [
    "from itertools import combinations\n",
    "from scipy.special import erfc # complementary error function : ercf = 1 - erf\n",
    "import numpy as np"
   ]
  },
  {
   "cell_type": "code",
   "execution_count": 27,
   "metadata": {},
   "outputs": [
    {
     "name": "stdout",
     "output_type": "stream",
     "text": [
      "3.249494500532814e-08\n"
     ]
    }
   ],
   "source": [
    "r = self.atoms_positions\n",
    "n = 4\n",
    "pot = 0\n",
    "kappa = 6\n",
    "for position_i, charge_i in zip(self.atoms_positions, self.atoms_charge):\n",
    "    positions_j = self.atoms_positions\n",
    "    charges_j = self.atoms_charge\n",
    "    rij_xyz = (np.remainder(position_i - positions_j\n",
    "        + self.box_size/2., self.box_size) - self.box_size/2.)\n",
    "    norm_rij = np.linalg.norm(rij_xyz, axis=1)\n",
    "    vij = charge_i * charges_j[norm_rij>0] * erfc ( kappa * norm_rij[norm_rij>0] ) / norm_rij[norm_rij>0] # Screened Coulomb term\n",
    "    pot += np.sum(vij)\n",
    "print(pot)"
   ]
  },
  {
   "cell_type": "code",
   "execution_count": 22,
   "metadata": {},
   "outputs": [
    {
     "data": {
      "text/plain": [
       "-1.338583312689866e-23"
      ]
     },
     "execution_count": 22,
     "metadata": {},
     "output_type": "execute_result"
    }
   ],
   "source": [
    "pot"
   ]
  },
  {
   "cell_type": "code",
   "execution_count": 18,
   "metadata": {},
   "outputs": [
    {
     "data": {
      "text/plain": [
       "-1"
      ]
     },
     "execution_count": 18,
     "metadata": {},
     "output_type": "execute_result"
    }
   ],
   "source": [
    "charge_i"
   ]
  },
  {
   "cell_type": "code",
   "execution_count": 9,
   "metadata": {},
   "outputs": [
    {
     "ename": "NameError",
     "evalue": "name 'q' is not defined",
     "output_type": "error",
     "traceback": [
      "\u001b[0;31m---------------------------------------------------------------------------\u001b[0m",
      "\u001b[0;31mNameError\u001b[0m                                 Traceback (most recent call last)",
      "Cell \u001b[0;32mIn[9], line 8\u001b[0m\n\u001b[1;32m      6\u001b[0m rij  \u001b[38;5;241m=\u001b[39m rij \u001b[38;5;241m-\u001b[39m np\u001b[38;5;241m.\u001b[39mrint ( rij )      \u001b[38;5;66;03m# Periodic boundaries\u001b[39;00m\n\u001b[1;32m      7\u001b[0m rij_mag \u001b[38;5;241m=\u001b[39m np\u001b[38;5;241m.\u001b[39msqrt(np\u001b[38;5;241m.\u001b[39msum(rij\u001b[38;5;241m*\u001b[39m\u001b[38;5;241m*\u001b[39m\u001b[38;5;241m2\u001b[39m)) \u001b[38;5;66;03m# Magnitude of separation\u001b[39;00m\n\u001b[0;32m----> 8\u001b[0m vij \u001b[38;5;241m=\u001b[39m \u001b[43mq\u001b[49m[i] \u001b[38;5;241m*\u001b[39m q[j] \u001b[38;5;241m*\u001b[39m erfc ( kappa \u001b[38;5;241m*\u001b[39m rij_mag ) \u001b[38;5;241m/\u001b[39m rij_mag \u001b[38;5;66;03m# Screened Coulomb term\u001b[39;00m\n",
      "\u001b[0;31mNameError\u001b[0m: name 'q' is not defined"
     ]
    }
   ],
   "source": [
    "\n",
    "for i,j in combinations(range(len(r)),2):\n",
    "    rij  = r[i,:] - r[j,:]            # Separation vector (box=1 units)\n",
    "    rij  = rij - np.rint ( rij )      # Periodic boundaries\n",
    "    rij_mag = np.sqrt(np.sum(rij**2)) # Magnitude of separation\n",
    "    vij = q[i] * q[j] * erfc ( kappa * rij_mag ) / rij_mag # Screened Coulomb term"
   ]
  },
  {
   "cell_type": "code",
   "execution_count": 15,
   "metadata": {},
   "outputs": [
    {
     "data": {
      "text/plain": [
       "0.5415847123520906"
      ]
     },
     "execution_count": 15,
     "metadata": {},
     "output_type": "execute_result"
    }
   ],
   "source": [
    "rij_mag"
   ]
  },
  {
   "cell_type": "code",
   "execution_count": 1,
   "metadata": {},
   "outputs": [
    {
     "ename": "NameError",
     "evalue": "name 'n' is not defined",
     "output_type": "error",
     "traceback": [
      "\u001b[0;31m---------------------------------------------------------------------------\u001b[0m",
      "\u001b[0;31mNameError\u001b[0m                                 Traceback (most recent call last)",
      "Cell \u001b[0;32mIn[1], line 5\u001b[0m\n\u001b[1;32m      1\u001b[0m \u001b[38;5;28;01mfrom\u001b[39;00m \u001b[38;5;21;01mitertools\u001b[39;00m \u001b[38;5;28;01mimport\u001b[39;00m combinations\n\u001b[1;32m      3\u001b[0m pot \u001b[38;5;241m=\u001b[39m \u001b[38;5;241m0.0\u001b[39m\n\u001b[0;32m----> 5\u001b[0m \u001b[38;5;28;01mfor\u001b[39;00m i,j \u001b[38;5;129;01min\u001b[39;00m combinations(\u001b[38;5;28mrange\u001b[39m(\u001b[43mn\u001b[49m),\u001b[38;5;241m2\u001b[39m):  \u001b[38;5;66;03m# Double loop over pairs of atoms\u001b[39;00m\n\u001b[1;32m      6\u001b[0m     rij  \u001b[38;5;241m=\u001b[39m r[i,:] \u001b[38;5;241m-\u001b[39m r[j,:]            \u001b[38;5;66;03m# Separation vector (box=1 units)\u001b[39;00m\n\u001b[1;32m      7\u001b[0m     rij  \u001b[38;5;241m=\u001b[39m rij \u001b[38;5;241m-\u001b[39m np\u001b[38;5;241m.\u001b[39mrint ( rij )      \u001b[38;5;66;03m# Periodic boundaries\u001b[39;00m\n",
      "\u001b[0;31mNameError\u001b[0m: name 'n' is not defined"
     ]
    }
   ],
   "source": [
    "pot = 0.0\n",
    "for i,j in combinations(range(n),2):  # Double loop over pairs of atoms\n",
    "    rij  = r[i,:] - r[j,:]            # Separation vector (box=1 units)\n",
    "    rij  = rij - np.rint ( rij )      # Periodic boundaries\n",
    "    rij_mag = np.sqrt(np.sum(rij**2)) # Magnitude of separation\n",
    "    vij = q[i] * q[j] * erfc ( kappa * rij_mag ) / rij_mag # Screened Coulomb term\n",
    "    pot = pot + vij"
   ]
  }
 ],
 "metadata": {
  "kernelspec": {
   "display_name": "Python 3",
   "language": "python",
   "name": "python3"
  },
  "language_info": {
   "codemirror_mode": {
    "name": "ipython",
    "version": 3
   },
   "file_extension": ".py",
   "mimetype": "text/x-python",
   "name": "python",
   "nbconvert_exporter": "python",
   "pygments_lexer": "ipython3",
   "version": "3.11.6"
  }
 },
 "nbformat": 4,
 "nbformat_minor": 4
}
