{
 "cells": [
  {
   "cell_type": "code",
   "execution_count": null,
   "metadata": {},
   "outputs": [],
   "source": [
    "import sys, os, git, time\n",
    "\n",
    "current_path = os.getcwd()\n",
    "git_repo = git.Repo(current_path, search_parent_directories=True)\n",
    "git_path = git_repo.git.rev_parse(\"--show-toplevel\")\n",
    "sys.path.append(git_path+\"/python-codes/\")\n",
    "\n",
    "from InitializeSimulation import InitializeSimulation\n",
    "from Utilities import Utilities\n",
    "from Outputs import Outputs\n",
    "from MolecularDynamics import MolecularDynamics\n",
    "from MonteCarlo import MonteCarlo\n",
    "\n",
    "import numpy as np"
   ]
  },
  {
   "cell_type": "code",
   "execution_count": null,
   "metadata": {},
   "outputs": [],
   "source": [
    "self = MolecularDynamics(number_atoms=[100],\n",
    "                      epsilon=[0.1], # kcal/mol\n",
    "                      sigma=[3], # A\n",
    "                      atom_mass=[1], # g/mol\n",
    "                      # atom_charge=[0], # in elementary charge units\n",
    "                      Lx=50, # A\n",
    "                      Ly=50, # A\n",
    "                      Lz=50, # A\n",
    "                      minimization_steps=50,\n",
    "                      maximum_steps=5000,\n",
    "                      desired_temperature=100,\n",
    "                      desired_pressure=1,\n",
    "                      thermo = 250,\n",
    "                      dump = 250,  \n",
    "                      tau_temp = 100, # fs\n",
    "                      tau_press= 1000, # fs\n",
    "                      time_step=1, # fs\n",
    "                      seed=229817,\n",
    "                      data_folder = \"mdcode-output/\",\n",
    "                      )\n",
    "self.run()\n",
    "# run lammps for comparison\n",
    "os.system(\"/home/simon/Softwares/lammps-2Aug2023/src/lmp_serial -in input.lammps > /dev/null\")"
   ]
  }
 ],
 "metadata": {
  "kernelspec": {
   "display_name": "Python 3",
   "language": "python",
   "name": "python3"
  },
  "language_info": {
   "codemirror_mode": {
    "name": "ipython",
    "version": 3
   },
   "file_extension": ".py",
   "mimetype": "text/x-python",
   "name": "python",
   "nbconvert_exporter": "python",
   "pygments_lexer": "ipython3",
   "version": "3.11.4"
  }
 },
 "nbformat": 4,
 "nbformat_minor": 4
}
