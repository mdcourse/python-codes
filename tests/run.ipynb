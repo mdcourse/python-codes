{
 "cells": [
  {
   "cell_type": "code",
   "execution_count": 1,
   "metadata": {},
   "outputs": [],
   "source": [
    "import sys, os, git, time\n",
    "\n",
    "current_path = os.getcwd()\n",
    "git_repo = git.Repo(current_path, search_parent_directories=True)\n",
    "git_path = git_repo.git.rev_parse(\"--show-toplevel\")\n",
    "sys.path.append(git_path+\"/python-codes/\")\n",
    "\n",
    "from InitializeSimulation import InitializeSimulation\n",
    "from Utilities import Utilities\n",
    "from Outputs import Outputs\n",
    "from MolecularDynamics import MolecularDynamics\n",
    "from MonteCarlo import MonteCarlo\n",
    "\n",
    "import numpy as np"
   ]
  },
  {
   "cell_type": "code",
   "execution_count": 2,
   "metadata": {},
   "outputs": [
    {
     "name": "stdout",
     "output_type": "stream",
     "text": [
      "step epot maxF\n",
      "0 71509052.559 1684434574.971\n",
      "step  N     T (K)     p (atm)   V (A3)    Ep (kcal/mol) Ek (kcal/mol) dens (g/cm3) \n",
      "0     500   4.52e+13  0.202     1.53e+19  -6.31e-23     6.73e+13      5.44e-17     \n"
     ]
    }
   ],
   "source": [
    "self = MolecularDynamics(number_atoms=[100, 400],\n",
    "                      epsilon=[0.1, 1.0], # kcal/mol\n",
    "                      sigma=[3, 6], # A\n",
    "                      atom_mass=[1, 1], # g/mol\n",
    "                      # atom_charge=[0], # in elementary charge units\n",
    "                      Lx=500, # A\n",
    "                      Ly=500, # A\n",
    "                      Lz=500, # A\n",
    "                      minimization_steps=0,\n",
    "                      maximum_steps=0,\n",
    "                      desired_temperature=100,\n",
    "                      desired_pressure=1,\n",
    "                      thermo = 250,\n",
    "                      dump = 250,  \n",
    "                      tau_temp = 100, # fs\n",
    "                      tau_press= 1000, # fs\n",
    "                      time_step=1, # fs\n",
    "                      seed=219817,\n",
    "                      data_folder = \"mdcode-output/\",\n",
    "                      )\n",
    "self.run()\n",
    "# run lammps for comparison\n",
    "#os.system(\"/home/simon/Softwares/lammps-2Aug2023/src/lmp_serial -in input.lammps > /dev/null\")"
   ]
  },
  {
   "cell_type": "markdown",
   "metadata": {},
   "source": [
    "### Case 1"
   ]
  },
  {
   "cell_type": "code",
   "execution_count": 3,
   "metadata": {},
   "outputs": [
    {
     "name": "stdout",
     "output_type": "stream",
     "text": [
      "-6.30730313864524e-22 0.114\n"
     ]
    }
   ],
   "source": [
    "ti = time.time()\n",
    "\n",
    "def calculate_r(self, position_i, positions_j):\n",
    "    \"\"\"Calculate the shortest distance between position_i and positions_j.\n",
    "    # to fix : use the MDAnalysis option\n",
    "    \"\"\"\n",
    "    rij = (np.remainder(position_i - positions_j\n",
    "                        + self.box_size/2., self.box_size) - self.box_size/2.)\n",
    "    return np.linalg.norm(rij, axis=1)\n",
    "\n",
    "energy_potential = 0\n",
    "for position_i, sigma_i, epsilon_i in zip(self.atoms_positions,\n",
    "                                            self.atoms_sigma,\n",
    "                                            self.atoms_epsilon):\n",
    "    r = self.calculate_r(position_i, self.atoms_positions)\n",
    "    sigma_j = self.atoms_sigma\n",
    "    epsilon_j = self.atoms_epsilon\n",
    "    sigma_ij = np.array((sigma_i+sigma_j)/2)\n",
    "    epsilon_ij = np.array((epsilon_i+epsilon_j)/2)\n",
    "    energy_potential_i = np.sum(4*epsilon_ij[r>0]*(np.power(sigma_ij[r>0]/r[r>0], 12)-np.power(sigma_ij[r>0]/r[r>0], 6)))\n",
    "    energy_potential += energy_potential_i\n",
    "\n",
    "tf = time.time()\n",
    "print(energy_potential/2, np.round(tf-ti,3))"
   ]
  },
  {
   "cell_type": "code",
   "execution_count": 4,
   "metadata": {},
   "outputs": [],
   "source": [
    "import matplotlib.pyplot as plt\n",
    "import MDAnalysis as mda\n",
    "from MDAnalysis import analysis\n",
    "from MDAnalysis.analysis import distances"
   ]
  },
  {
   "cell_type": "code",
   "execution_count": 5,
   "metadata": {},
   "outputs": [
    {
     "name": "stdout",
     "output_type": "stream",
     "text": [
      "-6.307298880441376e-22 0.018\n"
     ]
    }
   ],
   "source": [
    "epsilon_ij = []\n",
    "for i in range(self.total_number_atoms):\n",
    "    for j in range(i + 1, self.total_number_atoms):\n",
    "        epsilon_i = self.atoms_epsilon[i]\n",
    "        epsilon_j = self.atoms_epsilon[j]\n",
    "        epsilon_ij.append((epsilon_i+epsilon_j)/2)\n",
    "epsilon_ij = np.array(epsilon_ij)\n",
    "sigma_ij = []\n",
    "for i in range(self.total_number_atoms):\n",
    "    for j in range(i + 1, self.total_number_atoms):\n",
    "        sigma_i = self.atoms_sigma[i]\n",
    "        sigma_j = self.atoms_sigma[j]\n",
    "        sigma_ij.append((sigma_i+sigma_j)/2)\n",
    "sigma_ij = np.array(sigma_ij)\n",
    "\n",
    "box = np.array([self.box_size[0], self.box_size[1], self.box_size[2], 90, 90, 90])\n",
    "\n",
    "ti = time.time()\n",
    "\n",
    "r_ij = mda.analysis.distances.self_distance_array(self.atoms_positions, box)\n",
    "\n",
    "energy_potential = np.sum(4*epsilon_ij*(np.power(sigma_ij/r_ij, 12)-np.power(sigma_ij/r_ij, 6)))\n",
    "\n",
    "tf = time.time()\n",
    "print(energy_potential, np.round(tf-ti,3))"
   ]
  }
 ],
 "metadata": {
  "kernelspec": {
   "display_name": "Python 3",
   "language": "python",
   "name": "python3"
  },
  "language_info": {
   "codemirror_mode": {
    "name": "ipython",
    "version": 3
   },
   "file_extension": ".py",
   "mimetype": "text/x-python",
   "name": "python",
   "nbconvert_exporter": "python",
   "pygments_lexer": "ipython3",
   "version": "3.11.4"
  }
 },
 "nbformat": 4,
 "nbformat_minor": 4
}
