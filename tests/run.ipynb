{
 "cells": [
  {
   "cell_type": "code",
   "execution_count": 1,
   "metadata": {},
   "outputs": [],
   "source": [
    "import sys, os, git, time\n",
    "\n",
    "current_path = os.getcwd()\n",
    "git_repo = git.Repo(current_path, search_parent_directories=True)\n",
    "git_path = git_repo.git.rev_parse(\"--show-toplevel\")\n",
    "sys.path.append(git_path+\"/python-codes/\")\n",
    "\n",
    "from InitializeSimulation import InitializeSimulation\n",
    "from Utilities import Utilities\n",
    "from Outputs import Outputs\n",
    "from MolecularDynamics import MolecularDynamics\n",
    "from MonteCarlo import MonteCarlo\n",
    "\n",
    "import numpy as np"
   ]
  },
  {
   "cell_type": "code",
   "execution_count": 8,
   "metadata": {},
   "outputs": [
    {
     "ename": "TypeError",
     "evalue": "object.__init__() takes exactly one argument (the instance to initialize)",
     "output_type": "error",
     "traceback": [
      "\u001b[0;31m---------------------------------------------------------------------------\u001b[0m",
      "\u001b[0;31mTypeError\u001b[0m                                 Traceback (most recent call last)",
      "\u001b[1;32m/home/simon/Git/MDCourse/python-codes/tests/run.ipynb Cell 2\u001b[0m line \u001b[0;36m1\n\u001b[0;32m----> <a href='vscode-notebook-cell:/home/simon/Git/MDCourse/python-codes/tests/run.ipynb#W1sZmlsZQ%3D%3D?line=0'>1</a>\u001b[0m \u001b[39mself\u001b[39m \u001b[39m=\u001b[39m MonteCarlo(number_atoms\u001b[39m=\u001b[39;49m[\u001b[39m100\u001b[39;49m, \u001b[39m400\u001b[39;49m],\n\u001b[1;32m      <a href='vscode-notebook-cell:/home/simon/Git/MDCourse/python-codes/tests/run.ipynb#W1sZmlsZQ%3D%3D?line=1'>2</a>\u001b[0m     epsilon\u001b[39m=\u001b[39;49m[\u001b[39m0.1\u001b[39;49m, \u001b[39m1.0\u001b[39;49m], \u001b[39m# kcal/mol\u001b[39;49;00m\n\u001b[1;32m      <a href='vscode-notebook-cell:/home/simon/Git/MDCourse/python-codes/tests/run.ipynb#W1sZmlsZQ%3D%3D?line=2'>3</a>\u001b[0m     sigma\u001b[39m=\u001b[39;49m[\u001b[39m3\u001b[39;49m, \u001b[39m6\u001b[39;49m], \u001b[39m# A\u001b[39;49;00m\n\u001b[1;32m      <a href='vscode-notebook-cell:/home/simon/Git/MDCourse/python-codes/tests/run.ipynb#W1sZmlsZQ%3D%3D?line=3'>4</a>\u001b[0m     atom_mass\u001b[39m=\u001b[39;49m[\u001b[39m1\u001b[39;49m, \u001b[39m1\u001b[39;49m], \u001b[39m# g/mol\u001b[39;49;00m\n\u001b[1;32m      <a href='vscode-notebook-cell:/home/simon/Git/MDCourse/python-codes/tests/run.ipynb#W1sZmlsZQ%3D%3D?line=4'>5</a>\u001b[0m     \u001b[39m# atom_charge=[0], # in elementary charge units\u001b[39;49;00m\n\u001b[1;32m      <a href='vscode-notebook-cell:/home/simon/Git/MDCourse/python-codes/tests/run.ipynb#W1sZmlsZQ%3D%3D?line=5'>6</a>\u001b[0m     Lx\u001b[39m=\u001b[39;49m\u001b[39m500\u001b[39;49m, \u001b[39m# A\u001b[39;49;00m\n\u001b[1;32m      <a href='vscode-notebook-cell:/home/simon/Git/MDCourse/python-codes/tests/run.ipynb#W1sZmlsZQ%3D%3D?line=6'>7</a>\u001b[0m     Ly\u001b[39m=\u001b[39;49m\u001b[39m500\u001b[39;49m, \u001b[39m# A\u001b[39;49;00m\n\u001b[1;32m      <a href='vscode-notebook-cell:/home/simon/Git/MDCourse/python-codes/tests/run.ipynb#W1sZmlsZQ%3D%3D?line=7'>8</a>\u001b[0m     Lz\u001b[39m=\u001b[39;49m\u001b[39m500\u001b[39;49m, \u001b[39m# A\u001b[39;49;00m\n\u001b[1;32m      <a href='vscode-notebook-cell:/home/simon/Git/MDCourse/python-codes/tests/run.ipynb#W1sZmlsZQ%3D%3D?line=8'>9</a>\u001b[0m     minimization_steps\u001b[39m=\u001b[39;49m\u001b[39m0\u001b[39;49m,\n\u001b[1;32m     <a href='vscode-notebook-cell:/home/simon/Git/MDCourse/python-codes/tests/run.ipynb#W1sZmlsZQ%3D%3D?line=9'>10</a>\u001b[0m     maximum_steps\u001b[39m=\u001b[39;49m\u001b[39m0\u001b[39;49m,\n\u001b[1;32m     <a href='vscode-notebook-cell:/home/simon/Git/MDCourse/python-codes/tests/run.ipynb#W1sZmlsZQ%3D%3D?line=10'>11</a>\u001b[0m     desired_temperature\u001b[39m=\u001b[39;49m\u001b[39m100\u001b[39;49m,\n\u001b[1;32m     <a href='vscode-notebook-cell:/home/simon/Git/MDCourse/python-codes/tests/run.ipynb#W1sZmlsZQ%3D%3D?line=11'>12</a>\u001b[0m     desired_pressure\u001b[39m=\u001b[39;49m\u001b[39m1\u001b[39;49m,\n\u001b[1;32m     <a href='vscode-notebook-cell:/home/simon/Git/MDCourse/python-codes/tests/run.ipynb#W1sZmlsZQ%3D%3D?line=12'>13</a>\u001b[0m     thermo \u001b[39m=\u001b[39;49m \u001b[39m250\u001b[39;49m,\n\u001b[1;32m     <a href='vscode-notebook-cell:/home/simon/Git/MDCourse/python-codes/tests/run.ipynb#W1sZmlsZQ%3D%3D?line=13'>14</a>\u001b[0m     dump \u001b[39m=\u001b[39;49m \u001b[39m250\u001b[39;49m,  \n\u001b[1;32m     <a href='vscode-notebook-cell:/home/simon/Git/MDCourse/python-codes/tests/run.ipynb#W1sZmlsZQ%3D%3D?line=14'>15</a>\u001b[0m     \u001b[39m#tau_temp = 100, # fs\u001b[39;49;00m\n\u001b[1;32m     <a href='vscode-notebook-cell:/home/simon/Git/MDCourse/python-codes/tests/run.ipynb#W1sZmlsZQ%3D%3D?line=15'>16</a>\u001b[0m     \u001b[39m#tau_press= 1000, # fs\u001b[39;49;00m\n\u001b[1;32m     <a href='vscode-notebook-cell:/home/simon/Git/MDCourse/python-codes/tests/run.ipynb#W1sZmlsZQ%3D%3D?line=16'>17</a>\u001b[0m     time_step\u001b[39m=\u001b[39;49m\u001b[39m1\u001b[39;49m, \u001b[39m# fs\u001b[39;49;00m\n\u001b[1;32m     <a href='vscode-notebook-cell:/home/simon/Git/MDCourse/python-codes/tests/run.ipynb#W1sZmlsZQ%3D%3D?line=17'>18</a>\u001b[0m     seed\u001b[39m=\u001b[39;49m\u001b[39m219817\u001b[39;49m,\n\u001b[1;32m     <a href='vscode-notebook-cell:/home/simon/Git/MDCourse/python-codes/tests/run.ipynb#W1sZmlsZQ%3D%3D?line=18'>19</a>\u001b[0m     data_folder \u001b[39m=\u001b[39;49m \u001b[39m\"\u001b[39;49m\u001b[39mmccode-output/\u001b[39;49m\u001b[39m\"\u001b[39;49m)\n\u001b[1;32m     <a href='vscode-notebook-cell:/home/simon/Git/MDCourse/python-codes/tests/run.ipynb#W1sZmlsZQ%3D%3D?line=19'>20</a>\u001b[0m \u001b[39mself\u001b[39m\u001b[39m.\u001b[39mrun()\n\u001b[1;32m     <a href='vscode-notebook-cell:/home/simon/Git/MDCourse/python-codes/tests/run.ipynb#W1sZmlsZQ%3D%3D?line=20'>21</a>\u001b[0m \u001b[39m# run lammps for comparison\u001b[39;00m\n\u001b[1;32m     <a href='vscode-notebook-cell:/home/simon/Git/MDCourse/python-codes/tests/run.ipynb#W1sZmlsZQ%3D%3D?line=21'>22</a>\u001b[0m \u001b[39m#os.system(\"/home/simon/Softwares/lammps-2Aug2023/src/lmp_serial -in input.lammps > /dev/null\")\u001b[39;00m\n",
      "File \u001b[0;32m~/Git/MDCourse/python-codes/python-codes/MonteCarlo.py:27\u001b[0m, in \u001b[0;36mMonteCarlo.__init__\u001b[0;34m(self, maximum_steps, displace_mc, mu, *args, **kwargs)\u001b[0m\n\u001b[1;32m     25\u001b[0m \u001b[39mself\u001b[39m\u001b[39m.\u001b[39mdisplace_mc \u001b[39m=\u001b[39m displace_mc\n\u001b[1;32m     26\u001b[0m \u001b[39mself\u001b[39m\u001b[39m.\u001b[39mmu \u001b[39m=\u001b[39m mu\n\u001b[0;32m---> 27\u001b[0m \u001b[39msuper\u001b[39;49m()\u001b[39m.\u001b[39;49m\u001b[39m__init__\u001b[39;49m(\u001b[39m*\u001b[39;49margs, \u001b[39m*\u001b[39;49m\u001b[39m*\u001b[39;49mkwargs)\n\u001b[1;32m     29\u001b[0m \u001b[39m#self.cut_off /= self.reference_distance\u001b[39;00m\n\u001b[1;32m     30\u001b[0m \u001b[39mif\u001b[39;00m \u001b[39mself\u001b[39m\u001b[39m.\u001b[39mdisplace_mc \u001b[39mis\u001b[39;00m \u001b[39mnot\u001b[39;00m \u001b[39mNone\u001b[39;00m:\n",
      "File \u001b[0;32m~/Git/MDCourse/python-codes/python-codes/InitializeSimulation.py:24\u001b[0m, in \u001b[0;36mInitializeSimulation.__init__\u001b[0;34m(self, number_atoms, Lx, Ly, Lz, epsilon, sigma, atom_mass, seed, desired_temperature, desired_pressure, *args, **kwargs)\u001b[0m\n\u001b[1;32m     10\u001b[0m \u001b[39mdef\u001b[39;00m \u001b[39m__init__\u001b[39m(\u001b[39mself\u001b[39m,\n\u001b[1;32m     11\u001b[0m              number_atoms,\n\u001b[1;32m     12\u001b[0m              Lx,\n\u001b[0;32m   (...)\u001b[0m\n\u001b[1;32m     22\u001b[0m              \u001b[39m*\u001b[39m\u001b[39m*\u001b[39mkwargs,\n\u001b[1;32m     23\u001b[0m              ):\n\u001b[0;32m---> 24\u001b[0m     \u001b[39msuper\u001b[39;49m()\u001b[39m.\u001b[39;49m\u001b[39m__init__\u001b[39;49m(\u001b[39m*\u001b[39;49margs, \u001b[39m*\u001b[39;49m\u001b[39m*\u001b[39;49mkwargs)\n\u001b[1;32m     26\u001b[0m     \u001b[39mself\u001b[39m\u001b[39m.\u001b[39mnumber_atoms \u001b[39m=\u001b[39m number_atoms\n\u001b[1;32m     27\u001b[0m     \u001b[39mself\u001b[39m\u001b[39m.\u001b[39mLx \u001b[39m=\u001b[39m Lx\n",
      "File \u001b[0;32m~/Git/MDCourse/python-codes/python-codes/Utilities.py:16\u001b[0m, in \u001b[0;36mUtilities.__init__\u001b[0;34m(self, *args, **kwargs)\u001b[0m\n\u001b[1;32m     13\u001b[0m \u001b[39mdef\u001b[39;00m \u001b[39m__init__\u001b[39m(\u001b[39mself\u001b[39m,\n\u001b[1;32m     14\u001b[0m              \u001b[39m*\u001b[39margs,\n\u001b[1;32m     15\u001b[0m              \u001b[39m*\u001b[39m\u001b[39m*\u001b[39mkwargs):\n\u001b[0;32m---> 16\u001b[0m     \u001b[39msuper\u001b[39;49m()\u001b[39m.\u001b[39;49m\u001b[39m__init__\u001b[39;49m(\u001b[39m*\u001b[39;49margs, \u001b[39m*\u001b[39;49m\u001b[39m*\u001b[39;49mkwargs)\n",
      "File \u001b[0;32m~/Git/MDCourse/python-codes/python-codes/Outputs.py:23\u001b[0m, in \u001b[0;36mOutputs.__init__\u001b[0;34m(self, thermo, dump, thermo_minimize, dumping_minimize, data_folder, *args, **kwargs)\u001b[0m\n\u001b[1;32m     21\u001b[0m \u001b[39mself\u001b[39m\u001b[39m.\u001b[39mdump \u001b[39m=\u001b[39m dump\n\u001b[1;32m     22\u001b[0m \u001b[39mself\u001b[39m\u001b[39m.\u001b[39mdata_folder \u001b[39m=\u001b[39m data_folder\n\u001b[0;32m---> 23\u001b[0m \u001b[39msuper\u001b[39;49m()\u001b[39m.\u001b[39;49m\u001b[39m__init__\u001b[39;49m(\u001b[39m*\u001b[39;49margs, \u001b[39m*\u001b[39;49m\u001b[39m*\u001b[39;49mkwargs)\n\u001b[1;32m     25\u001b[0m \u001b[39mif\u001b[39;00m os\u001b[39m.\u001b[39mpath\u001b[39m.\u001b[39mexists(\u001b[39mself\u001b[39m\u001b[39m.\u001b[39mdata_folder) \u001b[39mis\u001b[39;00m \u001b[39mFalse\u001b[39;00m:\n\u001b[1;32m     26\u001b[0m     os\u001b[39m.\u001b[39mmkdir(\u001b[39mself\u001b[39m\u001b[39m.\u001b[39mdata_folder)\n",
      "\u001b[0;31mTypeError\u001b[0m: object.__init__() takes exactly one argument (the instance to initialize)"
     ]
    }
   ],
   "source": [
    "self = MonteCarlo(number_atoms=[100, 400],\n",
    "    epsilon=[0.1, 1.0], # kcal/mol\n",
    "    sigma=[3, 6], # A\n",
    "    atom_mass=[1, 1], # g/mol\n",
    "    # atom_charge=[0], # in elementary charge units\n",
    "    Lx=500, # A\n",
    "    Ly=500, # A\n",
    "    Lz=500, # A\n",
    "    minimization_steps=0,\n",
    "    maximum_steps=0,\n",
    "    desired_temperature=100,\n",
    "    desired_pressure=1,\n",
    "    thermo = 250,\n",
    "    dump = 250,  \n",
    "    #tau_temp = 100, # fs\n",
    "    #tau_press= 1000, # fs\n",
    "    time_step=1, # fs\n",
    "    seed=219817,\n",
    "    data_folder = \"mccode-output/\")\n",
    "self.run()\n",
    "# run lammps for comparison\n",
    "#os.system(\"/home/simon/Softwares/lammps-2Aug2023/src/lmp_serial -in input.lammps > /dev/null\")"
   ]
  },
  {
   "cell_type": "markdown",
   "metadata": {},
   "source": [
    "### Case 1"
   ]
  },
  {
   "cell_type": "code",
   "execution_count": null,
   "metadata": {},
   "outputs": [
    {
     "name": "stdout",
     "output_type": "stream",
     "text": [
      "-6.30730313864524e-22 0.114\n"
     ]
    }
   ],
   "source": [
    "ti = time.time()\n",
    "\n",
    "def calculate_r(self, position_i, positions_j):\n",
    "    \"\"\"Calculate the shortest distance between position_i and positions_j.\n",
    "    # to fix : use the MDAnalysis option\n",
    "    \"\"\"\n",
    "    rij = (np.remainder(position_i - positions_j\n",
    "                        + self.box_size/2., self.box_size) - self.box_size/2.)\n",
    "    return np.linalg.norm(rij, axis=1)\n",
    "\n",
    "energy_potential = 0\n",
    "for position_i, sigma_i, epsilon_i in zip(self.atoms_positions,\n",
    "                                            self.atoms_sigma,\n",
    "                                            self.atoms_epsilon):\n",
    "    r = self.calculate_r(position_i, self.atoms_positions)\n",
    "    sigma_j = self.atoms_sigma\n",
    "    epsilon_j = self.atoms_epsilon\n",
    "    sigma_ij = np.array((sigma_i+sigma_j)/2)\n",
    "    epsilon_ij = np.array((epsilon_i+epsilon_j)/2)\n",
    "    energy_potential_i = np.sum(4*epsilon_ij[r>0]*(np.power(sigma_ij[r>0]/r[r>0], 12)-np.power(sigma_ij[r>0]/r[r>0], 6)))\n",
    "    energy_potential += energy_potential_i\n",
    "\n",
    "tf = time.time()\n",
    "print(energy_potential/2, np.round(tf-ti,3))"
   ]
  },
  {
   "cell_type": "markdown",
   "metadata": {},
   "source": [
    "### Case 2"
   ]
  },
  {
   "cell_type": "code",
   "execution_count": null,
   "metadata": {},
   "outputs": [],
   "source": [
    "import matplotlib.pyplot as plt\n",
    "import MDAnalysis as mda\n",
    "from MDAnalysis import analysis\n",
    "from MDAnalysis.analysis import distances"
   ]
  },
  {
   "cell_type": "code",
   "execution_count": null,
   "metadata": {},
   "outputs": [
    {
     "name": "stdout",
     "output_type": "stream",
     "text": [
      "-6.307298880441376e-22 0.018\n"
     ]
    }
   ],
   "source": [
    "epsilon_ij = []\n",
    "for i in range(self.total_number_atoms):\n",
    "    for j in range(i + 1, self.total_number_atoms):\n",
    "        epsilon_i = self.atoms_epsilon[i]\n",
    "        epsilon_j = self.atoms_epsilon[j]\n",
    "        epsilon_ij.append((epsilon_i+epsilon_j)/2)\n",
    "epsilon_ij = np.array(epsilon_ij)\n",
    "sigma_ij = []\n",
    "for i in range(self.total_number_atoms):\n",
    "    for j in range(i + 1, self.total_number_atoms):\n",
    "        sigma_i = self.atoms_sigma[i]\n",
    "        sigma_j = self.atoms_sigma[j]\n",
    "        sigma_ij.append((sigma_i+sigma_j)/2)\n",
    "sigma_ij = np.array(sigma_ij)\n",
    "\n",
    "box = np.array([self.box_size[0], self.box_size[1], self.box_size[2], 90, 90, 90])\n",
    "\n",
    "ti = time.time()\n",
    "\n",
    "r_ij = mda.analysis.distances.self_distance_array(self.atoms_positions, box)\n",
    "\n",
    "energy_potential = np.sum(4*epsilon_ij*(np.power(sigma_ij/r_ij, 12)-np.power(sigma_ij/r_ij, 6)))\n",
    "\n",
    "tf = time.time()\n",
    "print(energy_potential, np.round(tf-ti,3))"
   ]
  },
  {
   "cell_type": "code",
   "execution_count": null,
   "metadata": {},
   "outputs": [],
   "source": []
  },
  {
   "cell_type": "code",
   "execution_count": null,
   "metadata": {},
   "outputs": [
    {
     "data": {
      "text/plain": [
       "[166.66666666666666, 166.66666666666666, 166.66666666666666, 90, 90, 90]"
      ]
     },
     "execution_count": 11,
     "metadata": {},
     "output_type": "execute_result"
    }
   ],
   "source": [
    "\n"
   ]
  },
  {
   "cell_type": "code",
   "execution_count": null,
   "metadata": {},
   "outputs": [
    {
     "data": {
      "text/plain": [
       "array([[166.66666667, 166.66666667, 166.66666667],\n",
       "       [ 90.        ,  90.        ,  90.        ]])"
      ]
     },
     "execution_count": 8,
     "metadata": {},
     "output_type": "execute_result"
    }
   ],
   "source": [
    "np.vstack([box_size, box_geometry])"
   ]
  }
 ],
 "metadata": {
  "kernelspec": {
   "display_name": "Python 3",
   "language": "python",
   "name": "python3"
  },
  "language_info": {
   "codemirror_mode": {
    "name": "ipython",
    "version": 3
   },
   "file_extension": ".py",
   "mimetype": "text/x-python",
   "name": "python",
   "nbconvert_exporter": "python",
   "pygments_lexer": "ipython3",
   "version": "3.11.4"
  }
 },
 "nbformat": 4,
 "nbformat_minor": 4
}
