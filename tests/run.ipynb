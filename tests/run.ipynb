{
 "cells": [
  {
   "cell_type": "code",
   "execution_count": 1,
   "metadata": {},
   "outputs": [],
   "source": [
    "import sys, os, git, time\n",
    "\n",
    "current_path = os.getcwd()\n",
    "git_repo = git.Repo(current_path, search_parent_directories=True)\n",
    "git_path = git_repo.git.rev_parse(\"--show-toplevel\")\n",
    "sys.path.append(git_path+\"/python-codes/\")\n",
    "\n",
    "from InitializeSimulation import InitializeSimulation\n",
    "from Utilities import Utilities\n",
    "from Outputs import Outputs\n",
    "from MolecularDynamics import MolecularDynamics\n",
    "from MonteCarlo import MonteCarlo\n",
    "\n",
    "import numpy as np"
   ]
  },
  {
   "cell_type": "code",
   "execution_count": 2,
   "metadata": {},
   "outputs": [
    {
     "name": "stdout",
     "output_type": "stream",
     "text": [
      "step epot maxF\n",
      "0 1151.993 14972.849\n",
      "5 26.274 430.176\n",
      "10 -0.171 0.437\n",
      "15 -0.211 0.049\n",
      "20 -0.211 0.002\n",
      "25 -0.211 0.007\n",
      "30 -0.212 0.002\n",
      "35 -0.212 0.008\n",
      "40 -0.212 0.003\n",
      "45 -0.213 0.008\n",
      "50 -0.213 0.008\n",
      "step  N     T (K)     p (atm)   V (A3)    Ep (kcal/mol) Ek (kcal/mol) dens (g/mol/A3)\n",
      "0     50    1e+02     0.666     9.99e+05  -0.213        14.6          5e-05        \n",
      "250   50    99.9      0.737     8.94e+05  -0.0702       14.6          5.59e-05     \n",
      "500   50    1e+02     0.798     8.21e+05  -0.129        14.6          6.09e-05     \n",
      "750   50    99.7      0.856     7.72e+05  -0.0386       14.6          6.47e-05     \n",
      "1000  50    99.9      0.902     7.39e+05  -0.00826      14.6          6.77e-05     \n"
     ]
    },
    {
     "data": {
      "text/plain": [
       "256"
      ]
     },
     "execution_count": 2,
     "metadata": {},
     "output_type": "execute_result"
    }
   ],
   "source": [
    "self = MolecularDynamics(number_atoms=[50],\n",
    "                      epsilon=[0.1], # kcal/mol\n",
    "                      sigma=[3], # A\n",
    "                      atom_mass=[1], # g/mol\n",
    "                      atom_charge=[0], # in elementary charge units\n",
    "                      Lx=100, # A\n",
    "                      Ly=100, # A\n",
    "                      Lz=100, # A\n",
    "                      minimization_steps=50,\n",
    "                      maximum_steps=1000,\n",
    "                      desired_temperature=100,\n",
    "                      desired_pressure=1,\n",
    "                      thermo = 250,\n",
    "                      dump = 250,  \n",
    "                      tau_temp = 100, # fs\n",
    "                      tau_press= 1000, # fs\n",
    "                      time_step=1, # fs\n",
    "                      seed=319817,\n",
    "                      data_folder = \"mdcode-output/\",\n",
    "                      )\n",
    "self.run()\n",
    "# run lammps for comparison\n",
    "os.system(\"/home/simon/Softwares/lammps-2Aug2023/src/lmp_serial -in input.lammps > /dev/null\")"
   ]
  }
 ],
 "metadata": {
  "kernelspec": {
   "display_name": "Python 3",
   "language": "python",
   "name": "python3"
  },
  "language_info": {
   "codemirror_mode": {
    "name": "ipython",
    "version": 3
   },
   "file_extension": ".py",
   "mimetype": "text/x-python",
   "name": "python",
   "nbconvert_exporter": "python",
   "pygments_lexer": "ipython3",
   "version": "3.11.4"
  }
 },
 "nbformat": 4,
 "nbformat_minor": 4
}
