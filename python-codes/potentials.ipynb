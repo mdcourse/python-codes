{
 "cells": [
  {
   "cell_type": "code",
   "execution_count": null,
   "metadata": {},
   "outputs": [
    {
     "name": "stdout",
     "output_type": "stream",
     "text": [
      "Original time: 0.264754 seconds\n",
      "Numba time: 0.236496 seconds\n"
     ]
    }
   ],
   "source": [
    "import numpy as np\n",
    "from numba import njit\n",
    "import time\n",
    "\n",
    "@njit\n",
    "def potentials_numba(epsilon, sigma, r, derivative=False):\n",
    "    if derivative:\n",
    "        return 48 * epsilon * ((sigma / r) ** 12 - 0.5 * (sigma / r) ** 6) / r\n",
    "    else:\n",
    "        return 4 * epsilon * ((sigma / r) ** 12 - (sigma / r) ** 6)\n",
    "\n",
    "def potentials(epsilon, sigma, r, derivative=False):\n",
    "    if derivative:\n",
    "        return 48 * epsilon * ((sigma / r) ** 12 - 0.5 * (sigma / r) ** 6) / r\n",
    "    else:\n",
    "        return 4 * epsilon * ((sigma / r) ** 12 - (sigma / r) ** 6)\n",
    "\n",
    "def compare_functions():\n",
    "    epsilon = 1\n",
    "    sigma = 1\n",
    "\n",
    "    start_time = time.time()\n",
    "    for r in np.linspace(0.001, 100, 1000000):\n",
    "        potential_original = potentials(epsilon, sigma, r)\n",
    "    original_time = time.time() - start_time\n",
    "\n",
    "    potentials_numba(epsilon, sigma, r)\n",
    "    start_time = time.time()\n",
    "    for r in np.linspace(0.001, 100, 1000000):\n",
    "        potential_numba = potentials_numba(epsilon, sigma, r)\n",
    "    numba_time = time.time() - start_time\n",
    "\n",
    "    # Compare results and timings\n",
    "    print(f\"Original time: {original_time:.6f} seconds\")\n",
    "    print(f\"Numba time: {numba_time:.6f} seconds\")\n",
    "    assert potentials(epsilon, sigma, 0.1) == potentials_numba(epsilon, sigma, 0.1)\n",
    "\n",
    "compare_functions()"
   ]
  }
 ],
 "metadata": {
  "kernelspec": {
   "display_name": "Python 3",
   "language": "python",
   "name": "python3"
  },
  "language_info": {
   "codemirror_mode": {
    "name": "ipython",
    "version": 3
   },
   "file_extension": ".py",
   "mimetype": "text/x-python",
   "name": "python",
   "nbconvert_exporter": "python",
   "pygments_lexer": "ipython3",
   "version": "3.12.3"
  }
 },
 "nbformat": 4,
 "nbformat_minor": 2
}
