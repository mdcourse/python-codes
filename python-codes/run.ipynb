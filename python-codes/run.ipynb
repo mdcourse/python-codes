{
 "cells": [
  {
   "cell_type": "code",
   "execution_count": null,
   "metadata": {},
   "outputs": [],
   "source": [
    "from InitializeSimulation import InitializeSimulation\n",
    "from Utilities import Utilities\n",
    "from Outputs import Outputs\n",
    "from MolecularDynamics import MolecularDynamics\n",
    "from MonteCarlo import MonteCarlo"
   ]
  },
  {
   "cell_type": "code",
   "execution_count": null,
   "metadata": {},
   "outputs": [],
   "source": [
    "import numpy as np"
   ]
  },
  {
   "cell_type": "code",
   "execution_count": null,
   "metadata": {},
   "outputs": [],
   "source": [
    "self = MolecularDynamics(number_atoms=[200, 100],\n",
    "                      epsilon=[1, 0.4],\n",
    "                      sigma=[1, 3],\n",
    "                      atom_mass= [1, 1],\n",
    "                      Lx=30,\n",
    "                      Ly=30,\n",
    "                      Lz=30,\n",
    "                      minimization_steps = 20,\n",
    "                      maximum_steps=2000,\n",
    "                      desired_temperature=300,\n",
    "                      thermo = 100,\n",
    "                      dump = 100,  \n",
    "                      tau_temp = 100,\n",
    "                      time_step=1,\n",
    "                      seed=219817,\n",
    "                      )\n",
    "self.run()"
   ]
  },
  {
   "cell_type": "code",
   "execution_count": null,
   "metadata": {},
   "outputs": [],
   "source": [
    "\n",
    "x = MonteCarlo(number_atoms=[10, 2],\n",
    "               epsilon=[1, 0.1],\n",
    "               sigma=[1, 4],\n",
    "               atom_mass= [1, 1],\n",
    "               Lx=20,\n",
    "               Ly=20,\n",
    "               Lz=20,\n",
    "               maximum_steps=1000,\n",
    "               displace_mc = 0.5,\n",
    "               seed=6987,\n",
    "               dump = 10,\n",
    "               thermo = 10,\n",
    "               )\n",
    "x.run()"
   ]
  }
 ],
 "metadata": {
  "kernelspec": {
   "display_name": "Python 3",
   "language": "python",
   "name": "python3"
  },
  "language_info": {
   "codemirror_mode": {
    "name": "ipython",
    "version": 3
   },
   "file_extension": ".py",
   "mimetype": "text/x-python",
   "name": "python",
   "nbconvert_exporter": "python",
   "pygments_lexer": "ipython3",
   "version": "3.11.4"
  }
 },
 "nbformat": 4,
 "nbformat_minor": 4
}
