{
 "cells": [
  {
   "cell_type": "code",
   "execution_count": 2,
   "metadata": {},
   "outputs": [],
   "source": [
    "from InitializeSimulation import InitializeSimulation\n",
    "from Utilities import Utilities\n",
    "from Outputs import Outputs\n",
    "from MolecularDynamics import MolecularDynamics\n",
    "from MonteCarlo import MonteCarlo"
   ]
  },
  {
   "cell_type": "code",
   "execution_count": 3,
   "metadata": {},
   "outputs": [
    {
     "ename": "AttributeError",
     "evalue": "'MolecularDynamics' object has no attribute 'reference_distance'",
     "output_type": "error",
     "traceback": [
      "\u001b[0;31m---------------------------------------------------------------------------\u001b[0m",
      "\u001b[0;31mAttributeError\u001b[0m                            Traceback (most recent call last)",
      "\u001b[1;32m/home/simon/Git/MDCourse/python-codes/python-codes/run.ipynb Cell 2\u001b[0m line \u001b[0;36m1\n\u001b[0;32m----> <a href='vscode-notebook-cell:/home/simon/Git/MDCourse/python-codes/python-codes/run.ipynb#W1sZmlsZQ%3D%3D?line=0'>1</a>\u001b[0m x \u001b[39m=\u001b[39m MolecularDynamics(number_atoms\u001b[39m=\u001b[39;49m\u001b[39m5\u001b[39;49m, \u001b[39m#[10, 5],\u001b[39;49;00m\n\u001b[1;32m      <a href='vscode-notebook-cell:/home/simon/Git/MDCourse/python-codes/python-codes/run.ipynb#W1sZmlsZQ%3D%3D?line=1'>2</a>\u001b[0m                       epsilon\u001b[39m=\u001b[39;49m\u001b[39m4\u001b[39;49m, \u001b[39m#[0.1, 0.1],\u001b[39;49;00m\n\u001b[1;32m      <a href='vscode-notebook-cell:/home/simon/Git/MDCourse/python-codes/python-codes/run.ipynb#W1sZmlsZQ%3D%3D?line=2'>3</a>\u001b[0m                       sigma\u001b[39m=\u001b[39;49m\u001b[39m1\u001b[39;49m, \u001b[39m#[1, 3],\u001b[39;49;00m\n\u001b[1;32m      <a href='vscode-notebook-cell:/home/simon/Git/MDCourse/python-codes/python-codes/run.ipynb#W1sZmlsZQ%3D%3D?line=3'>4</a>\u001b[0m                       atom_mass\u001b[39m=\u001b[39;49m \u001b[39m1\u001b[39;49m, \u001b[39m#[1, 1],\u001b[39;49;00m\n\u001b[1;32m      <a href='vscode-notebook-cell:/home/simon/Git/MDCourse/python-codes/python-codes/run.ipynb#W1sZmlsZQ%3D%3D?line=4'>5</a>\u001b[0m                       Lx\u001b[39m=\u001b[39;49m\u001b[39m40\u001b[39;49m,\n\u001b[1;32m      <a href='vscode-notebook-cell:/home/simon/Git/MDCourse/python-codes/python-codes/run.ipynb#W1sZmlsZQ%3D%3D?line=5'>6</a>\u001b[0m                       Ly\u001b[39m=\u001b[39;49m\u001b[39m40\u001b[39;49m,\n\u001b[1;32m      <a href='vscode-notebook-cell:/home/simon/Git/MDCourse/python-codes/python-codes/run.ipynb#W1sZmlsZQ%3D%3D?line=6'>7</a>\u001b[0m                       Lz\u001b[39m=\u001b[39;49m\u001b[39m15\u001b[39;49m,\n\u001b[1;32m      <a href='vscode-notebook-cell:/home/simon/Git/MDCourse/python-codes/python-codes/run.ipynb#W1sZmlsZQ%3D%3D?line=7'>8</a>\u001b[0m                       maximum_steps\u001b[39m=\u001b[39;49m\u001b[39m100\u001b[39;49m,\n\u001b[1;32m      <a href='vscode-notebook-cell:/home/simon/Git/MDCourse/python-codes/python-codes/run.ipynb#W1sZmlsZQ%3D%3D?line=8'>9</a>\u001b[0m                       thermo \u001b[39m=\u001b[39;49m \u001b[39m10\u001b[39;49m,\n\u001b[1;32m     <a href='vscode-notebook-cell:/home/simon/Git/MDCourse/python-codes/python-codes/run.ipynb#W1sZmlsZQ%3D%3D?line=9'>10</a>\u001b[0m                       dump \u001b[39m=\u001b[39;49m \u001b[39m10\u001b[39;49m,  \n\u001b[1;32m     <a href='vscode-notebook-cell:/home/simon/Git/MDCourse/python-codes/python-codes/run.ipynb#W1sZmlsZQ%3D%3D?line=10'>11</a>\u001b[0m                       tau_temp \u001b[39m=\u001b[39;49m \u001b[39m0.01\u001b[39;49m,\n\u001b[1;32m     <a href='vscode-notebook-cell:/home/simon/Git/MDCourse/python-codes/python-codes/run.ipynb#W1sZmlsZQ%3D%3D?line=11'>12</a>\u001b[0m                       seed\u001b[39m=\u001b[39;49m\u001b[39m519817\u001b[39;49m,\n\u001b[1;32m     <a href='vscode-notebook-cell:/home/simon/Git/MDCourse/python-codes/python-codes/run.ipynb#W1sZmlsZQ%3D%3D?line=12'>13</a>\u001b[0m                       )\n\u001b[1;32m     <a href='vscode-notebook-cell:/home/simon/Git/MDCourse/python-codes/python-codes/run.ipynb#W1sZmlsZQ%3D%3D?line=13'>14</a>\u001b[0m x\u001b[39m.\u001b[39mrun()\n",
      "File \u001b[0;32m~/Git/MDCourse/python-codes/python-codes/MolecularDynamics.py:28\u001b[0m, in \u001b[0;36mMolecularDynamics.__init__\u001b[0;34m(self, maximum_steps, tau_temp, tau_press, cut_off, time_step, *args, **kwargs)\u001b[0m\n\u001b[1;32m     26\u001b[0m \u001b[39mself\u001b[39m\u001b[39m.\u001b[39mcut_off \u001b[39m=\u001b[39m cut_off\n\u001b[1;32m     27\u001b[0m \u001b[39mself\u001b[39m\u001b[39m.\u001b[39mtime_step \u001b[39m=\u001b[39m time_step\n\u001b[0;32m---> 28\u001b[0m \u001b[39msuper\u001b[39;49m()\u001b[39m.\u001b[39;49m\u001b[39m__init__\u001b[39;49m(\u001b[39m*\u001b[39;49margs, \u001b[39m*\u001b[39;49m\u001b[39m*\u001b[39;49mkwargs)\n\u001b[1;32m     30\u001b[0m \u001b[39mself\u001b[39m\u001b[39m.\u001b[39mcut_off \u001b[39m=\u001b[39m \u001b[39mself\u001b[39m\u001b[39m.\u001b[39mnondimensionalise_units(\u001b[39mself\u001b[39m\u001b[39m.\u001b[39mcut_off, \u001b[39m\"\u001b[39m\u001b[39mdistance\u001b[39m\u001b[39m\"\u001b[39m)\n\u001b[1;32m     31\u001b[0m \u001b[39mself\u001b[39m\u001b[39m.\u001b[39mtime_step \u001b[39m=\u001b[39m \u001b[39mself\u001b[39m\u001b[39m.\u001b[39mnondimensionalise_units(\u001b[39mself\u001b[39m\u001b[39m.\u001b[39mtime_step, \u001b[39m\"\u001b[39m\u001b[39mtime\u001b[39m\u001b[39m\"\u001b[39m)\n",
      "File \u001b[0;32m~/Git/MDCourse/python-codes/python-codes/InitializeSimulation.py:65\u001b[0m, in \u001b[0;36mInitializeSimulation.__init__\u001b[0;34m(self, number_atoms, Lx, dimensions, Ly, Lz, epsilon, sigma, atom_mass, seed, desired_temperature, desired_pressure, provided_positions, provided_velocities, *args, **kwargs)\u001b[0m\n\u001b[1;32m     63\u001b[0m \u001b[39mself\u001b[39m\u001b[39m.\u001b[39mpopulate_box()\n\u001b[1;32m     64\u001b[0m \u001b[39mself\u001b[39m\u001b[39m.\u001b[39mgive_velocity()\n\u001b[0;32m---> 65\u001b[0m \u001b[39mself\u001b[39;49m\u001b[39m.\u001b[39;49mwrite_lammps_data(filename\u001b[39m=\u001b[39;49m\u001b[39m\"\u001b[39;49m\u001b[39minitial.data\u001b[39;49m\u001b[39m\"\u001b[39;49m)\n\u001b[1;32m     67\u001b[0m \u001b[39m\u001b[39m\u001b[39m\"\"\"\u001b[39;00m\n\u001b[1;32m     68\u001b[0m \u001b[39mdef nondimensionalise_units(self, variable, type):\u001b[39;00m\n\u001b[1;32m     69\u001b[0m \u001b[39mkB = cst.Boltzmann*cst.Avogadro/cst.calorie/cst.kilo # kCal/mol/K\u001b[39;00m\n\u001b[0;32m   (...)\u001b[0m\n\u001b[1;32m     85\u001b[0m \u001b[39mreturn variable\u001b[39;00m\n\u001b[1;32m     86\u001b[0m \u001b[39m\"\"\"\u001b[39;00m\n",
      "File \u001b[0;32m~/Git/MDCourse/python-codes/python-codes/Outputs.py:115\u001b[0m, in \u001b[0;36mOutputs.write_lammps_data\u001b[0;34m(self, filename)\u001b[0m\n\u001b[1;32m    113\u001b[0m f\u001b[39m.\u001b[39mwrite(\u001b[39m'\u001b[39m\u001b[39m1 atom types\u001b[39m\u001b[39m\\n\u001b[39;00m\u001b[39m'\u001b[39m)\n\u001b[1;32m    114\u001b[0m f\u001b[39m.\u001b[39mwrite(\u001b[39m'\u001b[39m\u001b[39m\\n\u001b[39;00m\u001b[39m'\u001b[39m)\n\u001b[0;32m--> 115\u001b[0m \u001b[39mfor\u001b[39;00m LminLmax, dim \u001b[39min\u001b[39;00m \u001b[39mzip\u001b[39m(\u001b[39mself\u001b[39m\u001b[39m.\u001b[39mbox_boundaries\u001b[39m*\u001b[39m\u001b[39mself\u001b[39;49m\u001b[39m.\u001b[39;49mreference_distance, [\u001b[39m\"\u001b[39m\u001b[39mx\u001b[39m\u001b[39m\"\u001b[39m, \u001b[39m\"\u001b[39m\u001b[39my\u001b[39m\u001b[39m\"\u001b[39m, \u001b[39m\"\u001b[39m\u001b[39mz\u001b[39m\u001b[39m\"\u001b[39m]):\n\u001b[1;32m    116\u001b[0m     f\u001b[39m.\u001b[39mwrite(\u001b[39mstr\u001b[39m(LminLmax[\u001b[39m0\u001b[39m])\u001b[39m+\u001b[39m\u001b[39m'\u001b[39m\u001b[39m \u001b[39m\u001b[39m'\u001b[39m\u001b[39m+\u001b[39m\u001b[39mstr\u001b[39m(LminLmax[\u001b[39m1\u001b[39m])\u001b[39m+\u001b[39m\u001b[39m'\u001b[39m\u001b[39m \u001b[39m\u001b[39m'\u001b[39m\u001b[39m+\u001b[39mdim\u001b[39m+\u001b[39m\u001b[39m'\u001b[39m\u001b[39mlo \u001b[39m\u001b[39m'\u001b[39m \u001b[39m+\u001b[39m dim \u001b[39m+\u001b[39m  \u001b[39m'\u001b[39m\u001b[39mhi\u001b[39m\u001b[39m\\n\u001b[39;00m\u001b[39m'\u001b[39m)\n\u001b[1;32m    117\u001b[0m f\u001b[39m.\u001b[39mwrite(\u001b[39m'\u001b[39m\u001b[39m\\n\u001b[39;00m\u001b[39m'\u001b[39m)\n",
      "\u001b[0;31mAttributeError\u001b[0m: 'MolecularDynamics' object has no attribute 'reference_distance'"
     ]
    }
   ],
   "source": [
    "x = MolecularDynamics(number_atoms=5, #[10, 5],\n",
    "                      epsilon=4, #[0.1, 0.1],\n",
    "                      sigma=1, #[1, 3],\n",
    "                      atom_mass= 1, #[1, 1],\n",
    "                      Lx=40,\n",
    "                      Ly=40,\n",
    "                      Lz=15,\n",
    "                      maximum_steps=100,\n",
    "                      thermo = 10,\n",
    "                      dump = 10,  \n",
    "                      tau_temp = 0.01,\n",
    "                      seed=519817,\n",
    "                      )\n",
    "x.run()"
   ]
  },
  {
   "cell_type": "code",
   "execution_count": null,
   "metadata": {},
   "outputs": [
    {
     "name": "stdout",
     "output_type": "stream",
     "text": [
      "step N temp epot ekin press vol\n",
      "0 [10, 5] 300.0 -7.88E-05 1.25E+01 2.38E+01 2.40E+04\n"
     ]
    },
    {
     "name": "stdout",
     "output_type": "stream",
     "text": [
      "10 [10, 5] 300.0 -6.80E-05 1.25E+01 2.39E+01 2.40E+04\n"
     ]
    }
   ],
   "source": [
    "x = MonteCarlo(number_atoms=[10, 5],\n",
    "               Lx=40,\n",
    "               Ly=40,\n",
    "               Lz=15,\n",
    "               maximum_steps=10,\n",
    "               displace_mc = 0.5,\n",
    "               seed=6987,\n",
    "               dump = 10,\n",
    "               thermo = 10,\n",
    "               )\n",
    "x.run()"
   ]
  }
 ],
 "metadata": {
  "kernelspec": {
   "display_name": "Python 3",
   "language": "python",
   "name": "python3"
  },
  "language_info": {
   "codemirror_mode": {
    "name": "ipython",
    "version": 3
   },
   "file_extension": ".py",
   "mimetype": "text/x-python",
   "name": "python",
   "nbconvert_exporter": "python",
   "pygments_lexer": "ipython3",
   "version": "3.11.4"
  }
 },
 "nbformat": 4,
 "nbformat_minor": 4
}
