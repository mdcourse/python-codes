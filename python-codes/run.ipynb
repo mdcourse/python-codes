{
 "cells": [
  {
   "cell_type": "code",
   "execution_count": 1,
   "metadata": {},
   "outputs": [],
   "source": [
    "from InitializeSimulation import InitializeSimulation\n",
    "from Utilities import Utilities\n",
    "from Outputs import Outputs\n",
    "from MolecularDynamics import MolecularDynamics\n",
    "from MonteCarlo import MonteCarlo"
   ]
  },
  {
   "cell_type": "code",
   "execution_count": 2,
   "metadata": {},
   "outputs": [],
   "source": [
    "import numpy as np"
   ]
  },
  {
   "cell_type": "code",
   "execution_count": 3,
   "metadata": {},
   "outputs": [
    {
     "ename": "AttributeError",
     "evalue": "'MolecularDynamics' object has no attribute 'box_boundaries'",
     "output_type": "error",
     "traceback": [
      "\u001b[0;31m---------------------------------------------------------------------------\u001b[0m",
      "\u001b[0;31mAttributeError\u001b[0m                            Traceback (most recent call last)",
      "\u001b[1;32m/home/simon/Git/MDCourse/python-codes/python-codes/run.ipynb Cell 3\u001b[0m line \u001b[0;36m1\n\u001b[0;32m----> <a href='vscode-notebook-cell:/home/simon/Git/MDCourse/python-codes/python-codes/run.ipynb#W2sZmlsZQ%3D%3D?line=0'>1</a>\u001b[0m \u001b[39mself\u001b[39m \u001b[39m=\u001b[39m MolecularDynamics(number_atoms\u001b[39m=\u001b[39;49m[\u001b[39m4\u001b[39;49m, \u001b[39m1\u001b[39;49m],\n\u001b[1;32m      <a href='vscode-notebook-cell:/home/simon/Git/MDCourse/python-codes/python-codes/run.ipynb#W2sZmlsZQ%3D%3D?line=1'>2</a>\u001b[0m                       epsilon\u001b[39m=\u001b[39;49m[\u001b[39m1\u001b[39;49m, \u001b[39m0.4\u001b[39;49m],\n\u001b[1;32m      <a href='vscode-notebook-cell:/home/simon/Git/MDCourse/python-codes/python-codes/run.ipynb#W2sZmlsZQ%3D%3D?line=2'>3</a>\u001b[0m                       sigma\u001b[39m=\u001b[39;49m[\u001b[39m1\u001b[39;49m, \u001b[39m3\u001b[39;49m],\n\u001b[1;32m      <a href='vscode-notebook-cell:/home/simon/Git/MDCourse/python-codes/python-codes/run.ipynb#W2sZmlsZQ%3D%3D?line=3'>4</a>\u001b[0m                       atom_mass\u001b[39m=\u001b[39;49m [\u001b[39m1\u001b[39;49m, \u001b[39m1\u001b[39;49m],\n\u001b[1;32m      <a href='vscode-notebook-cell:/home/simon/Git/MDCourse/python-codes/python-codes/run.ipynb#W2sZmlsZQ%3D%3D?line=4'>5</a>\u001b[0m                       Lx\u001b[39m=\u001b[39;49m\u001b[39m20\u001b[39;49m,\n\u001b[1;32m      <a href='vscode-notebook-cell:/home/simon/Git/MDCourse/python-codes/python-codes/run.ipynb#W2sZmlsZQ%3D%3D?line=5'>6</a>\u001b[0m                       Ly\u001b[39m=\u001b[39;49m\u001b[39m20\u001b[39;49m,\n\u001b[1;32m      <a href='vscode-notebook-cell:/home/simon/Git/MDCourse/python-codes/python-codes/run.ipynb#W2sZmlsZQ%3D%3D?line=6'>7</a>\u001b[0m                       Lz\u001b[39m=\u001b[39;49m\u001b[39m20\u001b[39;49m,\n\u001b[1;32m      <a href='vscode-notebook-cell:/home/simon/Git/MDCourse/python-codes/python-codes/run.ipynb#W2sZmlsZQ%3D%3D?line=7'>8</a>\u001b[0m                       maximum_steps\u001b[39m=\u001b[39;49m\u001b[39m5\u001b[39;49m,\n\u001b[1;32m      <a href='vscode-notebook-cell:/home/simon/Git/MDCourse/python-codes/python-codes/run.ipynb#W2sZmlsZQ%3D%3D?line=8'>9</a>\u001b[0m                       desired_temperature\u001b[39m=\u001b[39;49m\u001b[39m300\u001b[39;49m,\n\u001b[1;32m     <a href='vscode-notebook-cell:/home/simon/Git/MDCourse/python-codes/python-codes/run.ipynb#W2sZmlsZQ%3D%3D?line=9'>10</a>\u001b[0m                       thermo \u001b[39m=\u001b[39;49m \u001b[39m1\u001b[39;49m,\n\u001b[1;32m     <a href='vscode-notebook-cell:/home/simon/Git/MDCourse/python-codes/python-codes/run.ipynb#W2sZmlsZQ%3D%3D?line=10'>11</a>\u001b[0m                       dump \u001b[39m=\u001b[39;49m \u001b[39m1\u001b[39;49m,  \n\u001b[1;32m     <a href='vscode-notebook-cell:/home/simon/Git/MDCourse/python-codes/python-codes/run.ipynb#W2sZmlsZQ%3D%3D?line=11'>12</a>\u001b[0m                       tau_temp \u001b[39m=\u001b[39;49m \u001b[39m100\u001b[39;49m,\n\u001b[1;32m     <a href='vscode-notebook-cell:/home/simon/Git/MDCourse/python-codes/python-codes/run.ipynb#W2sZmlsZQ%3D%3D?line=12'>13</a>\u001b[0m                       time_step\u001b[39m=\u001b[39;49m\u001b[39m1\u001b[39;49m,\n\u001b[1;32m     <a href='vscode-notebook-cell:/home/simon/Git/MDCourse/python-codes/python-codes/run.ipynb#W2sZmlsZQ%3D%3D?line=13'>14</a>\u001b[0m                       seed\u001b[39m=\u001b[39;49m\u001b[39m519817\u001b[39;49m,\n\u001b[1;32m     <a href='vscode-notebook-cell:/home/simon/Git/MDCourse/python-codes/python-codes/run.ipynb#W2sZmlsZQ%3D%3D?line=14'>15</a>\u001b[0m                       )\n\u001b[1;32m     <a href='vscode-notebook-cell:/home/simon/Git/MDCourse/python-codes/python-codes/run.ipynb#W2sZmlsZQ%3D%3D?line=15'>16</a>\u001b[0m \u001b[39mself\u001b[39m\u001b[39m.\u001b[39mrun()\n",
      "File \u001b[0;32m~/Git/MDCourse/python-codes/python-codes/MolecularDynamics.py:28\u001b[0m, in \u001b[0;36mMolecularDynamics.__init__\u001b[0;34m(self, maximum_steps, tau_temp, tau_press, cut_off, time_step, *args, **kwargs)\u001b[0m\n\u001b[1;32m     26\u001b[0m \u001b[39mself\u001b[39m\u001b[39m.\u001b[39mcut_off \u001b[39m=\u001b[39m cut_off\n\u001b[1;32m     27\u001b[0m \u001b[39mself\u001b[39m\u001b[39m.\u001b[39mtime_step \u001b[39m=\u001b[39m time_step\n\u001b[0;32m---> 28\u001b[0m \u001b[39msuper\u001b[39;49m()\u001b[39m.\u001b[39;49m\u001b[39m__init__\u001b[39;49m(\u001b[39m*\u001b[39;49margs, \u001b[39m*\u001b[39;49m\u001b[39m*\u001b[39;49mkwargs)\n\u001b[1;32m     30\u001b[0m \u001b[39mself\u001b[39m\u001b[39m.\u001b[39mcut_off \u001b[39m=\u001b[39m \u001b[39mself\u001b[39m\u001b[39m.\u001b[39mnondimensionalise_units(\u001b[39mself\u001b[39m\u001b[39m.\u001b[39mcut_off, \u001b[39m\"\u001b[39m\u001b[39mdistance\u001b[39m\u001b[39m\"\u001b[39m)\n\u001b[1;32m     31\u001b[0m \u001b[39mself\u001b[39m\u001b[39m.\u001b[39mtime_step \u001b[39m=\u001b[39m \u001b[39mself\u001b[39m\u001b[39m.\u001b[39mnondimensionalise_units(\u001b[39mself\u001b[39m\u001b[39m.\u001b[39mtime_step, \u001b[39m\"\u001b[39m\u001b[39mtime\u001b[39m\u001b[39m\"\u001b[39m)\n",
      "File \u001b[0;32m~/Git/MDCourse/python-codes/python-codes/InitializeSimulation.py:77\u001b[0m, in \u001b[0;36mInitializeSimulation.__init__\u001b[0;34m(self, number_atoms, Lx, dimensions, Ly, Lz, epsilon, sigma, atom_mass, seed, desired_temperature, desired_pressure, provided_positions, provided_velocities, *args, **kwargs)\u001b[0m\n\u001b[1;32m     75\u001b[0m \u001b[39mself\u001b[39m\u001b[39m.\u001b[39minitialize_box()\n\u001b[1;32m     76\u001b[0m \u001b[39mself\u001b[39m\u001b[39m.\u001b[39minitialize_atoms()\n\u001b[0;32m---> 77\u001b[0m \u001b[39mself\u001b[39;49m\u001b[39m.\u001b[39;49mpopulate_box()\n\u001b[1;32m     78\u001b[0m \u001b[39mself\u001b[39m\u001b[39m.\u001b[39mset_initial_velocity()\n\u001b[1;32m     79\u001b[0m \u001b[39mself\u001b[39m\u001b[39m.\u001b[39mwrite_lammps_data(filename\u001b[39m=\u001b[39m\u001b[39m\"\u001b[39m\u001b[39minitial.data\u001b[39m\u001b[39m\"\u001b[39m)\n",
      "File \u001b[0;32m~/Git/MDCourse/python-codes/python-codes/InitializeSimulation.py:157\u001b[0m, in \u001b[0;36mInitializeSimulation.populate_box\u001b[0;34m(self)\u001b[0m\n\u001b[1;32m    155\u001b[0m \u001b[39melse\u001b[39;00m:\n\u001b[1;32m    156\u001b[0m     \u001b[39mfor\u001b[39;00m dim \u001b[39min\u001b[39;00m np\u001b[39m.\u001b[39marange(\u001b[39mself\u001b[39m\u001b[39m.\u001b[39mdimensions):\n\u001b[0;32m--> 157\u001b[0m         atoms_positions[:, dim] \u001b[39m=\u001b[39m np\u001b[39m.\u001b[39mrandom\u001b[39m.\u001b[39mrandom(\u001b[39mself\u001b[39m\u001b[39m.\u001b[39mtotal_number_atoms)\u001b[39m*\u001b[39mnp\u001b[39m.\u001b[39mdiff(\u001b[39mself\u001b[39;49m\u001b[39m.\u001b[39;49mbox_boundaries[dim]) \u001b[39m-\u001b[39m np\u001b[39m.\u001b[39mdiff(\u001b[39mself\u001b[39m\u001b[39m.\u001b[39mbox_boundaries[dim])\u001b[39m/\u001b[39m\u001b[39m2\u001b[39m    \n\u001b[1;32m    158\u001b[0m \u001b[39mself\u001b[39m\u001b[39m.\u001b[39matoms_positions \u001b[39m=\u001b[39m atoms_positions\n",
      "\u001b[0;31mAttributeError\u001b[0m: 'MolecularDynamics' object has no attribute 'box_boundaries'"
     ]
    }
   ],
   "source": [
    "self = MolecularDynamics(number_atoms=[40, 10],\n",
    "                      epsilon=[1, 0.4],\n",
    "                      sigma=[1, 3],\n",
    "                      atom_mass= [1, 1],\n",
    "                      Lx=30,\n",
    "                      Ly=30,\n",
    "                      Lz=30,\n",
    "                      maximum_steps=2000,\n",
    "                      desired_temperature=300,\n",
    "                      thermo = 100,\n",
    "                      dump = 100,  \n",
    "                      tau_temp = 100,\n",
    "                      time_step=1,\n",
    "                      seed=519817,\n",
    "                      )\n",
    "self.run()"
   ]
  },
  {
   "cell_type": "code",
   "execution_count": null,
   "metadata": {},
   "outputs": [],
   "source": []
  },
  {
   "cell_type": "code",
   "execution_count": null,
   "metadata": {},
   "outputs": [],
   "source": [
    "if 2 < 1:\n",
    "    x = MonteCarlo(number_atoms=[10, 5],\n",
    "                Lx=40,\n",
    "                Ly=40,\n",
    "                Lz=15,\n",
    "                maximum_steps=10,\n",
    "                displace_mc = 0.5,\n",
    "                seed=6987,\n",
    "                dump = 10,\n",
    "                thermo = 10,\n",
    "                )\n",
    "    x.run()"
   ]
  }
 ],
 "metadata": {
  "kernelspec": {
   "display_name": "Python 3",
   "language": "python",
   "name": "python3"
  },
  "language_info": {
   "codemirror_mode": {
    "name": "ipython",
    "version": 3
   },
   "file_extension": ".py",
   "mimetype": "text/x-python",
   "name": "python",
   "nbconvert_exporter": "python",
   "pygments_lexer": "ipython3",
   "version": "3.11.4"
  }
 },
 "nbformat": 4,
 "nbformat_minor": 4
}
