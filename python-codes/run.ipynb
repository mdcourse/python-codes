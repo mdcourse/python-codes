{
 "cells": [
  {
   "cell_type": "code",
   "execution_count": 1,
   "metadata": {},
   "outputs": [],
   "source": [
    "from InitializeSimulation import InitializeSimulation\n",
    "from Utilities import Utilities\n",
    "from Outputs import Outputs\n",
    "from MolecularDynamics import MolecularDynamics\n",
    "from MonteCarlo import MonteCarlo"
   ]
  },
  {
   "cell_type": "code",
   "execution_count": 2,
   "metadata": {},
   "outputs": [
    {
     "name": "stdout",
     "output_type": "stream",
     "text": [
      "step N temp epot ekin press vol\n",
      "0 [10] 300.02 -1.04E-03 8.05E+00 1.53E+01 2.40E+04\n"
     ]
    },
    {
     "name": "stdout",
     "output_type": "stream",
     "text": [
      "10 [10] nan 0.00E+00 NAN NAN 2.40E+04\n",
      "20 [10] nan 0.00E+00 NAN NAN 2.40E+04\n",
      "30 [10] nan 0.00E+00 NAN NAN 2.40E+04\n",
      "40 [10] nan 0.00E+00 NAN NAN 2.40E+04\n",
      "50 [10] nan 0.00E+00 NAN NAN 2.40E+04\n",
      "60 [10] nan 0.00E+00 NAN NAN 2.40E+04\n",
      "70 [10] nan 0.00E+00 NAN NAN 2.40E+04\n",
      "80 [10] nan 0.00E+00 NAN NAN 2.40E+04\n",
      "90 [10] nan 0.00E+00 NAN NAN 2.40E+04\n",
      "100 [10] nan 0.00E+00 NAN NAN 2.40E+04\n"
     ]
    }
   ],
   "source": [
    "x = MolecularDynamics(number_atoms=[10],\n",
    "                      Lx=40,\n",
    "                      Ly=40,\n",
    "                      Lz=15,\n",
    "                      maximum_steps=100,\n",
    "                      thermo = 10,\n",
    "                      dump = 10,  \n",
    "                      tau_temp = 0.01,\n",
    "                      seed=519817,\n",
    "                      )\n",
    "x.run()"
   ]
  },
  {
   "cell_type": "code",
   "execution_count": 3,
   "metadata": {},
   "outputs": [
    {
     "name": "stdout",
     "output_type": "stream",
     "text": [
      "step N temp epot ekin press vol\n",
      "0 [10, 5] 300.0 -7.88E-05 1.25E+01 2.38E+01 2.40E+04\n"
     ]
    },
    {
     "name": "stdout",
     "output_type": "stream",
     "text": [
      "10 [10, 5] 300.0 -6.80E-05 1.25E+01 2.39E+01 2.40E+04\n"
     ]
    }
   ],
   "source": [
    "x = MonteCarlo(number_atoms=[10, 5],\n",
    "               Lx=40,\n",
    "               Ly=40,\n",
    "               Lz=15,\n",
    "               maximum_steps=10,\n",
    "               displace_mc = 0.5,\n",
    "               seed=6987,\n",
    "               dump = 10,\n",
    "               thermo = 10,\n",
    "               )\n",
    "x.run()"
   ]
  }
 ],
 "metadata": {
  "kernelspec": {
   "display_name": "Python 3",
   "language": "python",
   "name": "python3"
  },
  "language_info": {
   "codemirror_mode": {
    "name": "ipython",
    "version": 3
   },
   "file_extension": ".py",
   "mimetype": "text/x-python",
   "name": "python",
   "nbconvert_exporter": "python",
   "pygments_lexer": "ipython3",
   "version": "3.11.4"
  }
 },
 "nbformat": 4,
 "nbformat_minor": 4
}
