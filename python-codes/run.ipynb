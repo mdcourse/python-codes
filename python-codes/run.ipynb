{
 "cells": [
  {
   "cell_type": "code",
   "execution_count": 1,
   "metadata": {},
   "outputs": [],
   "source": [
    "from InitializeSimulation import InitializeSimulation\n",
    "from Utilities import Utilities\n",
    "from Outputs import Outputs\n",
    "from MolecularDynamics import MolecularDynamics\n",
    "from MonteCarlo import MonteCarlo"
   ]
  },
  {
   "cell_type": "code",
   "execution_count": 2,
   "metadata": {},
   "outputs": [],
   "source": [
    "import numpy as np"
   ]
  },
  {
   "cell_type": "code",
   "execution_count": 3,
   "metadata": {},
   "outputs": [
    {
     "name": "stdout",
     "output_type": "stream",
     "text": [
      "step epot maxF\n",
      "0 8.902 71641872203.071\n",
      "1 1.904 49926770786.910\n",
      "2 -3.429 32787537956.492\n",
      "3 -6.997 20141028396.535\n",
      "4 -8.996 11486147254.317\n",
      "5 -9.887 6035974322.729\n",
      "6 -10.303 2902179536.747\n",
      "7 -11.041 1268621729.029\n",
      "8 -13.187 501475906.432\n",
      "9 -17.185 178556118.438\n",
      "10 -20.155 57164791.183\n",
      "11 -20.155 24499447.182\n",
      "12 -20.276 24499447.182\n",
      "13 -20.291 20728463.846\n",
      "14 -20.291 16961339.470\n",
      "15 -20.291 16961339.470\n",
      "16 -20.291 16961339.470\n",
      "17 -20.291 16961339.470\n",
      "18 -20.291 16961339.470\n",
      "19 -20.291 16961339.470\n",
      "20 -20.291 16961339.470\n",
      " step     N  temp  epot  ekin press   vol\n",
      "    0   400 4212861732467422.5 -2.312452736024583e-37 5010532340330816.0   0.0 6.671041835776965e+23\n"
     ]
    },
    {
     "ename": "KeyboardInterrupt",
     "evalue": "",
     "output_type": "error",
     "traceback": [
      "\u001b[0;31m---------------------------------------------------------------------------\u001b[0m",
      "\u001b[0;31mKeyboardInterrupt\u001b[0m                         Traceback (most recent call last)",
      "\u001b[1;32m/home/simon/Git/MDCourse/python-codes/python-codes/run.ipynb Cell 3\u001b[0m line \u001b[0;36m1\n\u001b[1;32m      <a href='vscode-notebook-cell:/home/simon/Git/MDCourse/python-codes/python-codes/run.ipynb#W2sZmlsZQ%3D%3D?line=0'>1</a>\u001b[0m \u001b[39mself\u001b[39m \u001b[39m=\u001b[39m MolecularDynamics(number_atoms\u001b[39m=\u001b[39m[\u001b[39m300\u001b[39m, \u001b[39m100\u001b[39m],\n\u001b[1;32m      <a href='vscode-notebook-cell:/home/simon/Git/MDCourse/python-codes/python-codes/run.ipynb#W2sZmlsZQ%3D%3D?line=1'>2</a>\u001b[0m                       epsilon\u001b[39m=\u001b[39m[\u001b[39m1\u001b[39m, \u001b[39m1\u001b[39m],\n\u001b[1;32m      <a href='vscode-notebook-cell:/home/simon/Git/MDCourse/python-codes/python-codes/run.ipynb#W2sZmlsZQ%3D%3D?line=2'>3</a>\u001b[0m                       sigma\u001b[39m=\u001b[39m[\u001b[39m1\u001b[39m, \u001b[39m5\u001b[39m],\n\u001b[0;32m   (...)\u001b[0m\n\u001b[1;32m     <a href='vscode-notebook-cell:/home/simon/Git/MDCourse/python-codes/python-codes/run.ipynb#W2sZmlsZQ%3D%3D?line=15'>16</a>\u001b[0m                       seed\u001b[39m=\u001b[39m\u001b[39m219817\u001b[39m,\n\u001b[1;32m     <a href='vscode-notebook-cell:/home/simon/Git/MDCourse/python-codes/python-codes/run.ipynb#W2sZmlsZQ%3D%3D?line=16'>17</a>\u001b[0m                       )\n\u001b[0;32m---> <a href='vscode-notebook-cell:/home/simon/Git/MDCourse/python-codes/python-codes/run.ipynb#W2sZmlsZQ%3D%3D?line=17'>18</a>\u001b[0m \u001b[39mself\u001b[39;49m\u001b[39m.\u001b[39;49mrun()\n",
      "File \u001b[0;32m~/Git/MDCourse/python-codes/python-codes/MolecularDynamics.py:43\u001b[0m, in \u001b[0;36mMolecularDynamics.run\u001b[0;34m(self)\u001b[0m\n\u001b[1;32m     41\u001b[0m \u001b[39mself\u001b[39m\u001b[39m.\u001b[39mwrap_in_box()\n\u001b[1;32m     42\u001b[0m \u001b[39mself\u001b[39m\u001b[39m.\u001b[39mapply_berendsen_thermostat()\n\u001b[0;32m---> 43\u001b[0m \u001b[39mself\u001b[39;49m\u001b[39m.\u001b[39;49mapply_berendsen_barostat()\n\u001b[1;32m     44\u001b[0m \u001b[39mself\u001b[39m\u001b[39m.\u001b[39mupdate_log()\n\u001b[1;32m     45\u001b[0m \u001b[39mself\u001b[39m\u001b[39m.\u001b[39mupdate_dump(filename \u001b[39m=\u001b[39m \u001b[39m\"\u001b[39m\u001b[39mdump.md.lammpstrj\u001b[39m\u001b[39m\"\u001b[39m)\n",
      "File \u001b[0;32m~/Git/MDCourse/python-codes/python-codes/MolecularDynamics.py:67\u001b[0m, in \u001b[0;36mMolecularDynamics.apply_berendsen_barostat\u001b[0;34m(self)\u001b[0m\n\u001b[1;32m     65\u001b[0m \u001b[39m\u001b[39m\u001b[39m\"\"\"Rescale box size based on Berendsten barostat.\"\"\"\u001b[39;00m\n\u001b[1;32m     66\u001b[0m \u001b[39mif\u001b[39;00m \u001b[39mself\u001b[39m\u001b[39m.\u001b[39mtau_press \u001b[39mis\u001b[39;00m \u001b[39mnot\u001b[39;00m \u001b[39mNone\u001b[39;00m:\n\u001b[0;32m---> 67\u001b[0m     \u001b[39mself\u001b[39;49m\u001b[39m.\u001b[39;49mcalculate_pressure()\n\u001b[1;32m     68\u001b[0m     scale \u001b[39m=\u001b[39m np\u001b[39m.\u001b[39msqrt(\u001b[39m1\u001b[39m\u001b[39m+\u001b[39m\u001b[39mself\u001b[39m\u001b[39m.\u001b[39mtime_step\u001b[39m*\u001b[39m((\u001b[39mself\u001b[39m\u001b[39m.\u001b[39mpressure\u001b[39m/\u001b[39m\u001b[39mself\u001b[39m\u001b[39m.\u001b[39mdesired_pressure)\u001b[39m-\u001b[39m\u001b[39m1\u001b[39m)\u001b[39m/\u001b[39m\u001b[39mself\u001b[39m\u001b[39m.\u001b[39mtau_press)\n\u001b[1;32m     69\u001b[0m     \u001b[39mself\u001b[39m\u001b[39m.\u001b[39mbox_boundaries \u001b[39m*\u001b[39m\u001b[39m=\u001b[39m scale\n",
      "File \u001b[0;32m~/Git/MDCourse/python-codes/python-codes/Utilities.py:55\u001b[0m, in \u001b[0;36mUtilities.calculate_pressure\u001b[0;34m(self)\u001b[0m\n\u001b[1;32m     53\u001b[0m \u001b[39mself\u001b[39m\u001b[39m.\u001b[39mcalculate_temperature()\n\u001b[1;32m     54\u001b[0m p_ideal \u001b[39m=\u001b[39m (Ndof\u001b[39m/\u001b[39m\u001b[39mself\u001b[39m\u001b[39m.\u001b[39mdimensions)\u001b[39m*\u001b[39m\u001b[39mself\u001b[39m\u001b[39m.\u001b[39mtemperature\u001b[39m/\u001b[39mvolume\n\u001b[0;32m---> 55\u001b[0m p_non_ideal \u001b[39m=\u001b[39m \u001b[39m1\u001b[39m\u001b[39m/\u001b[39m(volume\u001b[39m*\u001b[39m\u001b[39mself\u001b[39m\u001b[39m.\u001b[39mdimensions)\u001b[39m*\u001b[39mnp\u001b[39m.\u001b[39msum(\u001b[39mself\u001b[39;49m\u001b[39m.\u001b[39;49mevaluate_LJ_matrix()\u001b[39m*\u001b[39m\u001b[39mself\u001b[39m\u001b[39m.\u001b[39mevaluate_rij_matrix())\n\u001b[1;32m     56\u001b[0m \u001b[39mself\u001b[39m\u001b[39m.\u001b[39mpressure \u001b[39m=\u001b[39m (p_ideal\u001b[39m+\u001b[39mp_non_ideal)\n",
      "File \u001b[0;32m~/Git/MDCourse/python-codes/python-codes/Utilities.py:131\u001b[0m, in \u001b[0;36mUtilities.evaluate_LJ_matrix\u001b[0;34m(self)\u001b[0m\n\u001b[1;32m    129\u001b[0m epsilon_ij \u001b[39m=\u001b[39m (epsilon_i\u001b[39m+\u001b[39mepsilon_j)\u001b[39m/\u001b[39m\u001b[39m2\u001b[39m\n\u001b[1;32m    130\u001b[0m rij_xyz \u001b[39m=\u001b[39m (np\u001b[39m.\u001b[39mremainder(position_i \u001b[39m-\u001b[39m position_j \u001b[39m+\u001b[39m box_size\u001b[39m/\u001b[39m\u001b[39m2.\u001b[39m, box_size) \u001b[39m-\u001b[39m box_size\u001b[39m/\u001b[39m\u001b[39m2.\u001b[39m)\u001b[39m.\u001b[39mT\n\u001b[0;32m--> 131\u001b[0m rij \u001b[39m=\u001b[39m np\u001b[39m.\u001b[39msqrt(np\u001b[39m.\u001b[39;49msum(rij_xyz\u001b[39m*\u001b[39;49m\u001b[39m*\u001b[39;49m\u001b[39m2\u001b[39;49m))\n\u001b[1;32m    132\u001b[0m \u001b[39mif\u001b[39;00m rij \u001b[39m<\u001b[39m \u001b[39mself\u001b[39m\u001b[39m.\u001b[39mcut_off:\n\u001b[1;32m    133\u001b[0m     dU_dr \u001b[39m=\u001b[39m \u001b[39m48\u001b[39m\u001b[39m*\u001b[39mepsilon_ij\u001b[39m/\u001b[39mrij\u001b[39m*\u001b[39m((sigma_ij\u001b[39m/\u001b[39mrij)\u001b[39m*\u001b[39m\u001b[39m*\u001b[39m\u001b[39m12\u001b[39m\u001b[39m-\u001b[39m\u001b[39m0.5\u001b[39m\u001b[39m*\u001b[39m(sigma_ij\u001b[39m/\u001b[39mrij)\u001b[39m*\u001b[39m\u001b[39m*\u001b[39m\u001b[39m6\u001b[39m)\n",
      "File \u001b[0;32m~/.local/lib/python3.11/site-packages/numpy/core/fromnumeric.py:2172\u001b[0m, in \u001b[0;36m_sum_dispatcher\u001b[0;34m(a, axis, dtype, out, keepdims, initial, where)\u001b[0m\n\u001b[1;32m   2102\u001b[0m \u001b[39m    \u001b[39m\u001b[39m\"\"\"\u001b[39;00m\n\u001b[1;32m   2103\u001b[0m \u001b[39m    Clip (limit) the values in an array.\u001b[39;00m\n\u001b[1;32m   2104\u001b[0m \n\u001b[0;32m   (...)\u001b[0m\n\u001b[1;32m   2167\u001b[0m \n\u001b[1;32m   2168\u001b[0m \u001b[39m    \"\"\"\u001b[39;00m\n\u001b[1;32m   2169\u001b[0m     \u001b[39mreturn\u001b[39;00m _wrapfunc(a, \u001b[39m'\u001b[39m\u001b[39mclip\u001b[39m\u001b[39m'\u001b[39m, a_min, a_max, out\u001b[39m=\u001b[39mout, \u001b[39m*\u001b[39m\u001b[39m*\u001b[39mkwargs)\n\u001b[0;32m-> 2172\u001b[0m \u001b[39mdef\u001b[39;00m \u001b[39m_sum_dispatcher\u001b[39m(a, axis\u001b[39m=\u001b[39m\u001b[39mNone\u001b[39;00m, dtype\u001b[39m=\u001b[39m\u001b[39mNone\u001b[39;00m, out\u001b[39m=\u001b[39m\u001b[39mNone\u001b[39;00m, keepdims\u001b[39m=\u001b[39m\u001b[39mNone\u001b[39;00m,\n\u001b[1;32m   2173\u001b[0m                     initial\u001b[39m=\u001b[39m\u001b[39mNone\u001b[39;00m, where\u001b[39m=\u001b[39m\u001b[39mNone\u001b[39;00m):\n\u001b[1;32m   2174\u001b[0m     \u001b[39mreturn\u001b[39;00m (a, out)\n\u001b[1;32m   2177\u001b[0m \u001b[39m@array_function_dispatch\u001b[39m(_sum_dispatcher)\n\u001b[1;32m   2178\u001b[0m \u001b[39mdef\u001b[39;00m \u001b[39msum\u001b[39m(a, axis\u001b[39m=\u001b[39m\u001b[39mNone\u001b[39;00m, dtype\u001b[39m=\u001b[39m\u001b[39mNone\u001b[39;00m, out\u001b[39m=\u001b[39m\u001b[39mNone\u001b[39;00m, keepdims\u001b[39m=\u001b[39mnp\u001b[39m.\u001b[39m_NoValue,\n\u001b[1;32m   2179\u001b[0m         initial\u001b[39m=\u001b[39mnp\u001b[39m.\u001b[39m_NoValue, where\u001b[39m=\u001b[39mnp\u001b[39m.\u001b[39m_NoValue):\n",
      "\u001b[0;31mKeyboardInterrupt\u001b[0m: "
     ]
    }
   ],
   "source": [
    "self = MolecularDynamics(number_atoms=[300, 100],\n",
    "                      epsilon=[1, 1],\n",
    "                      sigma=[1, 5],\n",
    "                      atom_mass= [1, 1],\n",
    "                      Lx=30,\n",
    "                      Ly=30,\n",
    "                      Lz=30,\n",
    "                      minimization_steps = 20,\n",
    "                      maximum_steps=2000,\n",
    "                      desired_temperature=300,\n",
    "                      thermo = 100,\n",
    "                      dump = 100,  \n",
    "                      tau_temp = 100,\n",
    "                      tau_press= 1000,\n",
    "                      time_step=1,\n",
    "                      seed=219817,\n",
    "                      )\n",
    "self.run()"
   ]
  },
  {
   "cell_type": "code",
   "execution_count": 5,
   "metadata": {},
   "outputs": [
    {
     "data": {
      "text/plain": [
       "array([[0., 0., 0.],\n",
       "       [0., 0., 0.],\n",
       "       [0., 0., 0.],\n",
       "       ...,\n",
       "       [0., 0., 0.],\n",
       "       [0., 0., 0.],\n",
       "       [0., 0., 0.]])"
      ]
     },
     "execution_count": 5,
     "metadata": {},
     "output_type": "execute_result"
    }
   ],
   "source": [
    "(self.evaluate_LJ_force().T/self.atoms_mass).T"
   ]
  },
  {
   "cell_type": "code",
   "execution_count": 6,
   "metadata": {},
   "outputs": [
    {
     "data": {
      "text/plain": [
       "array([[-14933740.52558098, -29984878.50595358,  -1479702.82513788],\n",
       "       [  9488847.4906725 ,  41126641.38497685,  -1704005.91692359],\n",
       "       [-13290437.82988132,   9999509.77374369,  13590387.22635406],\n",
       "       ...,\n",
       "       [ 24816725.85382602,  15984963.32396725, -39459550.96820214],\n",
       "       [-29937834.16273364, -31199397.82921744,  41678867.22490786],\n",
       "       [   250274.15828984, -29684406.81973614, -24341415.50234827]])"
      ]
     },
     "execution_count": 6,
     "metadata": {},
     "output_type": "execute_result"
    }
   ],
   "source": [
    "self.atoms_positions"
   ]
  },
  {
   "cell_type": "code",
   "execution_count": null,
   "metadata": {},
   "outputs": [],
   "source": []
  },
  {
   "cell_type": "code",
   "execution_count": null,
   "metadata": {},
   "outputs": [],
   "source": []
  },
  {
   "cell_type": "code",
   "execution_count": null,
   "metadata": {},
   "outputs": [],
   "source": []
  },
  {
   "cell_type": "code",
   "execution_count": null,
   "metadata": {},
   "outputs": [],
   "source": [
    "\n",
    "x = MonteCarlo(number_atoms=[10, 2],\n",
    "               epsilon=[1, 0.1],\n",
    "               sigma=[1, 4],\n",
    "               atom_mass= [1, 1],\n",
    "               Lx=20,\n",
    "               Ly=20,\n",
    "               Lz=20,\n",
    "               maximum_steps=1000,\n",
    "               displace_mc = 0.5,\n",
    "               seed=6987,\n",
    "               dump = 10,\n",
    "               thermo = 10,\n",
    "               )\n",
    "x.run()"
   ]
  }
 ],
 "metadata": {
  "kernelspec": {
   "display_name": "Python 3",
   "language": "python",
   "name": "python3"
  },
  "language_info": {
   "codemirror_mode": {
    "name": "ipython",
    "version": 3
   },
   "file_extension": ".py",
   "mimetype": "text/x-python",
   "name": "python",
   "nbconvert_exporter": "python",
   "pygments_lexer": "ipython3",
   "version": "3.11.4"
  }
 },
 "nbformat": 4,
 "nbformat_minor": 4
}
