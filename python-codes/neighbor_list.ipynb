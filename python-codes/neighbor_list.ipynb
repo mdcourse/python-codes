{
 "cells": [
  {
   "cell_type": "code",
   "execution_count": 4,
   "metadata": {},
   "outputs": [
    {
     "name": "stdout",
     "output_type": "stream",
     "text": [
      "Original time: 0.042530 seconds\n",
      "Numba time: 0.151321 seconds\n",
      "Results match: True\n"
     ]
    }
   ],
   "source": [
    "import numpy as np\n",
    "from numba import njit\n",
    "import time\n",
    "from MDAnalysis.analysis import distances\n",
    "\n",
    "@njit\n",
    "def contact_matrix(positions, cutoff, box=None):\n",
    "    n_atoms = positions.shape[0]\n",
    "    matrix = np.zeros((n_atoms, n_atoms), dtype=np.bool_)\n",
    "    \n",
    "    for i in range(n_atoms - 1):\n",
    "        for j in range(i + 1, n_atoms):\n",
    "            diff = positions[i] - positions[j]\n",
    "            if box is not None:\n",
    "                diff -= np.round(diff / box) * box\n",
    "            dist_sq = np.dot(diff, diff)\n",
    "            if dist_sq < cutoff ** 2:\n",
    "                matrix[i, j] = True\n",
    "                matrix[j, i] = True  # Symmetric matrix\n",
    "    return matrix\n",
    "\n",
    "@njit\n",
    "def update_neighbor_lists_numba(positions, cut_off, box_mdanalysis):\n",
    "    n_atoms = positions.shape[0]\n",
    "    neighbor_lists = []\n",
    "    matrix = contact_matrix(positions, cutoff=cut_off, box=box_mdanalysis)\n",
    "    for cpt in range(n_atoms - 1):\n",
    "        neighbor_list = np.where(matrix[cpt])[0]\n",
    "        neighbor_list = neighbor_list[neighbor_list > cpt]\n",
    "        neighbor_lists.append(neighbor_list)\n",
    "    return neighbor_lists\n",
    "\n",
    "def update_neighbor_lists_mda(positions, cut_off, box_mdanalysis):\n",
    "    neighbor_lists = []\n",
    "    matrix = distances.contact_matrix(positions, cutoff=cut_off, returntype=\"numpy\", box=box_mdanalysis)\n",
    "    for cpt, array in enumerate(matrix[:-1]):\n",
    "        neighbor_list = np.where(array)[0].tolist()\n",
    "        neighbor_list = [ele for ele in neighbor_list if ele > cpt]\n",
    "        neighbor_lists.append(neighbor_list)\n",
    "    return neighbor_lists\n",
    "\n",
    "def compare_functions():\n",
    "    n_atoms = 1000\n",
    "    box = np.array([10.0, 10.0, 10.0])\n",
    "    box_mdanalysis = np.concatenate([box, [90.0, 90.0, 90.0]])\n",
    "    cut_off = 1.5\n",
    "    positions = np.random.rand(n_atoms, 3) * box\n",
    "    \n",
    "    # Ensure the positions and box_mdanalysis arrays are of type float64 for numba\n",
    "    positions = positions.astype(np.float64)\n",
    "    box_mdanalysis = box_mdanalysis.astype(np.float64)\n",
    "\n",
    "    # Original method\n",
    "    start_time = time.time()\n",
    "    mda_neighbor_lists = update_neighbor_lists_mda(positions, cut_off, box_mdanalysis)\n",
    "    original_time = time.time() - start_time\n",
    "\n",
    "    # Numba method\n",
    "    update_neighbor_lists_numba(positions, cut_off, box)\n",
    "    start_time = time.time()\n",
    "    numba_neighbor_lists = update_neighbor_lists_numba(positions, cut_off, box)\n",
    "    numba_time = time.time() - start_time\n",
    "\n",
    "    # Compare results and timings\n",
    "    print(f\"Original time: {original_time:.6f} seconds\")\n",
    "    print(f\"Numba time: {numba_time:.6f} seconds\")\n",
    "    print(f\"Results match: {len(mda_neighbor_lists) == len(numba_neighbor_lists)}\")\n",
    "\n",
    "compare_functions()\n"
   ]
  }
 ],
 "metadata": {
  "kernelspec": {
   "display_name": "Python 3",
   "language": "python",
   "name": "python3"
  },
  "language_info": {
   "codemirror_mode": {
    "name": "ipython",
    "version": 3
   },
   "file_extension": ".py",
   "mimetype": "text/x-python",
   "name": "python",
   "nbconvert_exporter": "python",
   "pygments_lexer": "ipython3",
   "version": "3.12.3"
  }
 },
 "nbformat": 4,
 "nbformat_minor": 2
}
