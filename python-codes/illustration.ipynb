{
 "cells": [
  {
   "cell_type": "code",
   "execution_count": 1,
   "metadata": {},
   "outputs": [
    {
     "name": "stderr",
     "output_type": "stream",
     "text": [
      "/home/simon/.local/lib/python3.12/site-packages/matplotlib/projections/__init__.py:63: UserWarning: Unable to import Axes3D. This may be due to multiple versions of Matplotlib being installed (e.g. as a system package and as a pip package). As a result, the 3D projection is not available.\n",
      "  warnings.warn(\"Unable to import Axes3D. This may be due to multiple versions of \"\n"
     ]
    }
   ],
   "source": [
    "from scipy import constants as cst\n",
    "from pint import UnitRegistry\n",
    "ureg = UnitRegistry()\n",
    "import sys\n",
    "import numpy as np\n",
    "import matplotlib.pyplot as plt\n",
    "import MDAnalysis as mda\n",
    "from MDAnalysis.analysis.rdf import InterRDF"
   ]
  },
  {
   "cell_type": "code",
   "execution_count": 2,
   "metadata": {},
   "outputs": [],
   "source": [
    "from MonteCarlo import MonteCarlo\n",
    "from Potentials import LJ_potential"
   ]
  },
  {
   "cell_type": "markdown",
   "metadata": {},
   "source": [
    "\"The values of the potential constants for argon have been taken throughout as  \n",
    "E*/k= 119.76°K, r*=3.822 A, v*=23.79 cm3/mole, as determined by Michels6 from  \n",
    "second virial coefficient data.\" [1]  \n",
    "\n",
    "[1] Wood and Parker. The Journal of Chemical Physics, 27(3):720–733, 1957.  "
   ]
  },
  {
   "cell_type": "code",
   "execution_count": 3,
   "metadata": {},
   "outputs": [],
   "source": [
    "kB = cst.Boltzmann*ureg.J/ureg.kelvin\n",
    "Na = cst.Avogadro/ureg.mole\n",
    "R = kB*Na\n",
    "epsilon = ((119.76*ureg.kelvin)*kB*Na).to(ureg.kcal/ureg.mol) # kcal/mol\n",
    "r_star = 3.822*ureg.angstrom\n",
    "sigma = r_star / 2**(1/6)\n",
    "N_atom = 32 # no units\n",
    "m_argon = 39.948*ureg.gram/ureg.mol\n",
    "T = (273.15+55)*ureg.kelvin # 55°C"
   ]
  },
  {
   "cell_type": "code",
   "execution_count": 9,
   "metadata": {},
   "outputs": [
    {
     "data": {
      "text/plain": [
       "328.15"
      ]
     },
     "execution_count": 9,
     "metadata": {},
     "output_type": "execute_result"
    }
   ],
   "source": [
    "273.15+55"
   ]
  },
  {
   "cell_type": "code",
   "execution_count": 7,
   "metadata": {},
   "outputs": [
    {
     "data": {
      "text/html": [
       "0.237987582014826 kilocalorie/mole"
      ],
      "text/latex": [
       "$0.237987582014826\\ \\frac{\\mathrm{kilocalorie}}{\\mathrm{mole}}$"
      ],
      "text/plain": [
       "<Quantity(0.237987582, 'kilocalorie / mole')>"
      ]
     },
     "execution_count": 7,
     "metadata": {},
     "output_type": "execute_result"
    }
   ],
   "source": [
    "epsilon"
   ]
  },
  {
   "cell_type": "code",
   "execution_count": 5,
   "metadata": {},
   "outputs": [
    {
     "name": "stdout",
     "output_type": "stream",
     "text": [
      "step  N     T (K)     p (atm)   V (A3)    Ep (kcal/mol) Ek (kcal/mol) dens (g/cm3) \n",
      "0     32    3.28e+02  0.0       1.26e+03  5.04e+05      0.0           1.68         \n",
      "1000  32    3.28e+02  0.0       1.26e+03  8.49e+02      0.0           1.68         \n",
      "2000  32    3.28e+02  0.0       1.26e+03  5.77e+02      0.0           1.68         \n",
      "3000  32    3.28e+02  0.0       1.26e+03  4.88e+02      0.0           1.68         \n",
      "4000  32    3.28e+02  0.0       1.26e+03  1.02e+03      0.0           1.68         \n",
      "5000  32    3.28e+02  0.0       1.26e+03  6.22e+02      0.0           1.68         \n",
      "6000  32    3.28e+02  0.0       1.26e+03  7.75e+02      0.0           1.68         \n",
      "7000  32    3.28e+02  0.0       1.26e+03  7.99e+02      0.0           1.68         \n",
      "8000  32    3.28e+02  0.0       1.26e+03  5.78e+02      0.0           1.68         \n",
      "9000  32    3.28e+02  0.0       1.26e+03  7.26e+02      0.0           1.68         \n",
      "10000 32    3.28e+02  0.0       1.26e+03  5.8e+02       0.0           1.68         \n",
      "11000 32    3.28e+02  0.0       1.26e+03  8.02e+02      0.0           1.68         \n",
      "12000 32    3.28e+02  0.0       1.26e+03  5.29e+02      0.0           1.68         \n",
      "13000 32    3.28e+02  0.0       1.26e+03  7.09e+02      0.0           1.68         \n",
      "14000 32    3.28e+02  0.0       1.26e+03  5.7e+02       0.0           1.68         \n",
      "15000 32    3.28e+02  0.0       1.26e+03  5.96e+02      0.0           1.68         \n",
      "16000 32    3.28e+02  0.0       1.26e+03  6.12e+02      0.0           1.68         \n",
      "17000 32    3.28e+02  0.0       1.26e+03  6.26e+02      0.0           1.68         \n",
      "18000 32    3.28e+02  0.0       1.26e+03  6.46e+02      0.0           1.68         \n",
      "19000 32    3.28e+02  0.0       1.26e+03  7.9e+02       0.0           1.68         \n",
      "20000 32    3.28e+02  0.0       1.26e+03  8.24e+02      0.0           1.68         \n"
     ]
    },
    {
     "ename": "NameError",
     "evalue": "name 'Literature' is not defined",
     "output_type": "error",
     "traceback": [
      "\u001b[0;31m---------------------------------------------------------------------------\u001b[0m",
      "\u001b[0;31mNameError\u001b[0m                                 Traceback (most recent call last)",
      "Cell \u001b[0;32mIn[5], line 42\u001b[0m\n\u001b[1;32m     38\u001b[0m     E_excess \u001b[38;5;241m=\u001b[39m Epot_corrected \u001b[38;5;241m/\u001b[39m N_atom \u001b[38;5;241m/\u001b[39m R \u001b[38;5;241m/\u001b[39m T \u001b[38;5;66;03m# no units\u001b[39;00m\n\u001b[1;32m     40\u001b[0m     plt\u001b[38;5;241m.\u001b[39msemilogx(tau, E_excess, \u001b[38;5;124m\"\u001b[39m\u001b[38;5;124mo\u001b[39m\u001b[38;5;124m\"\u001b[39m)\n\u001b[0;32m---> 42\u001b[0m plt\u001b[38;5;241m.\u001b[39msemilogx(\u001b[43mLiterature\u001b[49m[:,\u001b[38;5;241m0\u001b[39m], Literature[:,\u001b[38;5;241m1\u001b[39m], \u001b[38;5;124m'\u001b[39m\u001b[38;5;124m.\u001b[39m\u001b[38;5;124m'\u001b[39m)\n",
      "\u001b[0;31mNameError\u001b[0m: name 'Literature' is not defined"
     ]
    },
    {
     "data": {
      "image/png": "[encoded data removed]",
      "text/plain": [
       "<Figure size 640x480 with 1 Axes>"
      ]
     },
     "metadata": {},
     "output_type": "display_data"
    }
   ],
   "source": [
    "# Literature = np.loadtxt(\"literature-data/excess-energy.dat\")\n",
    "\n",
    "volume_star = (23.79 * ureg.centimeter**3/ureg.mole).to(ureg.angstrom**3/ureg.mole)\n",
    "\n",
    "for tau in [1]:\n",
    "\n",
    "    volume = N_atom*volume_star*tau/Na\n",
    "    box_size = volume**(1/3)\n",
    "\n",
    "    mc = MonteCarlo(maximum_steps=20000,\n",
    "        dumping_period=1000,\n",
    "        thermo_period=1000,\n",
    "        displace_mc = 2,\n",
    "        desired_temperature = T.magnitude,\n",
    "        number_atoms=[N_atom],\n",
    "        epsilon=[epsilon.magnitude], \n",
    "        sigma=[sigma.magnitude],\n",
    "        atom_mass=[m_argon.magnitude],\n",
    "        box_dimensions=[box_size.magnitude,\n",
    "                        box_size.magnitude,\n",
    "                        box_size.magnitude],\n",
    "        neighbor=10,\n",
    "        # data_folder=\n",
    "    )\n",
    "    mc.run()\n",
    "\n",
    "    Epot = np.loadtxt(\"Outputs/Epot.dat\")[:,1][5:] # kcal/mol\n",
    "    Epot = np.mean(Epot)*ureg.kcal/ureg.mol # kcal/mol\n",
    "\n",
    "    # Eref = (3/2*kB*T*N_atom).to(ureg.kcal)*Na # kcal/mol\n",
    "    # Epot = Epot.to(ureg.joule/ureg.mol) / Na\n",
    "    # mean_of_U2 = np.mean((Epot/(kB*T*N_atom))**2)\n",
    "    # square_of_mean_U = np.mean(Epot/(kB*T*N_atom))**2\n",
    "    # Cv_over_R = N_atom*(mean_of_U2-square_of_mean_U)\n",
    "\n",
    "    E_ideal = (3/2*kB*T*N_atom).to(ureg.kcal)*Na # kcal/mol\n",
    "    Epot_corrected = (Epot - E_ideal).to(ureg.joule/ureg.mol) # J/mol\n",
    "    E_excess = Epot_corrected / N_atom / R / T # no units\n",
    "\n",
    "    plt.semilogx(tau, E_excess, \"o\")\n",
    "\n",
    "# plt.semilogx(Literature[:,0], Literature[:,1], '.')"
   ]
  },
  {
   "cell_type": "code",
   "execution_count": null,
   "metadata": {},
   "outputs": [],
   "source": [
    "mc.box_boundaries"
   ]
  },
  {
   "cell_type": "code",
   "execution_count": 6,
   "metadata": {},
   "outputs": [
    {
     "data": {
      "text/html": [
       "10.812625783459664 angstrom"
      ],
      "text/latex": [
       "$10.812625783459664\\ \\mathrm{angstrom}$"
      ],
      "text/plain": [
       "<Quantity(10.8126258, 'angstrom')>"
      ]
     },
     "execution_count": 6,
     "metadata": {},
     "output_type": "execute_result"
    }
   ],
   "source": [
    "box_size"
   ]
  },
  {
   "cell_type": "code",
   "execution_count": null,
   "metadata": {},
   "outputs": [],
   "source": []
  },
  {
   "cell_type": "code",
   "execution_count": null,
   "metadata": {},
   "outputs": [],
   "source": []
  },
  {
   "cell_type": "code",
   "execution_count": null,
   "metadata": {},
   "outputs": [],
   "source": []
  },
  {
   "cell_type": "code",
   "execution_count": null,
   "metadata": {},
   "outputs": [],
   "source": []
  },
  {
   "cell_type": "code",
   "execution_count": null,
   "metadata": {},
   "outputs": [],
   "source": []
  }
 ],
 "metadata": {
  "kernelspec": {
   "display_name": "Python 3",
   "language": "python",
   "name": "python3"
  },
  "language_info": {
   "codemirror_mode": {
    "name": "ipython",
    "version": 3
   },
   "file_extension": ".py",
   "mimetype": "text/x-python",
   "name": "python",
   "nbconvert_exporter": "python",
   "pygments_lexer": "ipython3",
   "version": "3.12.3"
  }
 },
 "nbformat": 4,
 "nbformat_minor": 2
}
