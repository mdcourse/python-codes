{
 "cells": [
  {
   "cell_type": "code",
   "execution_count": 6,
   "metadata": {},
   "outputs": [],
   "source": [
    "import numpy as np\n",
    "from numba import njit\n",
    "import time\n",
    "\n",
    "def compute_distance_numpy(position_i, positions_j, box_size, only_norm=True):\n",
    "    \"\"\"Use NumPy to calculate the distance between particles\"\"\"\n",
    "    rij_xyz = np.nan_to_num(np.remainder(position_i - positions_j\n",
    "                                         + box_size[:3]/2.0, box_size[:3]) - box_size[:3]/2.0)\n",
    "    norm = np.linalg.norm(rij_xyz, axis=1)\n",
    "    if only_norm:\n",
    "        return norm, None\n",
    "    else:\n",
    "        return norm, rij_xyz\n",
    "\n",
    "@njit\n",
    "def compute_distance_numba(position_i, positions_j, box_size, only_norm=True):\n",
    "    \"\"\"Use NumBa and NumPy remainder function to calculate the distance between particles\"\"\"\n",
    "    rij_xyz = np.remainder(position_i - positions_j\n",
    "                           + box_size[:3] / 2.0, box_size[:3]) - box_size[:3] / 2.0\n",
    "    norms = np.sqrt(np.sum(rij_xyz**2, axis=1))\n",
    "    if only_norm:\n",
    "        return norms, None  # Always return a tuple\n",
    "    else:\n",
    "        return norms, rij_xyz\n",
    "\n"
   ]
  },
  {
   "cell_type": "code",
   "execution_count": 10,
   "metadata": {},
   "outputs": [
    {
     "name": "stdout",
     "output_type": "stream",
     "text": [
      "Numpy function performance: 0.007386 seconds\n",
      "Numba function performance: 0.002582 seconds\n"
     ]
    }
   ],
   "source": [
    "def compare_functions():\n",
    "    # Create random test data\n",
    "    position_i = np.random.rand(3)*10.0\n",
    "    positions_j = np.random.rand(100000, 3)*10.0\n",
    "    box_size = np.array([10.0, 10.0, 10.0])\n",
    "\n",
    "    # NumBa compilation takes time the first time it is used\n",
    "    compute_distance_numba(position_i, positions_j, box_size)\n",
    "\n",
    "    start_time = time.time()\n",
    "    result_original, _ = compute_distance_numpy(position_i, positions_j, box_size)\n",
    "    original_time = time.time() - start_time\n",
    "\n",
    "    start_time = time.time()\n",
    "    result_numba, _ = compute_distance_numba(position_i, positions_j, box_size)\n",
    "    numba_time = time.time() - start_time\n",
    "\n",
    "    assert np.allclose(result_original, result_numba), \"Norms do not match for only_norm=True!\"\n",
    "\n",
    "    print(f\"Numpy function performance: {original_time:.6f} seconds\")\n",
    "    print(f\"Numba function performance: {numba_time:.6f} seconds\")\n",
    "\n",
    "compare_functions()"
   ]
  }
 ],
 "metadata": {
  "kernelspec": {
   "display_name": "Python 3",
   "language": "python",
   "name": "python3"
  },
  "language_info": {
   "codemirror_mode": {
    "name": "ipython",
    "version": 3
   },
   "file_extension": ".py",
   "mimetype": "text/x-python",
   "name": "python",
   "nbconvert_exporter": "python",
   "pygments_lexer": "ipython3",
   "version": "3.12.3"
  }
 },
 "nbformat": 4,
 "nbformat_minor": 2
}
