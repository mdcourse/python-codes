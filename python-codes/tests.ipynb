{
 "cells": [
  {
   "cell_type": "code",
   "execution_count": 1,
   "metadata": {},
   "outputs": [],
   "source": [
    "import sys, os, git, time\n",
    "\n",
    "import MDAnalysis as mda\n",
    "from MDAnalysis.analysis import distances\n",
    "\n",
    "current_path = os.getcwd()\n",
    "git_repo = git.Repo(current_path, search_parent_directories=True)\n",
    "git_path = git_repo.git.rev_parse(\"--show-toplevel\")\n",
    "sys.path.append(git_path+\"/python-codes/\")\n",
    "\n",
    "from MinimizeEnergy import MinimizeEnergy\n",
    "from MonteCarlo import MonteCarlo\n",
    "from MolecularDynamics import MolecularDynamics\n",
    "\n",
    "import numpy as np"
   ]
  },
  {
   "cell_type": "code",
   "execution_count": 2,
   "metadata": {},
   "outputs": [
    {
     "name": "stdout",
     "output_type": "stream",
     "text": [
      "step epot maxF\n",
      "0 43923023.308 518774864.696\n",
      "2 15634352.211 199379297.102\n",
      "4 4142939.341 56332349.277\n",
      "6 791202.601 11073164.323\n",
      "8 137538.062 1472799.729\n",
      "10 30899.823 212210.981\n",
      "time = 0.15 s\n"
     ]
    }
   ],
   "source": [
    "ti = time.time()\n",
    "\n",
    "self = MinimizeEnergy(maximum_steps=10,\n",
    "    number_atoms=[50],\n",
    "    epsilon=[0.1],\n",
    "    sigma = [3],\n",
    "    atom_mass = [1],\n",
    "    box_dimensions=[20, 20, 20],\n",
    "    neighbor=10,\n",
    "    thermo = 2,\n",
    "    cut_off = 9,\n",
    "    dump = 2)\n",
    "self.perform_energy_minimization()\n",
    "\n",
    "tf = time.time()\n",
    "\n",
    "print(\"time =\", np.round(tf-ti,2), \"s\")"
   ]
  },
  {
   "cell_type": "code",
   "execution_count": 3,
   "metadata": {},
   "outputs": [
    {
     "name": "stdout",
     "output_type": "stream",
     "text": [
      "time = 0.01 s\n",
      "[8]\n"
     ]
    }
   ],
   "source": [
    "ti = time.time()\n",
    "\n",
    "self = MonteCarlo(maximum_steps=5,\n",
    "    desired_mu = -1,\n",
    "    inserted_type= 0,\n",
    "    number_atoms=[5],\n",
    "    epsilon=[0.1],\n",
    "    sigma = [3],\n",
    "    atom_mass = [1],\n",
    "    box_dimensions=[20, 20, 20],\n",
    "    neighbor=10,\n",
    "    thermo = 100,\n",
    "    cut_off = 9,\n",
    "    dump = 2)\n",
    "self.run()\n",
    "\n",
    "tf = time.time()\n",
    "\n",
    "print(\"time =\", np.round(tf-ti,2), \"s\")\n",
    "\n",
    "print(self.number_atoms)"
   ]
  },
  {
   "cell_type": "code",
   "execution_count": 6,
   "metadata": {},
   "outputs": [
    {
     "name": "stdout",
     "output_type": "stream",
     "text": [
      "time = 1.85 s\n",
      "[20]\n"
     ]
    }
   ],
   "source": [
    "ti = time.time()\n",
    "\n",
    "self = MolecularDynamics(maximum_steps = 1000,\n",
    "    tau_temp = 100,\n",
    "    number_atoms = [20],\n",
    "    epsilon = [0.1],\n",
    "    sigma = [3],\n",
    "    atom_mass = [1],\n",
    "    box_dimensions=[20, 20, 20],\n",
    "    neighbor = 10,\n",
    "    thermo = 100,\n",
    "    cut_off = 9,\n",
    "    dump = 10)\n",
    "self.run()\n",
    "\n",
    "tf = time.time()\n",
    "\n",
    "print(\"time =\", np.round(tf-ti,2), \"s\")"
   ]
  },
  {
   "cell_type": "code",
   "execution_count": 7,
   "metadata": {},
   "outputs": [
    {
     "data": {
      "text/plain": [
       "[1.0]"
      ]
     },
     "execution_count": 7,
     "metadata": {},
     "output_type": "execute_result"
    }
   ],
   "source": [
    "self.atom_mass"
   ]
  },
  {
   "cell_type": "code",
   "execution_count": null,
   "metadata": {},
   "outputs": [],
   "source": []
  }
 ],
 "metadata": {
  "kernelspec": {
   "display_name": "Python 3",
   "language": "python",
   "name": "python3"
  },
  "language_info": {
   "codemirror_mode": {
    "name": "ipython",
    "version": 3
   },
   "file_extension": ".py",
   "mimetype": "text/x-python",
   "name": "python",
   "nbconvert_exporter": "python",
   "pygments_lexer": "ipython3",
   "version": "3.11.6"
  }
 },
 "nbformat": 4,
 "nbformat_minor": 4
}
