{
 "cells": [
  {
   "cell_type": "code",
   "execution_count": 1,
   "metadata": {},
   "outputs": [],
   "source": [
    "import sys, os, git, time\n",
    "\n",
    "import MDAnalysis as mda\n",
    "from MDAnalysis.analysis import distances\n",
    "\n",
    "current_path = os.getcwd()\n",
    "git_repo = git.Repo(current_path, search_parent_directories=True)\n",
    "git_path = git_repo.git.rev_parse(\"--show-toplevel\")\n",
    "sys.path.append(git_path+\"/python-codes/\")\n",
    "\n",
    "from MinimizeEnergy import MinimizeEnergy\n",
    "\n",
    "import numpy as np"
   ]
  },
  {
   "cell_type": "code",
   "execution_count": 3,
   "metadata": {},
   "outputs": [
    {
     "name": "stdout",
     "output_type": "stream",
     "text": [
      "step epot maxF\n",
      "0 225583.948 3251516.638\n",
      "50 0.000 0.000\n",
      "100 0.000 0.000\n",
      "150 0.000 0.000\n",
      "200 0.000 0.000\n",
      "250 0.000 0.000\n",
      "300 0.000 0.000\n",
      "350 0.000 0.000\n",
      "400 0.000 0.000\n",
      "450 0.000 0.000\n",
      "500 0.000 0.000\n",
      "550 0.000 0.000\n",
      "600 0.000 0.000\n",
      "650 0.000 0.000\n",
      "700 0.000 0.000\n",
      "750 0.000 0.000\n",
      "800 0.000 0.000\n",
      "850 0.000 0.000\n",
      "900 0.000 0.000\n",
      "950 0.000 0.000\n",
      "1000 0.000 0.000\n",
      "time = 8.71 s\n"
     ]
    }
   ],
   "source": [
    "ti = time.time()\n",
    "\n",
    "self = MinimizeEnergy(number_atoms=[50],\n",
    "                      epsilon=[0.1],\n",
    "                      sigma = [3],\n",
    "                      atom_mass = [1],\n",
    "                      box_dimensions=[20, 20, 20],\n",
    "                      neighbor=10,\n",
    "                      minimization_steps=1000,\n",
    "                      thermo = 50,\n",
    "                      cut_off = 9,\n",
    "                      dump = 50)\n",
    "self.perform_energy_minimization()\n",
    "\n",
    "tf = time.time()\n",
    "\n",
    "print(\"time =\", np.round(tf-ti,2), \"s\")"
   ]
  }
 ],
 "metadata": {
  "kernelspec": {
   "display_name": "Python 3",
   "language": "python",
   "name": "python3"
  },
  "language_info": {
   "codemirror_mode": {
    "name": "ipython",
    "version": 3
   },
   "file_extension": ".py",
   "mimetype": "text/x-python",
   "name": "python",
   "nbconvert_exporter": "python",
   "pygments_lexer": "ipython3",
   "version": "3.11.4"
  }
 },
 "nbformat": 4,
 "nbformat_minor": 4
}
