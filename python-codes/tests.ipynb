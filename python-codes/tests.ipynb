{
 "cells": [
  {
   "cell_type": "code",
   "execution_count": null,
   "metadata": {},
   "outputs": [],
   "source": [
    "import sys, os, git, time\n",
    "\n",
    "current_path = os.getcwd()\n",
    "git_repo = git.Repo(current_path, search_parent_directories=True)\n",
    "git_path = git_repo.git.rev_parse(\"--show-toplevel\")\n",
    "sys.path.append(git_path+\"/python-codes/\")\n",
    "\n",
    "from MinimizeEnergy import MinimizeEnergy\n",
    "\n",
    "import numpy as np"
   ]
  },
  {
   "cell_type": "code",
   "execution_count": 124,
   "metadata": {},
   "outputs": [
    {
     "name": "stdout",
     "output_type": "stream",
     "text": [
      "step epot maxF\n",
      "0 -0.001 0.000\n",
      "25 -0.100 0.018\n",
      "50 -0.100 0.000\n",
      "75 -0.100 0.001\n",
      "100 -0.100 0.000\n",
      "125 -0.100 0.000\n",
      "150 -0.100 0.000\n",
      "175 -0.100 0.000\n",
      "200 -0.100 0.000\n",
      "225 -0.100 0.000\n",
      "250 -0.100 0.000\n",
      "275 -0.100 0.001\n",
      "300 -0.100 0.000\n",
      "325 -0.100 0.000\n",
      "350 -0.100 0.000\n",
      "375 -0.100 0.000\n",
      "400 -0.100 0.000\n",
      "425 -0.100 0.000\n",
      "450 -0.100 0.001\n",
      "475 -0.100 0.000\n",
      "500 -0.100 0.000\n",
      "time = 0.53 s\n"
     ]
    }
   ],
   "source": [
    "ti = time.time()\n",
    "\n",
    "self = MinimizeEnergy(number_atoms=[5])\n",
    "self.perform_energy_minimization()\n",
    "\n",
    "tf = time.time()\n",
    "\n",
    "print(\"time =\", np.round(tf-ti,2), \"s\")"
   ]
  },
  {
   "cell_type": "code",
   "execution_count": 172,
   "metadata": {},
   "outputs": [
    {
     "name": "stdout",
     "output_type": "stream",
     "text": [
      "[[ 1.31645606e-03 -1.98960504e-05  5.37146932e-04]\n",
      " [-1.41849742e-03  8.59606316e-04  1.59205583e-03]\n",
      " [-8.41297861e-04  1.38399101e-03  6.19519234e-04]\n",
      " [ 8.75400953e-04 -2.12222105e-03 -3.10891099e-03]\n",
      " [ 6.79382675e-05 -1.01480227e-04  3.60188994e-04]]\n",
      "time 4.182100296020508\n"
     ]
    }
   ],
   "source": [
    "ti = time.time()\n",
    "\n",
    "forces = np.zeros((self.total_number_atoms,3))\n",
    "for Ni, position_i, sigma_i, epsilon_i, neighbor_i in zip(np.arange(self.total_number_atoms-1),\n",
    "                                            self.atoms_positions,\n",
    "                                            self.atoms_sigma,\n",
    "                                            self.atoms_epsilon,\n",
    "                                            self.neighbor_lists):\n",
    "    \n",
    "    N_j = np.arange(self.total_number_atoms)[neighbor_i]\n",
    "    positions_j = self.atoms_positions[neighbor_i]\n",
    "    sigma_j = self.atoms_sigma[neighbor_i]\n",
    "    epsilon_j = self.atoms_epsilon[neighbor_i]\n",
    "    rij_xyz = (np.remainder(position_i - positions_j\n",
    "                            + self.box_size[:3]/2., self.box_size[:3])\n",
    "                            - self.box_size[:3]/2.).T\n",
    "    rij = np.linalg.norm(rij_xyz, axis=0)\n",
    "    for Nj, sigma_j0, epsilon_j0, rij0, rij_xyz0 in zip(N_j[rij < self.cut_off],\n",
    "                                    sigma_j[rij < self.cut_off], epsilon_j[rij < self.cut_off],\n",
    "                                    rij[rij < self.cut_off], rij_xyz.T[rij < self.cut_off]):\n",
    "        sigma_ij = (sigma_i+sigma_j0)/2\n",
    "        epsilon_ij = (epsilon_i+epsilon_j0)/2\n",
    "        dU_dr = 48*epsilon_ij/rij0*((sigma_ij/rij0)**12-0.5*(sigma_ij/rij0)**6)\n",
    "    \n",
    "        forces[Ni] += dU_dr*rij_xyz0/rij0\n",
    "        forces[Nj] -= dU_dr*rij_xyz0/rij0\n",
    "\n",
    "print(forces)\n",
    "\n",
    "tf = time.time()\n",
    "print(\"time\", 1000*(tf-ti))"
   ]
  },
  {
   "cell_type": "code",
   "execution_count": null,
   "metadata": {},
   "outputs": [],
   "source": [
    "import MDAnalysis as mda\n",
    "from MDAnalysis.analysis import distances\n",
    "r_ij = mda.analysis.distances.self_distance_array(self.atoms_positions,\n",
    "                                                    self.box_size)\n",
    "x_ij = mda.analysis.distances.self_distance_array(self.atoms_positions * np.array([1, 0, 0]),\n",
    "                                                    self.box_size)\n",
    "y_ij = mda.analysis.distances.self_distance_array(self.atoms_positions * np.array([0, 1, 0]),\n",
    "                                                    self.box_size)\n",
    "z_ij = mda.analysis.distances.self_distance_array(self.atoms_positions * np.array([0, 0, 1]),\n",
    "                                                    self.box_size)\n",
    "vec_ij = np.vstack([x_ij, y_ij, z_ij]).T\n",
    "\n",
    "dU_dr = 48*self.array_epsilon_ij/r_ij*((self.array_sigma_ij/r_ij)**12-0.5*(self.array_sigma_ij/r_ij)**6)\n",
    "\n",
    "cpt = 0\n",
    "forces = np.zeros((self.total_number_atoms,3))\n",
    "for i in range(self.total_number_atoms):\n",
    "    for j in range(i + 1, self.total_number_atoms):\n",
    "        force_ij = dU_dr[cpt] * vec_ij[cpt] / r_ij[cpt]\n",
    "        forces[i] += force_ij\n",
    "        forces[j] -= force_ij"
   ]
  },
  {
   "cell_type": "code",
   "execution_count": 166,
   "metadata": {},
   "outputs": [
    {
     "name": "stdout",
     "output_type": "stream",
     "text": [
      "[[ 1.31645606e-03 -1.98960504e-05  5.37146932e-04]\n",
      " [-1.41849742e-03  8.59606316e-04  1.59205583e-03]\n",
      " [-8.41297861e-04  1.38399101e-03  6.19519234e-04]\n",
      " [ 8.75400953e-04 -2.12222105e-03 -3.10891099e-03]\n",
      " [ 6.79382675e-05 -1.01480227e-04  3.60188994e-04]]\n",
      "time 2.0983219146728516\n"
     ]
    }
   ],
   "source": [
    "ti = time.time()\n",
    "\n",
    "forces = np.zeros((self.total_number_atoms,3))\n",
    "for Ni, position_i, sigma_i, epsilon_i, neighbor_i in zip(np.arange(self.total_number_atoms-1),\n",
    "                                            self.atoms_positions,\n",
    "                                            self.atoms_sigma,\n",
    "                                            self.atoms_epsilon,\n",
    "                                            self.neighbor_lists):\n",
    "    N_j = np.arange(self.total_number_atoms)[neighbor_i]\n",
    "    positions_j = self.atoms_positions[neighbor_i]\n",
    "    sigma_j = self.atoms_sigma[neighbor_i]\n",
    "    epsilon_j = self.atoms_epsilon[neighbor_i]\n",
    "    \n",
    "    rij_xyz = (np.remainder(position_i - positions_j\n",
    "                            + self.box_size[:3]/2., self.box_size[:3])\n",
    "                            - self.box_size[:3]/2.).T\n",
    "    rij = np.linalg.norm(rij_xyz, axis=0)\n",
    "    sigma_ij = (sigma_i+sigma_j)/2\n",
    "    epsilon_ij = (epsilon_i+epsilon_j)/2\n",
    "\n",
    "    dU_dr = 48*epsilon_ij/rij*((sigma_ij/rij)**12-0.5*(sigma_ij/rij)**6)\n",
    "\n",
    "    for N_j0, force0 in zip(N_j, (dU_dr*rij_xyz/rij).T):\n",
    "        forces[Ni] += force0\n",
    "        forces[N_j0] -= force0\n",
    "\n",
    "print(forces)\n",
    "\n",
    "tf = time.time()\n",
    "print(\"time\", 1000*(tf-ti))"
   ]
  },
  {
   "cell_type": "code",
   "execution_count": 153,
   "metadata": {},
   "outputs": [
    {
     "data": {
      "text/plain": [
       "array([-1.02157938e-05,  1.15413108e-04, -1.59481842e-04])"
      ]
     },
     "execution_count": 153,
     "metadata": {},
     "output_type": "execute_result"
    }
   ],
   "source": [
    "force0"
   ]
  },
  {
   "cell_type": "code",
   "execution_count": 146,
   "metadata": {},
   "outputs": [
    {
     "data": {
      "text/plain": [
       "array([1, 2, 3, 4])"
      ]
     },
     "execution_count": 146,
     "metadata": {},
     "output_type": "execute_result"
    }
   ],
   "source": [
    "N_j"
   ]
  }
 ],
 "metadata": {
  "kernelspec": {
   "display_name": "Python 3",
   "language": "python",
   "name": "python3"
  },
  "language_info": {
   "codemirror_mode": {
    "name": "ipython",
    "version": 3
   },
   "file_extension": ".py",
   "mimetype": "text/x-python",
   "name": "python",
   "nbconvert_exporter": "python",
   "pygments_lexer": "ipython3",
   "version": "3.11.4"
  }
 },
 "nbformat": 4,
 "nbformat_minor": 4
}
