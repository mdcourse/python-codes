{
 "cells": [
  {
   "cell_type": "code",
   "execution_count": 1,
   "metadata": {},
   "outputs": [],
   "source": [
    "import sys, os, git, time\n",
    "\n",
    "import MDAnalysis as mda\n",
    "from MDAnalysis.analysis import distances\n",
    "\n",
    "current_path = os.getcwd()\n",
    "git_repo = git.Repo(current_path, search_parent_directories=True)\n",
    "git_path = git_repo.git.rev_parse(\"--show-toplevel\")\n",
    "sys.path.append(git_path+\"/python-codes/\")\n",
    "\n",
    "from MinimizeEnergy import MinimizeEnergy\n",
    "\n",
    "import numpy as np"
   ]
  },
  {
   "cell_type": "code",
   "execution_count": 6,
   "metadata": {},
   "outputs": [
    {
     "name": "stdout",
     "output_type": "stream",
     "text": [
      "[1, 2, 3, 4, 5, 6, 7, 8, 10, 11, 12, 13, 14, 15, 16, 17, 18, 19, 20, 21, 22, 23, 24, 25, 26, 27, 28, 29, 30, 31, 32, 33, 34, 35, 36, 37, 38, 39, 41, 42, 43, 44, 45, 46, 47, 48, 49]\n"
     ]
    },
    {
     "ename": "NameError",
     "evalue": "name 'stop' is not defined",
     "output_type": "error",
     "traceback": [
      "\u001b[0;31m---------------------------------------------------------------------------\u001b[0m",
      "\u001b[0;31mNameError\u001b[0m                                 Traceback (most recent call last)",
      "\u001b[1;32m/home/simon/Git/MDCourse/python-codes/python-codes/tests.ipynb Cell 2\u001b[0m line \u001b[0;36m1\n\u001b[1;32m      <a href='vscode-notebook-cell:/home/simon/Git/MDCourse/python-codes/python-codes/tests.ipynb#W1sZmlsZQ%3D%3D?line=0'>1</a>\u001b[0m ti \u001b[39m=\u001b[39m time\u001b[39m.\u001b[39mtime()\n\u001b[1;32m      <a href='vscode-notebook-cell:/home/simon/Git/MDCourse/python-codes/python-codes/tests.ipynb#W1sZmlsZQ%3D%3D?line=2'>3</a>\u001b[0m \u001b[39mself\u001b[39m \u001b[39m=\u001b[39m MinimizeEnergy(number_atoms\u001b[39m=\u001b[39m[\u001b[39m50\u001b[39m],\n\u001b[1;32m      <a href='vscode-notebook-cell:/home/simon/Git/MDCourse/python-codes/python-codes/tests.ipynb#W1sZmlsZQ%3D%3D?line=3'>4</a>\u001b[0m                       epsilon\u001b[39m=\u001b[39m[\u001b[39m0.1\u001b[39m],\n\u001b[1;32m      <a href='vscode-notebook-cell:/home/simon/Git/MDCourse/python-codes/python-codes/tests.ipynb#W1sZmlsZQ%3D%3D?line=4'>5</a>\u001b[0m                       sigma \u001b[39m=\u001b[39m [\u001b[39m3\u001b[39m],\n\u001b[0;32m   (...)\u001b[0m\n\u001b[1;32m     <a href='vscode-notebook-cell:/home/simon/Git/MDCourse/python-codes/python-codes/tests.ipynb#W1sZmlsZQ%3D%3D?line=10'>11</a>\u001b[0m                       cut_off \u001b[39m=\u001b[39m \u001b[39m9\u001b[39m,\n\u001b[1;32m     <a href='vscode-notebook-cell:/home/simon/Git/MDCourse/python-codes/python-codes/tests.ipynb#W1sZmlsZQ%3D%3D?line=11'>12</a>\u001b[0m                       dump \u001b[39m=\u001b[39m \u001b[39m50\u001b[39m)\n\u001b[0;32m---> <a href='vscode-notebook-cell:/home/simon/Git/MDCourse/python-codes/python-codes/tests.ipynb#W1sZmlsZQ%3D%3D?line=12'>13</a>\u001b[0m \u001b[39mself\u001b[39;49m\u001b[39m.\u001b[39;49mperform_energy_minimization()\n\u001b[1;32m     <a href='vscode-notebook-cell:/home/simon/Git/MDCourse/python-codes/python-codes/tests.ipynb#W1sZmlsZQ%3D%3D?line=14'>15</a>\u001b[0m tf \u001b[39m=\u001b[39m time\u001b[39m.\u001b[39mtime()\n\u001b[1;32m     <a href='vscode-notebook-cell:/home/simon/Git/MDCourse/python-codes/python-codes/tests.ipynb#W1sZmlsZQ%3D%3D?line=16'>17</a>\u001b[0m \u001b[39mprint\u001b[39m(\u001b[39m\"\u001b[39m\u001b[39mtime =\u001b[39m\u001b[39m\"\u001b[39m, np\u001b[39m.\u001b[39mround(tf\u001b[39m-\u001b[39mti,\u001b[39m2\u001b[39m), \u001b[39m\"\u001b[39m\u001b[39ms\u001b[39m\u001b[39m\"\u001b[39m)\n",
      "File \u001b[0;32m~/Git/MDCourse/python-codes/python-codes/MinimizeEnergy.py:41\u001b[0m, in \u001b[0;36mMinimizeEnergy.perform_energy_minimization\u001b[0;34m(self)\u001b[0m\n\u001b[1;32m     38\u001b[0m \u001b[39mfor\u001b[39;00m \u001b[39mself\u001b[39m\u001b[39m.\u001b[39mstep \u001b[39min\u001b[39;00m \u001b[39mrange\u001b[39m(\u001b[39m0\u001b[39m, \u001b[39mself\u001b[39m\u001b[39m.\u001b[39mminimization_steps\u001b[39m+\u001b[39m\u001b[39m1\u001b[39m):\n\u001b[1;32m     39\u001b[0m     \u001b[39m# Measure the initial energy and max force\u001b[39;00m\n\u001b[1;32m     40\u001b[0m     \u001b[39mself\u001b[39m\u001b[39m.\u001b[39mupdate_neighbor_lists()\n\u001b[0;32m---> 41\u001b[0m     initial_Epot \u001b[39m=\u001b[39m \u001b[39mself\u001b[39;49m\u001b[39m.\u001b[39;49mcalculate_LJ_potential_force(output\u001b[39m=\u001b[39;49m\u001b[39m\"\u001b[39;49m\u001b[39mpotential\u001b[39;49m\u001b[39m\"\u001b[39;49m)\n\u001b[1;32m     42\u001b[0m     initial_positions \u001b[39m=\u001b[39m copy\u001b[39m.\u001b[39mdeepcopy(\u001b[39mself\u001b[39m\u001b[39m.\u001b[39matoms_positions)\n\u001b[1;32m     43\u001b[0m     forces \u001b[39m=\u001b[39m \u001b[39mself\u001b[39m\u001b[39m.\u001b[39mcalculate_LJ_potential_force(output\u001b[39m=\u001b[39m\u001b[39m\"\u001b[39m\u001b[39mforce-vector\u001b[39m\u001b[39m\"\u001b[39m)\n",
      "File \u001b[0;32m~/Git/MDCourse/python-codes/python-codes/Utilities.py:90\u001b[0m, in \u001b[0;36mUtilities.calculate_LJ_potential_force\u001b[0;34m(self, output)\u001b[0m\n\u001b[1;32m     88\u001b[0m neighbor_of_i \u001b[39m=\u001b[39m \u001b[39mself\u001b[39m\u001b[39m.\u001b[39mneighbor_lists[Ni]\n\u001b[1;32m     89\u001b[0m \u001b[39mprint\u001b[39m(neighbor_of_i)\n\u001b[0;32m---> 90\u001b[0m stop\n\u001b[1;32m     91\u001b[0m \u001b[39m# Read information about neighbors j\u001b[39;00m\n\u001b[1;32m     92\u001b[0m positions_j \u001b[39m=\u001b[39m \u001b[39mself\u001b[39m\u001b[39m.\u001b[39matoms_positions[neighbor_of_i]\n",
      "\u001b[0;31mNameError\u001b[0m: name 'stop' is not defined"
     ]
    }
   ],
   "source": [
    "ti = time.time()\n",
    "\n",
    "self = MinimizeEnergy(number_atoms=[50],\n",
    "                      epsilon=[0.1],\n",
    "                      sigma = [3],\n",
    "                      atom_mass = [1],\n",
    "                      box_dimensions=[20, 20, 20],\n",
    "                      neighbor=10,\n",
    "                      minimization_steps=1000,\n",
    "                      thermo = 50,\n",
    "                      cut_off = 9,\n",
    "                      dump = 50)\n",
    "self.perform_energy_minimization()\n",
    "\n",
    "tf = time.time()\n",
    "\n",
    "print(\"time =\", np.round(tf-ti,2), \"s\")"
   ]
  },
  {
   "cell_type": "code",
   "execution_count": null,
   "metadata": {},
   "outputs": [],
   "source": []
  },
  {
   "cell_type": "code",
   "execution_count": null,
   "metadata": {},
   "outputs": [],
   "source": []
  },
  {
   "cell_type": "code",
   "execution_count": null,
   "metadata": {},
   "outputs": [],
   "source": []
  }
 ],
 "metadata": {
  "kernelspec": {
   "display_name": "Python 3",
   "language": "python",
   "name": "python3"
  },
  "language_info": {
   "codemirror_mode": {
    "name": "ipython",
    "version": 3
   },
   "file_extension": ".py",
   "mimetype": "text/x-python",
   "name": "python",
   "nbconvert_exporter": "python",
   "pygments_lexer": "ipython3",
   "version": "3.11.4"
  }
 },
 "nbformat": 4,
 "nbformat_minor": 4
}
