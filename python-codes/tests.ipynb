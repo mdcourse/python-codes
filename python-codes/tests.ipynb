{
 "cells": [
  {
   "cell_type": "code",
   "execution_count": 1,
   "metadata": {},
   "outputs": [],
   "source": [
    "from MinimizeEnergy import MinimizeEnergy\n",
    "import matplotlib.pyplot as plt"
   ]
  },
  {
   "cell_type": "code",
   "execution_count": 4,
   "metadata": {},
   "outputs": [],
   "source": [
    "pe = MinimizeEnergy(maximum_steps=100,\n",
    "    dumping_period=10,\n",
    "    number_atoms=[5, 100],\n",
    "    box_dimensions=[20, 20, 20],\n",
    "    epsilon=[0.1, 0.1],\n",
    "    sigma = [3, 6],\n",
    "    atom_mass = [1, 1])\n",
    "pe.run()"
   ]
  },
  {
   "cell_type": "code",
   "execution_count": null,
   "metadata": {},
   "outputs": [],
   "source": []
  },
  {
   "cell_type": "code",
   "execution_count": null,
   "metadata": {},
   "outputs": [],
   "source": []
  },
  {
   "cell_type": "code",
   "execution_count": null,
   "metadata": {},
   "outputs": [],
   "source": []
  },
  {
   "cell_type": "code",
   "execution_count": null,
   "metadata": {},
   "outputs": [],
   "source": []
  },
  {
   "cell_type": "code",
   "execution_count": null,
   "metadata": {},
   "outputs": [],
   "source": [
    "values = [1, 1, 1, 0, -7.456221432551417, 4.189687491973542, 0.42420624316122924]\n",
    "string = \" \".join(str(item) for item in values)"
   ]
  },
  {
   "cell_type": "code",
   "execution_count": null,
   "metadata": {},
   "outputs": [
    {
     "ename": "TypeError",
     "evalue": "%d format: a real number is required, not str",
     "output_type": "error",
     "traceback": [
      "\u001b[0;31m---------------------------------------------------------------------------\u001b[0m",
      "\u001b[0;31mTypeError\u001b[0m                                 Traceback (most recent call last)",
      "\u001b[1;32m/home/simon/Git/MDCourse/python-codes/python-codes/tests.ipynb Cell 8\u001b[0m line \u001b[0;36m1\n\u001b[0;32m----> <a href='vscode-notebook-cell:/home/simon/Git/MDCourse/python-codes/python-codes/tests.ipynb#X22sZmlsZQ%3D%3D?line=0'>1</a>\u001b[0m characters \u001b[39m%\u001b[39;49m (string\u001b[39m+\u001b[39;49m\u001b[39m'\u001b[39;49m\u001b[39m\\n\u001b[39;49;00m\u001b[39m'\u001b[39;49m)\n",
      "\u001b[0;31mTypeError\u001b[0m: %d format: a real number is required, not str"
     ]
    }
   ],
   "source": [
    "characters % (string+'\\n')"
   ]
  },
  {
   "cell_type": "code",
   "execution_count": null,
   "metadata": {},
   "outputs": [
    {
     "data": {
      "text/plain": [
       "'1 1 1 0 -7.456221432551417 4.189687491973542 0.42420624316122924'"
      ]
     },
     "execution_count": 10,
     "metadata": {},
     "output_type": "execute_result"
    }
   ],
   "source": [
    "string"
   ]
  },
  {
   "cell_type": "code",
   "execution_count": null,
   "metadata": {},
   "outputs": [],
   "source": [
    "import sys, os, git, time\n",
    "\n",
    "import MDAnalysis as mda\n",
    "from MDAnalysis.analysis import distances\n",
    "\n",
    "current_path = os.getcwd()\n",
    "git_repo = git.Repo(current_path, search_parent_directories=True)\n",
    "git_path = git_repo.git.rev_parse(\"--show-toplevel\")\n",
    "sys.path.append(git_path+\"/python-codes/\")\n",
    "\n",
    "from MinimizeEnergy import MinimizeEnergy\n",
    "from MonteCarlo import MonteCarlo\n",
    "from MolecularDynamics import MolecularDynamics\n",
    "\n",
    "import numpy as np"
   ]
  },
  {
   "cell_type": "code",
   "execution_count": null,
   "metadata": {},
   "outputs": [],
   "source": [
    "ti = time.time()\n",
    "\n",
    "me = MinimizeEnergy(maximum_steps=10,\n",
    "    number_atoms=[50],\n",
    "    epsilon=[0.1],\n",
    "    sigma = [3],\n",
    "    atom_mass = [1],\n",
    "    box_dimensions=[20, 20, 20],\n",
    "    neighbor=10,\n",
    "    thermo = 2,\n",
    "    cut_off = 9,\n",
    "    dump = 2)\n",
    "me.perform_energy_minimization()\n",
    "\n",
    "tf = time.time()\n",
    "\n",
    "print(\"time =\", np.round(tf-ti,2), \"s\")"
   ]
  },
  {
   "cell_type": "code",
   "execution_count": null,
   "metadata": {},
   "outputs": [],
   "source": [
    "ti = time.time()\n",
    "\n",
    "self = MolecularDynamics(maximum_steps = 10000,\n",
    "    number_atoms = [20],\n",
    "    epsilon = [0.1],\n",
    "    sigma = [3],\n",
    "    atom_mass = [1],\n",
    "    tau_temp=100,\n",
    "    box_dimensions=[20, 20, 20],\n",
    "    neighbor = 10,\n",
    "    thermo = 50,\n",
    "    cut_off = 9,\n",
    "    dump = 50)\n",
    "self.run()\n",
    "\n",
    "tf = time.time()\n",
    "\n",
    "print(\"time =\", np.round(tf-ti,2), \"s\")"
   ]
  },
  {
   "cell_type": "code",
   "execution_count": null,
   "metadata": {},
   "outputs": [],
   "source": [
    "np.shape(self.evaluate_rij_matrix())"
   ]
  },
  {
   "cell_type": "code",
   "execution_count": null,
   "metadata": {},
   "outputs": [],
   "source": [
    "r = np.linalg.norm(self.evaluate_rij_matrix(), axis=2)"
   ]
  },
  {
   "cell_type": "code",
   "execution_count": null,
   "metadata": {},
   "outputs": [],
   "source": []
  },
  {
   "cell_type": "code",
   "execution_count": null,
   "metadata": {},
   "outputs": [],
   "source": [
    "help(np.histogram)"
   ]
  }
 ],
 "metadata": {
  "kernelspec": {
   "display_name": "Python 3",
   "language": "python",
   "name": "python3"
  },
  "language_info": {
   "codemirror_mode": {
    "name": "ipython",
    "version": 3
   },
   "file_extension": ".py",
   "mimetype": "text/x-python",
   "name": "python",
   "nbconvert_exporter": "python",
   "pygments_lexer": "ipython3",
   "version": "3.11.4"
  }
 },
 "nbformat": 4,
 "nbformat_minor": 4
}
