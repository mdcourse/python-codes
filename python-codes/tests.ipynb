{
 "cells": [
  {
   "cell_type": "code",
   "execution_count": 11,
   "metadata": {},
   "outputs": [],
   "source": [
    "from InitializeSimulation import InitializeSimulation"
   ]
  },
  {
   "cell_type": "code",
   "execution_count": 20,
   "metadata": {},
   "outputs": [],
   "source": [
    "pe = InitializeSimulation(number_atoms=[5, 10],\n",
    "    box_dimensions=[20, 20, 20],\n",
    "    epsilon=[0.1, 0.1],\n",
    "    sigma = [3, 6],\n",
    "    atom_mass = [1, 1])\n",
    "#pe.nondimensionalize_units_1()\n",
    "#pe.define_box()\n",
    "#pe.populate_box()"
   ]
  },
  {
   "cell_type": "code",
   "execution_count": null,
   "metadata": {},
   "outputs": [],
   "source": [
    "import sys, os, git, time\n",
    "\n",
    "import MDAnalysis as mda\n",
    "from MDAnalysis.analysis import distances\n",
    "\n",
    "current_path = os.getcwd()\n",
    "git_repo = git.Repo(current_path, search_parent_directories=True)\n",
    "git_path = git_repo.git.rev_parse(\"--show-toplevel\")\n",
    "sys.path.append(git_path+\"/python-codes/\")\n",
    "\n",
    "from MinimizeEnergy import MinimizeEnergy\n",
    "from MonteCarlo import MonteCarlo\n",
    "from MolecularDynamics import MolecularDynamics\n",
    "\n",
    "import numpy as np"
   ]
  },
  {
   "cell_type": "code",
   "execution_count": null,
   "metadata": {},
   "outputs": [],
   "source": [
    "ti = time.time()\n",
    "\n",
    "me = MinimizeEnergy(maximum_steps=10,\n",
    "    number_atoms=[50],\n",
    "    epsilon=[0.1],\n",
    "    sigma = [3],\n",
    "    atom_mass = [1],\n",
    "    box_dimensions=[20, 20, 20],\n",
    "    neighbor=10,\n",
    "    thermo = 2,\n",
    "    cut_off = 9,\n",
    "    dump = 2)\n",
    "me.perform_energy_minimization()\n",
    "\n",
    "tf = time.time()\n",
    "\n",
    "print(\"time =\", np.round(tf-ti,2), \"s\")"
   ]
  },
  {
   "cell_type": "code",
   "execution_count": null,
   "metadata": {},
   "outputs": [],
   "source": [
    "ti = time.time()\n",
    "\n",
    "self = MolecularDynamics(maximum_steps = 10000,\n",
    "    number_atoms = [20],\n",
    "    epsilon = [0.1],\n",
    "    sigma = [3],\n",
    "    atom_mass = [1],\n",
    "    tau_temp=100,\n",
    "    box_dimensions=[20, 20, 20],\n",
    "    neighbor = 10,\n",
    "    thermo = 50,\n",
    "    cut_off = 9,\n",
    "    dump = 50)\n",
    "self.run()\n",
    "\n",
    "tf = time.time()\n",
    "\n",
    "print(\"time =\", np.round(tf-ti,2), \"s\")"
   ]
  },
  {
   "cell_type": "code",
   "execution_count": null,
   "metadata": {},
   "outputs": [],
   "source": [
    "np.shape(self.evaluate_rij_matrix())"
   ]
  },
  {
   "cell_type": "code",
   "execution_count": null,
   "metadata": {},
   "outputs": [],
   "source": [
    "r = np.linalg.norm(self.evaluate_rij_matrix(), axis=2)"
   ]
  },
  {
   "cell_type": "code",
   "execution_count": null,
   "metadata": {},
   "outputs": [],
   "source": []
  },
  {
   "cell_type": "code",
   "execution_count": null,
   "metadata": {},
   "outputs": [],
   "source": [
    "help(np.histogram)"
   ]
  }
 ],
 "metadata": {
  "kernelspec": {
   "display_name": "Python 3",
   "language": "python",
   "name": "python3"
  },
  "language_info": {
   "codemirror_mode": {
    "name": "ipython",
    "version": 3
   },
   "file_extension": ".py",
   "mimetype": "text/x-python",
   "name": "python",
   "nbconvert_exporter": "python",
   "pygments_lexer": "ipython3",
   "version": "3.11.4"
  }
 },
 "nbformat": 4,
 "nbformat_minor": 4
}
