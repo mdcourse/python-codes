{
 "cells": [
  {
   "cell_type": "code",
   "execution_count": 1,
   "metadata": {},
   "outputs": [],
   "source": [
    "from MonteCarlo import MonteCarlo\n",
    "import matplotlib.pyplot as plt\n",
    "from scipy import constants as cst\n",
    "import numpy as np"
   ]
  },
  {
   "cell_type": "code",
   "execution_count": 4,
   "metadata": {},
   "outputs": [
    {
     "name": "stdout",
     "output_type": "stream",
     "text": [
      "step  N     T (K)     p (atm)   V (A3)    Ep (kcal/mol) Ek (kcal/mol) dens (g/cm3) \n",
      "0     105   3e+02     0.0       8e+03     4.64e+12      0.0           0.0218       \n",
      "1000  105   3e+02     0.0       8e+03     3.69e+04      0.0           0.0218       \n",
      "2000  105   3e+02     0.0       8e+03     1.15e+04      0.0           0.0218       \n",
      "3000  105   3e+02     0.0       8e+03     8.46e+03      0.0           0.0218       \n",
      "4000  105   3e+02     0.0       8e+03     7.68e+03      0.0           0.0218       \n",
      "5000  105   3e+02     0.0       8e+03     7.29e+03      0.0           0.0218       \n",
      "6000  105   3e+02     0.0       8e+03     7.17e+03      0.0           0.0218       \n",
      "7000  105   3e+02     0.0       8e+03     7.28e+03      0.0           0.0218       \n",
      "8000  105   3e+02     0.0       8e+03     6.85e+03      0.0           0.0218       \n",
      "9000  105   3e+02     0.0       8e+03     6.91e+03      0.0           0.0218       \n",
      "10000 105   3e+02     0.0       8e+03     7.06e+03      0.0           0.0218       \n"
     ]
    }
   ],
   "source": [
    "self = MonteCarlo(maximum_steps=10000,\n",
    "    displace_mc=2,\n",
    "    dumping_period=1000,\n",
    "    thermo_period=1000,\n",
    "    number_atoms=[5, 100],\n",
    "    box_dimensions=[20, 20, 20],\n",
    "    epsilon=[0.1, 0.1],\n",
    "    sigma = [3, 6],\n",
    "    atom_mass = [1, 1])\n",
    "self.run()"
   ]
  },
  {
   "cell_type": "code",
   "execution_count": null,
   "metadata": {},
   "outputs": [],
   "source": []
  },
  {
   "cell_type": "code",
   "execution_count": null,
   "metadata": {},
   "outputs": [],
   "source": []
  },
  {
   "cell_type": "code",
   "execution_count": 6,
   "metadata": {},
   "outputs": [
    {
     "data": {
      "text/plain": [
       "100000000.0"
      ]
     },
     "execution_count": 6,
     "metadata": {},
     "output_type": "execute_result"
    }
   ],
   "source": [
    "cst.centi/cst.angstrom"
   ]
  },
  {
   "cell_type": "code",
   "execution_count": null,
   "metadata": {},
   "outputs": [],
   "source": [
    "import sys, os, git, time\n",
    "\n",
    "import MDAnalysis as mda\n",
    "from MDAnalysis.analysis import distances\n",
    "\n",
    "current_path = os.getcwd()\n",
    "git_repo = git.Repo(current_path, search_parent_directories=True)\n",
    "git_path = git_repo.git.rev_parse(\"--show-toplevel\")\n",
    "sys.path.append(git_path+\"/python-codes/\")\n",
    "\n",
    "from MinimizeEnergy import MinimizeEnergy\n",
    "from MonteCarlo import MonteCarlo\n",
    "from MolecularDynamics import MolecularDynamics\n",
    "\n",
    "import numpy as np"
   ]
  },
  {
   "cell_type": "code",
   "execution_count": null,
   "metadata": {},
   "outputs": [],
   "source": [
    "ti = time.time()\n",
    "\n",
    "me = MinimizeEnergy(maximum_steps=10,\n",
    "    number_atoms=[50],\n",
    "    epsilon=[0.1],\n",
    "    sigma = [3],\n",
    "    atom_mass = [1],\n",
    "    box_dimensions=[20, 20, 20],\n",
    "    neighbor=10,\n",
    "    thermo = 2,\n",
    "    cut_off = 9,\n",
    "    dump = 2)\n",
    "me.perform_energy_minimization()\n",
    "\n",
    "tf = time.time()\n",
    "\n",
    "print(\"time =\", np.round(tf-ti,2), \"s\")"
   ]
  },
  {
   "cell_type": "code",
   "execution_count": null,
   "metadata": {},
   "outputs": [],
   "source": [
    "ti = time.time()\n",
    "\n",
    "self = MolecularDynamics(maximum_steps = 10000,\n",
    "    number_atoms = [20],\n",
    "    epsilon = [0.1],\n",
    "    sigma = [3],\n",
    "    atom_mass = [1],\n",
    "    tau_temp=100,\n",
    "    box_dimensions=[20, 20, 20],\n",
    "    neighbor = 10,\n",
    "    thermo = 50,\n",
    "    cut_off = 9,\n",
    "    dump = 50)\n",
    "self.run()\n",
    "\n",
    "tf = time.time()\n",
    "\n",
    "print(\"time =\", np.round(tf-ti,2), \"s\")"
   ]
  },
  {
   "cell_type": "code",
   "execution_count": null,
   "metadata": {},
   "outputs": [],
   "source": [
    "np.shape(self.evaluate_rij_matrix())"
   ]
  },
  {
   "cell_type": "code",
   "execution_count": null,
   "metadata": {},
   "outputs": [],
   "source": [
    "r = np.linalg.norm(self.evaluate_rij_matrix(), axis=2)"
   ]
  },
  {
   "cell_type": "code",
   "execution_count": null,
   "metadata": {},
   "outputs": [],
   "source": []
  },
  {
   "cell_type": "code",
   "execution_count": null,
   "metadata": {},
   "outputs": [],
   "source": [
    "help(np.histogram)"
   ]
  }
 ],
 "metadata": {
  "kernelspec": {
   "display_name": "Python 3",
   "language": "python",
   "name": "python3"
  },
  "language_info": {
   "codemirror_mode": {
    "name": "ipython",
    "version": 3
   },
   "file_extension": ".py",
   "mimetype": "text/x-python",
   "name": "python",
   "nbconvert_exporter": "python",
   "pygments_lexer": "ipython3",
   "version": "3.11.4"
  }
 },
 "nbformat": 4,
 "nbformat_minor": 4
}
