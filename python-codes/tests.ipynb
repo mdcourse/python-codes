{
 "cells": [
  {
   "cell_type": "code",
   "execution_count": 1,
   "metadata": {},
   "outputs": [],
   "source": [
    "import sys, os, git, time\n",
    "\n",
    "import MDAnalysis as mda\n",
    "from MDAnalysis.analysis import distances\n",
    "\n",
    "current_path = os.getcwd()\n",
    "git_repo = git.Repo(current_path, search_parent_directories=True)\n",
    "git_path = git_repo.git.rev_parse(\"--show-toplevel\")\n",
    "sys.path.append(git_path+\"/python-codes/\")\n",
    "\n",
    "from MinimizeEnergy import MinimizeEnergy\n",
    "from MonteCarlo import MonteCarlo\n",
    "from MolecularDynamics import MolecularDynamics\n",
    "\n",
    "import numpy as np"
   ]
  },
  {
   "cell_type": "code",
   "execution_count": 2,
   "metadata": {},
   "outputs": [
    {
     "name": "stdout",
     "output_type": "stream",
     "text": [
      "step epot maxF\n",
      "0 81836.614 452576.248\n",
      "2 47563.056 259174.656\n",
      "4 23982.885 120825.281\n",
      "6 10612.150 43294.928\n",
      "8 3672.331 11223.903\n",
      "10 826.164 2009.831\n",
      "time = 0.17 s\n"
     ]
    }
   ],
   "source": [
    "ti = time.time()\n",
    "\n",
    "me = MinimizeEnergy(maximum_steps=10,\n",
    "    number_atoms=[50],\n",
    "    epsilon=[0.1],\n",
    "    sigma = [3],\n",
    "    atom_mass = [1],\n",
    "    box_dimensions=[20, 20, 20],\n",
    "    neighbor=10,\n",
    "    thermo = 2,\n",
    "    cut_off = 9,\n",
    "    dump = 2)\n",
    "me.perform_energy_minimization()\n",
    "\n",
    "tf = time.time()\n",
    "\n",
    "print(\"time =\", np.round(tf-ti,2), \"s\")"
   ]
  },
  {
   "cell_type": "code",
   "execution_count": 3,
   "metadata": {},
   "outputs": [
    {
     "ename": "IndexError",
     "evalue": "index 7 is out of bounds for axis 0 with size 5",
     "output_type": "error",
     "traceback": [
      "\u001b[0;31m---------------------------------------------------------------------------\u001b[0m",
      "\u001b[0;31mIndexError\u001b[0m                                Traceback (most recent call last)",
      "\u001b[1;32m/home/simon/Git/MDCourse/python-codes/python-codes/tests.ipynb Cell 3\u001b[0m line \u001b[0;36m1\n\u001b[1;32m      <a href='vscode-notebook-cell:/home/simon/Git/MDCourse/python-codes/python-codes/tests.ipynb#W3sZmlsZQ%3D%3D?line=0'>1</a>\u001b[0m ti \u001b[39m=\u001b[39m time\u001b[39m.\u001b[39mtime()\n\u001b[1;32m      <a href='vscode-notebook-cell:/home/simon/Git/MDCourse/python-codes/python-codes/tests.ipynb#W3sZmlsZQ%3D%3D?line=2'>3</a>\u001b[0m \u001b[39mself\u001b[39m \u001b[39m=\u001b[39m MolecularDynamics(maximum_steps \u001b[39m=\u001b[39m \u001b[39m100\u001b[39m,\n\u001b[1;32m      <a href='vscode-notebook-cell:/home/simon/Git/MDCourse/python-codes/python-codes/tests.ipynb#W3sZmlsZQ%3D%3D?line=3'>4</a>\u001b[0m     number_atoms \u001b[39m=\u001b[39m [\u001b[39m5\u001b[39m],\n\u001b[1;32m      <a href='vscode-notebook-cell:/home/simon/Git/MDCourse/python-codes/python-codes/tests.ipynb#W3sZmlsZQ%3D%3D?line=4'>5</a>\u001b[0m     epsilon \u001b[39m=\u001b[39m [\u001b[39m0.1\u001b[39m],\n\u001b[0;32m   (...)\u001b[0m\n\u001b[1;32m     <a href='vscode-notebook-cell:/home/simon/Git/MDCourse/python-codes/python-codes/tests.ipynb#W3sZmlsZQ%3D%3D?line=11'>12</a>\u001b[0m     dump \u001b[39m=\u001b[39m \u001b[39m10\u001b[39m,\n\u001b[1;32m     <a href='vscode-notebook-cell:/home/simon/Git/MDCourse/python-codes/python-codes/tests.ipynb#W3sZmlsZQ%3D%3D?line=12'>13</a>\u001b[0m     initial_positions \u001b[39m=\u001b[39m me\u001b[39m.\u001b[39matoms_positions)\n\u001b[0;32m---> <a href='vscode-notebook-cell:/home/simon/Git/MDCourse/python-codes/python-codes/tests.ipynb#W3sZmlsZQ%3D%3D?line=13'>14</a>\u001b[0m \u001b[39mself\u001b[39;49m\u001b[39m.\u001b[39;49mrun()\n\u001b[1;32m     <a href='vscode-notebook-cell:/home/simon/Git/MDCourse/python-codes/python-codes/tests.ipynb#W3sZmlsZQ%3D%3D?line=15'>16</a>\u001b[0m tf \u001b[39m=\u001b[39m time\u001b[39m.\u001b[39mtime()\n\u001b[1;32m     <a href='vscode-notebook-cell:/home/simon/Git/MDCourse/python-codes/python-codes/tests.ipynb#W3sZmlsZQ%3D%3D?line=17'>18</a>\u001b[0m \u001b[39mprint\u001b[39m(\u001b[39m\"\u001b[39m\u001b[39mtime =\u001b[39m\u001b[39m\"\u001b[39m, np\u001b[39m.\u001b[39mround(tf\u001b[39m-\u001b[39mti,\u001b[39m2\u001b[39m), \u001b[39m\"\u001b[39m\u001b[39ms\u001b[39m\u001b[39m\"\u001b[39m)\n",
      "File \u001b[0;32m~/Git/MDCourse/python-codes/python-codes/MolecularDynamics.py:55\u001b[0m, in \u001b[0;36mMolecularDynamics.run\u001b[0;34m(self)\u001b[0m\n\u001b[1;32m     53\u001b[0m \u001b[39mfor\u001b[39;00m \u001b[39mself\u001b[39m\u001b[39m.\u001b[39mstep \u001b[39min\u001b[39;00m \u001b[39mrange\u001b[39m(\u001b[39m0\u001b[39m, \u001b[39mself\u001b[39m\u001b[39m.\u001b[39mmaximum_steps\u001b[39m+\u001b[39m\u001b[39m1\u001b[39m):\n\u001b[1;32m     54\u001b[0m     \u001b[39mself\u001b[39m\u001b[39m.\u001b[39mupdate_neighbor_lists()\n\u001b[0;32m---> 55\u001b[0m     \u001b[39mself\u001b[39;49m\u001b[39m.\u001b[39;49mintegrate_equation_of_motion()\n\u001b[1;32m     56\u001b[0m     \u001b[39mself\u001b[39m\u001b[39m.\u001b[39mwrap_in_box()\n\u001b[1;32m     57\u001b[0m     \u001b[39mself\u001b[39m\u001b[39m.\u001b[39mapply_berendsen_thermostat()\n",
      "File \u001b[0;32m~/Git/MDCourse/python-codes/python-codes/MolecularDynamics.py:68\u001b[0m, in \u001b[0;36mMolecularDynamics.integrate_equation_of_motion\u001b[0;34m(self)\u001b[0m\n\u001b[1;32m     66\u001b[0m \u001b[39m\u001b[39m\u001b[39m\"\"\"Integrate equation of motion using half-step velocity\"\"\"\u001b[39;00m\n\u001b[1;32m     67\u001b[0m \u001b[39mif\u001b[39;00m \u001b[39mself\u001b[39m\u001b[39m.\u001b[39mstep \u001b[39m==\u001b[39m \u001b[39m0\u001b[39m:\n\u001b[0;32m---> 68\u001b[0m     \u001b[39mself\u001b[39m\u001b[39m.\u001b[39matoms_accelerations \u001b[39m=\u001b[39m (\u001b[39mself\u001b[39;49m\u001b[39m.\u001b[39;49mcalculate_LJ_potential_force(output \u001b[39m=\u001b[39;49m \u001b[39m\"\u001b[39;49m\u001b[39mforce-vector\u001b[39;49m\u001b[39m\"\u001b[39;49m)\u001b[39m.\u001b[39mT\u001b[39m/\u001b[39m\u001b[39mself\u001b[39m\u001b[39m.\u001b[39matoms_mass)\u001b[39m.\u001b[39mT\n\u001b[1;32m     69\u001b[0m     stop\n\u001b[1;32m     70\u001b[0m atoms_velocity_Dt2 \u001b[39m=\u001b[39m \u001b[39mself\u001b[39m\u001b[39m.\u001b[39matoms_velocities \u001b[39m+\u001b[39m \u001b[39mself\u001b[39m\u001b[39m.\u001b[39matoms_accelerations\u001b[39m*\u001b[39m\u001b[39mself\u001b[39m\u001b[39m.\u001b[39mtime_step\u001b[39m/\u001b[39m\u001b[39m2\u001b[39m\n",
      "File \u001b[0;32m~/Git/MDCourse/python-codes/python-codes/Utilities.py:91\u001b[0m, in \u001b[0;36mUtilities.calculate_LJ_potential_force\u001b[0;34m(self, output)\u001b[0m\n\u001b[1;32m     89\u001b[0m \u001b[39m# Read information about neighbors j\u001b[39;00m\n\u001b[1;32m     90\u001b[0m positions_j \u001b[39m=\u001b[39m \u001b[39mself\u001b[39m\u001b[39m.\u001b[39matoms_positions[neighbor_of_i]\n\u001b[0;32m---> 91\u001b[0m sigma_j \u001b[39m=\u001b[39m \u001b[39mself\u001b[39;49m\u001b[39m.\u001b[39;49matoms_sigma[neighbor_of_i]\n\u001b[1;32m     92\u001b[0m epsilon_j \u001b[39m=\u001b[39m \u001b[39mself\u001b[39m\u001b[39m.\u001b[39matoms_epsilon[neighbor_of_i]\n\u001b[1;32m     93\u001b[0m \u001b[39m# Measure distances and other cross parameters\u001b[39;00m\n",
      "\u001b[0;31mIndexError\u001b[0m: index 7 is out of bounds for axis 0 with size 5"
     ]
    }
   ],
   "source": [
    "ti = time.time()\n",
    "\n",
    "self = MolecularDynamics(maximum_steps = 100,\n",
    "    number_atoms = [5],\n",
    "    epsilon = [0.1],\n",
    "    sigma = [3],\n",
    "    atom_mass = [1],\n",
    "    box_dimensions=[20, 20, 20],\n",
    "    neighbor = 10,\n",
    "    thermo = 10,\n",
    "    cut_off = 9,\n",
    "    dump = 10,\n",
    "    initial_positions = me.atoms_positions)\n",
    "self.run()\n",
    "\n",
    "tf = time.time()\n",
    "\n",
    "print(\"time =\", np.round(tf-ti,2), \"s\")"
   ]
  },
  {
   "cell_type": "code",
   "execution_count": 5,
   "metadata": {},
   "outputs": [
    {
     "data": {
      "text/plain": [
       "array([1., 1., 1., 1., 1.])"
      ]
     },
     "execution_count": 5,
     "metadata": {},
     "output_type": "execute_result"
    }
   ],
   "source": [
    "self.atoms_sigma"
   ]
  },
  {
   "cell_type": "code",
   "execution_count": 4,
   "metadata": {},
   "outputs": [
    {
     "ename": "IndexError",
     "evalue": "index 7 is out of bounds for axis 0 with size 5",
     "output_type": "error",
     "traceback": [
      "\u001b[0;31m---------------------------------------------------------------------------\u001b[0m",
      "\u001b[0;31mIndexError\u001b[0m                                Traceback (most recent call last)",
      "\u001b[1;32m/home/simon/Git/MDCourse/python-codes/python-codes/tests.ipynb Cell 4\u001b[0m line \u001b[0;36m1\n\u001b[0;32m----> <a href='vscode-notebook-cell:/home/simon/Git/MDCourse/python-codes/python-codes/tests.ipynb#W4sZmlsZQ%3D%3D?line=0'>1</a>\u001b[0m \u001b[39mself\u001b[39;49m\u001b[39m.\u001b[39;49mcalculate_LJ_potential_force(output \u001b[39m=\u001b[39;49m \u001b[39m\"\u001b[39;49m\u001b[39mforce-vector\u001b[39;49m\u001b[39m\"\u001b[39;49m)\n",
      "File \u001b[0;32m~/Git/MDCourse/python-codes/python-codes/Utilities.py:91\u001b[0m, in \u001b[0;36mUtilities.calculate_LJ_potential_force\u001b[0;34m(self, output)\u001b[0m\n\u001b[1;32m     89\u001b[0m \u001b[39m# Read information about neighbors j\u001b[39;00m\n\u001b[1;32m     90\u001b[0m positions_j \u001b[39m=\u001b[39m \u001b[39mself\u001b[39m\u001b[39m.\u001b[39matoms_positions[neighbor_of_i]\n\u001b[0;32m---> 91\u001b[0m sigma_j \u001b[39m=\u001b[39m \u001b[39mself\u001b[39;49m\u001b[39m.\u001b[39;49matoms_sigma[neighbor_of_i]\n\u001b[1;32m     92\u001b[0m epsilon_j \u001b[39m=\u001b[39m \u001b[39mself\u001b[39m\u001b[39m.\u001b[39matoms_epsilon[neighbor_of_i]\n\u001b[1;32m     93\u001b[0m \u001b[39m# Measure distances and other cross parameters\u001b[39;00m\n",
      "\u001b[0;31mIndexError\u001b[0m: index 7 is out of bounds for axis 0 with size 5"
     ]
    }
   ],
   "source": [
    "self.calculate_LJ_potential_force(output = \"force-vector\")"
   ]
  }
 ],
 "metadata": {
  "kernelspec": {
   "display_name": "Python 3",
   "language": "python",
   "name": "python3"
  },
  "language_info": {
   "codemirror_mode": {
    "name": "ipython",
    "version": 3
   },
   "file_extension": ".py",
   "mimetype": "text/x-python",
   "name": "python",
   "nbconvert_exporter": "python",
   "pygments_lexer": "ipython3",
   "version": "3.11.4"
  }
 },
 "nbformat": 4,
 "nbformat_minor": 4
}
