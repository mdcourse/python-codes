{
 "cells": [
  {
   "cell_type": "code",
   "execution_count": 5,
   "metadata": {},
   "outputs": [
    {
     "name": "stdout",
     "output_type": "stream",
     "text": [
      "normalized box size: [10. 10. 10.]\n",
      "first atom position: [ 0.36546066 -1.65788067  3.49811286]\n"
     ]
    }
   ],
   "source": [
    "from MolecularDynamics import MolecularDynamics\n",
    "\n",
    "md = MolecularDynamics(number_atoms=[20],\n",
    "                       Lx=30,\n",
    "                       sigma=[3],\n",
    "                       epsilon=[0.1],\n",
    "                       atom_mass=[1],\n",
    "                       data_folder = \"md-output/\")\n",
    "md.run()\n",
    "print(\"normalized box size:\", md.box_size)\n",
    "print(\"first atom position:\", md.atoms_positions[0])"
   ]
  }
 ],
 "metadata": {
  "kernelspec": {
   "display_name": "Python 3",
   "language": "python",
   "name": "python3"
  },
  "language_info": {
   "codemirror_mode": {
    "name": "ipython",
    "version": 3
   },
   "file_extension": ".py",
   "mimetype": "text/x-python",
   "name": "python",
   "nbconvert_exporter": "python",
   "pygments_lexer": "ipython3",
   "version": "3.11.4"
  }
 },
 "nbformat": 4,
 "nbformat_minor": 4
}
