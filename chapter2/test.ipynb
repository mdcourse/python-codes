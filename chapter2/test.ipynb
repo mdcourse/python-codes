{
 "cells": [
  {
   "cell_type": "code",
   "execution_count": 11,
   "metadata": {},
   "outputs": [
    {
     "name": "stdout",
     "output_type": "stream",
     "text": [
      "normalized epsilon value: 1.0\n",
      "normalized sigma value: 1.0\n",
      "normalized mass value: 1.0\n"
     ]
    }
   ],
   "source": [
    "from MolecularDynamics import MolecularDynamics\n",
    "\n",
    "md = MolecularDynamics(sigma=[3],\n",
    "                       epsilon=[0.1],\n",
    "                       atom_mass=[1],\n",
    "                       data_folder = \"md-output/\")\n",
    "md.run()\n",
    "print(\"normalized epsilon value:\", md.epsilon[0])\n",
    "print(\"normalized sigma value:\", md.sigma[0])\n",
    "print(\"normalized mass value:\", md.atom_mass[0])"
   ]
  }
 ],
 "metadata": {
  "kernelspec": {
   "display_name": "Python 3",
   "language": "python",
   "name": "python3"
  },
  "language_info": {
   "codemirror_mode": {
    "name": "ipython",
    "version": 3
   },
   "file_extension": ".py",
   "mimetype": "text/x-python",
   "name": "python",
   "nbconvert_exporter": "python",
   "pygments_lexer": "ipython3",
   "version": "3.11.4"
  }
 },
 "nbformat": 4,
 "nbformat_minor": 4
}
