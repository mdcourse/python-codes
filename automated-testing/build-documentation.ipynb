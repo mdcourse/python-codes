{
 "cells": [
  {
   "cell_type": "code",
   "execution_count": 82,
   "metadata": {},
   "outputs": [
    {
     "name": "stdout",
     "output_type": "stream",
     "text": [
      "[[2, 'Prepare'], [2, 'test_Prepare']]\n",
      "generated-codes/chapter2/Prepare.py\n",
      "[[2, 'Prepare'], [2, 'test_Prepare']]\n"
     ]
    }
   ],
   "source": [
    "import sys, os, git\n",
    "import shutil\n",
    "\n",
    "current_path = os.getcwd()\n",
    "git_repo = git.Repo(current_path, search_parent_directories=True)\n",
    "git_path = git_repo.git.rev_parse(\"--show-toplevel\")\n",
    "\n",
    "sys.path.append(git_path + \"/functions/\")\n",
    "\n",
    "path_to_docs = git_path + \"/mdcourse.github.io/docs/source/chapters/\"\n",
    "\n",
    "class_list = []\n",
    "for chapter_id in [1, 2, 3, 4, 5]:\n",
    "\n",
    "    folder = \"generated-codes/chapter\"+str(chapter_id)+\"/\"\n",
    "    if os.path.exists(folder) is False:\n",
    "        os.mkdir(folder)\n",
    "    if chapter_id > 1:\n",
    "        for my_id, class_name in class_list:\n",
    "            if \"test_\" not in class_name:\n",
    "                print(\"generated-codes/chapter\"+str(my_id)+\"/\"+class_name+\".py\")\n",
    "                shutil.copyfile(\"generated-codes/chapter\"+str(my_id)+\"/\"+class_name+\".py\",\n",
    "                                \"generated-codes/chapter\"+str(chapter_id)+\"/\"+class_name+\".py\")\n",
    "\n",
    "    filename = path_to_docs + \"chapter\"+str(chapter_id)+\".rst\"\n",
    "    if os.path.exists(filename):\n",
    "        file = open(filename, \"r\")\n",
    "        print_file = False\n",
    "        for line in file:\n",
    "            if \".. label::\" in line:\n",
    "                label = line.split(\".. label:: \")[1]\n",
    "                if label[:6] == \"start_\":\n",
    "                    class_name = label.split(\"start_\")[1].split(\"_class\")[0]\n",
    "                    class_list.append([chapter_id, class_name])\n",
    "                    print_file = True\n",
    "                    myclass = open(folder+class_name+\".py\", \"w\")\n",
    "                elif label[:4] == \"end_\":\n",
    "                    class_name = label.split(\"end_\")[1].split(\"_class\")[0]\n",
    "                    print_file = False\n",
    "                    myclass.close()\n",
    "            else:\n",
    "                if print_file:\n",
    "                    if \".. code-block::\" not in line:\n",
    "                        if len(line) > 1:\n",
    "                            myclass.write(line[4:])\n",
    "                        else:\n",
    "                            myclass.write(line)"
   ]
  }
 ],
 "metadata": {
  "kernelspec": {
   "display_name": "Python 3",
   "language": "python",
   "name": "python3"
  },
  "language_info": {
   "codemirror_mode": {
    "name": "ipython",
    "version": 3
   },
   "file_extension": ".py",
   "mimetype": "text/x-python",
   "name": "python",
   "nbconvert_exporter": "python",
   "pygments_lexer": "ipython3",
   "version": "3.11.4"
  }
 },
 "nbformat": 4,
 "nbformat_minor": 2
}
